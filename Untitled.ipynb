{
 "cells": [
  {
   "cell_type": "markdown",
   "metadata": {},
   "source": [
    "## Importing important modules"
   ]
  },
  {
   "cell_type": "code",
   "execution_count": 33,
   "metadata": {},
   "outputs": [],
   "source": [
    "import numpy as np\n",
    "import pandas as pd\n",
    "import seaborn as sns\n",
    "import matplotlib.pyplot as plt\n",
    "import seaborn as sns\n",
    "import plotly.express as px\n",
    "from tabulate import tabulate"
   ]
  },
  {
   "cell_type": "markdown",
   "metadata": {},
   "source": [
    "## Loading the dataset"
   ]
  },
  {
   "cell_type": "code",
   "execution_count": 2,
   "metadata": {},
   "outputs": [],
   "source": [
    "data = pd.read_csv(r'HR-Employee-Attrition - Copy.csv',header=0)"
   ]
  },
  {
   "cell_type": "code",
   "execution_count": 3,
   "metadata": {},
   "outputs": [
    {
     "data": {
      "text/html": [
       "<div>\n",
       "<style scoped>\n",
       "    .dataframe tbody tr th:only-of-type {\n",
       "        vertical-align: middle;\n",
       "    }\n",
       "\n",
       "    .dataframe tbody tr th {\n",
       "        vertical-align: top;\n",
       "    }\n",
       "\n",
       "    .dataframe thead th {\n",
       "        text-align: right;\n",
       "    }\n",
       "</style>\n",
       "<table border=\"1\" class=\"dataframe\">\n",
       "  <thead>\n",
       "    <tr style=\"text-align: right;\">\n",
       "      <th></th>\n",
       "      <th>Age</th>\n",
       "      <th>Attrition</th>\n",
       "      <th>BusinessTravel</th>\n",
       "      <th>DailyRate</th>\n",
       "      <th>Department</th>\n",
       "      <th>DistanceFromHome</th>\n",
       "      <th>Education</th>\n",
       "      <th>EducationField</th>\n",
       "      <th>EmployeeCount</th>\n",
       "      <th>EmployeeNumber</th>\n",
       "      <th>...</th>\n",
       "      <th>RelationshipSatisfaction</th>\n",
       "      <th>StandardHours</th>\n",
       "      <th>StockOptionLevel</th>\n",
       "      <th>TotalWorkingYears</th>\n",
       "      <th>TrainingTimesLastYear</th>\n",
       "      <th>WorkLifeBalance</th>\n",
       "      <th>YearsAtCompany</th>\n",
       "      <th>YearsInCurrentRole</th>\n",
       "      <th>YearsSinceLastPromotion</th>\n",
       "      <th>YearsWithCurrManager</th>\n",
       "    </tr>\n",
       "  </thead>\n",
       "  <tbody>\n",
       "    <tr>\n",
       "      <th>0</th>\n",
       "      <td>41</td>\n",
       "      <td>Yes</td>\n",
       "      <td>Travel_Rarely</td>\n",
       "      <td>1102</td>\n",
       "      <td>Sales</td>\n",
       "      <td>1</td>\n",
       "      <td>2</td>\n",
       "      <td>Life Sciences</td>\n",
       "      <td>1</td>\n",
       "      <td>1</td>\n",
       "      <td>...</td>\n",
       "      <td>1</td>\n",
       "      <td>80</td>\n",
       "      <td>0</td>\n",
       "      <td>8</td>\n",
       "      <td>0</td>\n",
       "      <td>1</td>\n",
       "      <td>6</td>\n",
       "      <td>4</td>\n",
       "      <td>0</td>\n",
       "      <td>5</td>\n",
       "    </tr>\n",
       "    <tr>\n",
       "      <th>1</th>\n",
       "      <td>49</td>\n",
       "      <td>No</td>\n",
       "      <td>Travel_Frequently</td>\n",
       "      <td>279</td>\n",
       "      <td>Research &amp; Development</td>\n",
       "      <td>8</td>\n",
       "      <td>1</td>\n",
       "      <td>Life Sciences</td>\n",
       "      <td>1</td>\n",
       "      <td>2</td>\n",
       "      <td>...</td>\n",
       "      <td>4</td>\n",
       "      <td>80</td>\n",
       "      <td>1</td>\n",
       "      <td>10</td>\n",
       "      <td>3</td>\n",
       "      <td>3</td>\n",
       "      <td>10</td>\n",
       "      <td>7</td>\n",
       "      <td>1</td>\n",
       "      <td>7</td>\n",
       "    </tr>\n",
       "    <tr>\n",
       "      <th>2</th>\n",
       "      <td>37</td>\n",
       "      <td>Yes</td>\n",
       "      <td>Travel_Rarely</td>\n",
       "      <td>1373</td>\n",
       "      <td>Research &amp; Development</td>\n",
       "      <td>2</td>\n",
       "      <td>2</td>\n",
       "      <td>Other</td>\n",
       "      <td>1</td>\n",
       "      <td>4</td>\n",
       "      <td>...</td>\n",
       "      <td>2</td>\n",
       "      <td>80</td>\n",
       "      <td>0</td>\n",
       "      <td>7</td>\n",
       "      <td>3</td>\n",
       "      <td>3</td>\n",
       "      <td>0</td>\n",
       "      <td>0</td>\n",
       "      <td>0</td>\n",
       "      <td>0</td>\n",
       "    </tr>\n",
       "    <tr>\n",
       "      <th>3</th>\n",
       "      <td>33</td>\n",
       "      <td>No</td>\n",
       "      <td>Travel_Frequently</td>\n",
       "      <td>1392</td>\n",
       "      <td>Research &amp; Development</td>\n",
       "      <td>3</td>\n",
       "      <td>4</td>\n",
       "      <td>Life Sciences</td>\n",
       "      <td>1</td>\n",
       "      <td>5</td>\n",
       "      <td>...</td>\n",
       "      <td>3</td>\n",
       "      <td>80</td>\n",
       "      <td>0</td>\n",
       "      <td>8</td>\n",
       "      <td>3</td>\n",
       "      <td>3</td>\n",
       "      <td>8</td>\n",
       "      <td>7</td>\n",
       "      <td>3</td>\n",
       "      <td>0</td>\n",
       "    </tr>\n",
       "    <tr>\n",
       "      <th>4</th>\n",
       "      <td>27</td>\n",
       "      <td>No</td>\n",
       "      <td>Travel_Rarely</td>\n",
       "      <td>591</td>\n",
       "      <td>Research &amp; Development</td>\n",
       "      <td>2</td>\n",
       "      <td>1</td>\n",
       "      <td>Medical</td>\n",
       "      <td>1</td>\n",
       "      <td>7</td>\n",
       "      <td>...</td>\n",
       "      <td>4</td>\n",
       "      <td>80</td>\n",
       "      <td>1</td>\n",
       "      <td>6</td>\n",
       "      <td>3</td>\n",
       "      <td>3</td>\n",
       "      <td>2</td>\n",
       "      <td>2</td>\n",
       "      <td>2</td>\n",
       "      <td>2</td>\n",
       "    </tr>\n",
       "  </tbody>\n",
       "</table>\n",
       "<p>5 rows × 35 columns</p>\n",
       "</div>"
      ],
      "text/plain": [
       "   Age Attrition     BusinessTravel  DailyRate              Department  \\\n",
       "0   41       Yes      Travel_Rarely       1102                   Sales   \n",
       "1   49        No  Travel_Frequently        279  Research & Development   \n",
       "2   37       Yes      Travel_Rarely       1373  Research & Development   \n",
       "3   33        No  Travel_Frequently       1392  Research & Development   \n",
       "4   27        No      Travel_Rarely        591  Research & Development   \n",
       "\n",
       "   DistanceFromHome  Education EducationField  EmployeeCount  EmployeeNumber  \\\n",
       "0                 1          2  Life Sciences              1               1   \n",
       "1                 8          1  Life Sciences              1               2   \n",
       "2                 2          2          Other              1               4   \n",
       "3                 3          4  Life Sciences              1               5   \n",
       "4                 2          1        Medical              1               7   \n",
       "\n",
       "   ...  RelationshipSatisfaction StandardHours  StockOptionLevel  \\\n",
       "0  ...                         1            80                 0   \n",
       "1  ...                         4            80                 1   \n",
       "2  ...                         2            80                 0   \n",
       "3  ...                         3            80                 0   \n",
       "4  ...                         4            80                 1   \n",
       "\n",
       "   TotalWorkingYears  TrainingTimesLastYear WorkLifeBalance  YearsAtCompany  \\\n",
       "0                  8                      0               1               6   \n",
       "1                 10                      3               3              10   \n",
       "2                  7                      3               3               0   \n",
       "3                  8                      3               3               8   \n",
       "4                  6                      3               3               2   \n",
       "\n",
       "  YearsInCurrentRole  YearsSinceLastPromotion  YearsWithCurrManager  \n",
       "0                  4                        0                     5  \n",
       "1                  7                        1                     7  \n",
       "2                  0                        0                     0  \n",
       "3                  7                        3                     0  \n",
       "4                  2                        2                     2  \n",
       "\n",
       "[5 rows x 35 columns]"
      ]
     },
     "execution_count": 3,
     "metadata": {},
     "output_type": "execute_result"
    }
   ],
   "source": [
    "data.head()"
   ]
  },
  {
   "cell_type": "code",
   "execution_count": 4,
   "metadata": {},
   "outputs": [
    {
     "name": "stdout",
     "output_type": "stream",
     "text": [
      "<class 'pandas.core.frame.DataFrame'>\n",
      "RangeIndex: 1470 entries, 0 to 1469\n",
      "Data columns (total 35 columns):\n",
      " #   Column                    Non-Null Count  Dtype \n",
      "---  ------                    --------------  ----- \n",
      " 0   Age                       1470 non-null   int64 \n",
      " 1   Attrition                 1470 non-null   object\n",
      " 2   BusinessTravel            1470 non-null   object\n",
      " 3   DailyRate                 1470 non-null   int64 \n",
      " 4   Department                1470 non-null   object\n",
      " 5   DistanceFromHome          1470 non-null   int64 \n",
      " 6   Education                 1470 non-null   int64 \n",
      " 7   EducationField            1470 non-null   object\n",
      " 8   EmployeeCount             1470 non-null   int64 \n",
      " 9   EmployeeNumber            1470 non-null   int64 \n",
      " 10  EnvironmentSatisfaction   1470 non-null   int64 \n",
      " 11  Gender                    1470 non-null   object\n",
      " 12  HourlyRate                1470 non-null   int64 \n",
      " 13  JobInvolvement            1470 non-null   int64 \n",
      " 14  JobLevel                  1470 non-null   int64 \n",
      " 15  JobRole                   1470 non-null   object\n",
      " 16  JobSatisfaction           1470 non-null   int64 \n",
      " 17  MaritalStatus             1470 non-null   object\n",
      " 18  MonthlyIncome             1470 non-null   int64 \n",
      " 19  MonthlyRate               1470 non-null   int64 \n",
      " 20  NumCompaniesWorked        1470 non-null   int64 \n",
      " 21  Over18                    1470 non-null   object\n",
      " 22  OverTime                  1470 non-null   object\n",
      " 23  PercentSalaryHike         1470 non-null   int64 \n",
      " 24  PerformanceRating         1470 non-null   int64 \n",
      " 25  RelationshipSatisfaction  1470 non-null   int64 \n",
      " 26  StandardHours             1470 non-null   int64 \n",
      " 27  StockOptionLevel          1470 non-null   int64 \n",
      " 28  TotalWorkingYears         1470 non-null   int64 \n",
      " 29  TrainingTimesLastYear     1470 non-null   int64 \n",
      " 30  WorkLifeBalance           1470 non-null   int64 \n",
      " 31  YearsAtCompany            1470 non-null   int64 \n",
      " 32  YearsInCurrentRole        1470 non-null   int64 \n",
      " 33  YearsSinceLastPromotion   1470 non-null   int64 \n",
      " 34  YearsWithCurrManager      1470 non-null   int64 \n",
      "dtypes: int64(26), object(9)\n",
      "memory usage: 402.1+ KB\n"
     ]
    }
   ],
   "source": [
    "data.info()"
   ]
  },
  {
   "cell_type": "markdown",
   "metadata": {},
   "source": [
    "## Exploratory Data Analysis (EDA) "
   ]
  },
  {
   "cell_type": "code",
   "execution_count": 5,
   "metadata": {},
   "outputs": [
    {
     "data": {
      "text/html": [
       "<div>\n",
       "<style scoped>\n",
       "    .dataframe tbody tr th:only-of-type {\n",
       "        vertical-align: middle;\n",
       "    }\n",
       "\n",
       "    .dataframe tbody tr th {\n",
       "        vertical-align: top;\n",
       "    }\n",
       "\n",
       "    .dataframe thead th {\n",
       "        text-align: right;\n",
       "    }\n",
       "</style>\n",
       "<table border=\"1\" class=\"dataframe\">\n",
       "  <thead>\n",
       "    <tr style=\"text-align: right;\">\n",
       "      <th></th>\n",
       "      <th>Age</th>\n",
       "      <th>DailyRate</th>\n",
       "      <th>DistanceFromHome</th>\n",
       "      <th>Education</th>\n",
       "      <th>EmployeeCount</th>\n",
       "      <th>EmployeeNumber</th>\n",
       "      <th>EnvironmentSatisfaction</th>\n",
       "      <th>HourlyRate</th>\n",
       "      <th>JobInvolvement</th>\n",
       "      <th>JobLevel</th>\n",
       "      <th>...</th>\n",
       "      <th>RelationshipSatisfaction</th>\n",
       "      <th>StandardHours</th>\n",
       "      <th>StockOptionLevel</th>\n",
       "      <th>TotalWorkingYears</th>\n",
       "      <th>TrainingTimesLastYear</th>\n",
       "      <th>WorkLifeBalance</th>\n",
       "      <th>YearsAtCompany</th>\n",
       "      <th>YearsInCurrentRole</th>\n",
       "      <th>YearsSinceLastPromotion</th>\n",
       "      <th>YearsWithCurrManager</th>\n",
       "    </tr>\n",
       "  </thead>\n",
       "  <tbody>\n",
       "    <tr>\n",
       "      <th>count</th>\n",
       "      <td>1470.000000</td>\n",
       "      <td>1470.000000</td>\n",
       "      <td>1470.000000</td>\n",
       "      <td>1470.000000</td>\n",
       "      <td>1470.0</td>\n",
       "      <td>1470.000000</td>\n",
       "      <td>1470.000000</td>\n",
       "      <td>1470.000000</td>\n",
       "      <td>1470.000000</td>\n",
       "      <td>1470.000000</td>\n",
       "      <td>...</td>\n",
       "      <td>1470.000000</td>\n",
       "      <td>1470.0</td>\n",
       "      <td>1470.000000</td>\n",
       "      <td>1470.000000</td>\n",
       "      <td>1470.000000</td>\n",
       "      <td>1470.000000</td>\n",
       "      <td>1470.000000</td>\n",
       "      <td>1470.000000</td>\n",
       "      <td>1470.000000</td>\n",
       "      <td>1470.000000</td>\n",
       "    </tr>\n",
       "    <tr>\n",
       "      <th>mean</th>\n",
       "      <td>36.923810</td>\n",
       "      <td>802.485714</td>\n",
       "      <td>9.192517</td>\n",
       "      <td>2.912925</td>\n",
       "      <td>1.0</td>\n",
       "      <td>1024.865306</td>\n",
       "      <td>2.721769</td>\n",
       "      <td>65.891156</td>\n",
       "      <td>2.729932</td>\n",
       "      <td>2.063946</td>\n",
       "      <td>...</td>\n",
       "      <td>2.712245</td>\n",
       "      <td>80.0</td>\n",
       "      <td>0.793878</td>\n",
       "      <td>11.279592</td>\n",
       "      <td>2.799320</td>\n",
       "      <td>2.761224</td>\n",
       "      <td>7.008163</td>\n",
       "      <td>4.229252</td>\n",
       "      <td>2.187755</td>\n",
       "      <td>4.123129</td>\n",
       "    </tr>\n",
       "    <tr>\n",
       "      <th>std</th>\n",
       "      <td>9.135373</td>\n",
       "      <td>403.509100</td>\n",
       "      <td>8.106864</td>\n",
       "      <td>1.024165</td>\n",
       "      <td>0.0</td>\n",
       "      <td>602.024335</td>\n",
       "      <td>1.093082</td>\n",
       "      <td>20.329428</td>\n",
       "      <td>0.711561</td>\n",
       "      <td>1.106940</td>\n",
       "      <td>...</td>\n",
       "      <td>1.081209</td>\n",
       "      <td>0.0</td>\n",
       "      <td>0.852077</td>\n",
       "      <td>7.780782</td>\n",
       "      <td>1.289271</td>\n",
       "      <td>0.706476</td>\n",
       "      <td>6.126525</td>\n",
       "      <td>3.623137</td>\n",
       "      <td>3.222430</td>\n",
       "      <td>3.568136</td>\n",
       "    </tr>\n",
       "    <tr>\n",
       "      <th>min</th>\n",
       "      <td>18.000000</td>\n",
       "      <td>102.000000</td>\n",
       "      <td>1.000000</td>\n",
       "      <td>1.000000</td>\n",
       "      <td>1.0</td>\n",
       "      <td>1.000000</td>\n",
       "      <td>1.000000</td>\n",
       "      <td>30.000000</td>\n",
       "      <td>1.000000</td>\n",
       "      <td>1.000000</td>\n",
       "      <td>...</td>\n",
       "      <td>1.000000</td>\n",
       "      <td>80.0</td>\n",
       "      <td>0.000000</td>\n",
       "      <td>0.000000</td>\n",
       "      <td>0.000000</td>\n",
       "      <td>1.000000</td>\n",
       "      <td>0.000000</td>\n",
       "      <td>0.000000</td>\n",
       "      <td>0.000000</td>\n",
       "      <td>0.000000</td>\n",
       "    </tr>\n",
       "    <tr>\n",
       "      <th>25%</th>\n",
       "      <td>30.000000</td>\n",
       "      <td>465.000000</td>\n",
       "      <td>2.000000</td>\n",
       "      <td>2.000000</td>\n",
       "      <td>1.0</td>\n",
       "      <td>491.250000</td>\n",
       "      <td>2.000000</td>\n",
       "      <td>48.000000</td>\n",
       "      <td>2.000000</td>\n",
       "      <td>1.000000</td>\n",
       "      <td>...</td>\n",
       "      <td>2.000000</td>\n",
       "      <td>80.0</td>\n",
       "      <td>0.000000</td>\n",
       "      <td>6.000000</td>\n",
       "      <td>2.000000</td>\n",
       "      <td>2.000000</td>\n",
       "      <td>3.000000</td>\n",
       "      <td>2.000000</td>\n",
       "      <td>0.000000</td>\n",
       "      <td>2.000000</td>\n",
       "    </tr>\n",
       "    <tr>\n",
       "      <th>50%</th>\n",
       "      <td>36.000000</td>\n",
       "      <td>802.000000</td>\n",
       "      <td>7.000000</td>\n",
       "      <td>3.000000</td>\n",
       "      <td>1.0</td>\n",
       "      <td>1020.500000</td>\n",
       "      <td>3.000000</td>\n",
       "      <td>66.000000</td>\n",
       "      <td>3.000000</td>\n",
       "      <td>2.000000</td>\n",
       "      <td>...</td>\n",
       "      <td>3.000000</td>\n",
       "      <td>80.0</td>\n",
       "      <td>1.000000</td>\n",
       "      <td>10.000000</td>\n",
       "      <td>3.000000</td>\n",
       "      <td>3.000000</td>\n",
       "      <td>5.000000</td>\n",
       "      <td>3.000000</td>\n",
       "      <td>1.000000</td>\n",
       "      <td>3.000000</td>\n",
       "    </tr>\n",
       "    <tr>\n",
       "      <th>75%</th>\n",
       "      <td>43.000000</td>\n",
       "      <td>1157.000000</td>\n",
       "      <td>14.000000</td>\n",
       "      <td>4.000000</td>\n",
       "      <td>1.0</td>\n",
       "      <td>1555.750000</td>\n",
       "      <td>4.000000</td>\n",
       "      <td>83.750000</td>\n",
       "      <td>3.000000</td>\n",
       "      <td>3.000000</td>\n",
       "      <td>...</td>\n",
       "      <td>4.000000</td>\n",
       "      <td>80.0</td>\n",
       "      <td>1.000000</td>\n",
       "      <td>15.000000</td>\n",
       "      <td>3.000000</td>\n",
       "      <td>3.000000</td>\n",
       "      <td>9.000000</td>\n",
       "      <td>7.000000</td>\n",
       "      <td>3.000000</td>\n",
       "      <td>7.000000</td>\n",
       "    </tr>\n",
       "    <tr>\n",
       "      <th>max</th>\n",
       "      <td>60.000000</td>\n",
       "      <td>1499.000000</td>\n",
       "      <td>29.000000</td>\n",
       "      <td>5.000000</td>\n",
       "      <td>1.0</td>\n",
       "      <td>2068.000000</td>\n",
       "      <td>4.000000</td>\n",
       "      <td>100.000000</td>\n",
       "      <td>4.000000</td>\n",
       "      <td>5.000000</td>\n",
       "      <td>...</td>\n",
       "      <td>4.000000</td>\n",
       "      <td>80.0</td>\n",
       "      <td>3.000000</td>\n",
       "      <td>40.000000</td>\n",
       "      <td>6.000000</td>\n",
       "      <td>4.000000</td>\n",
       "      <td>40.000000</td>\n",
       "      <td>18.000000</td>\n",
       "      <td>15.000000</td>\n",
       "      <td>17.000000</td>\n",
       "    </tr>\n",
       "  </tbody>\n",
       "</table>\n",
       "<p>8 rows × 26 columns</p>\n",
       "</div>"
      ],
      "text/plain": [
       "               Age    DailyRate  DistanceFromHome    Education  EmployeeCount  \\\n",
       "count  1470.000000  1470.000000       1470.000000  1470.000000         1470.0   \n",
       "mean     36.923810   802.485714          9.192517     2.912925            1.0   \n",
       "std       9.135373   403.509100          8.106864     1.024165            0.0   \n",
       "min      18.000000   102.000000          1.000000     1.000000            1.0   \n",
       "25%      30.000000   465.000000          2.000000     2.000000            1.0   \n",
       "50%      36.000000   802.000000          7.000000     3.000000            1.0   \n",
       "75%      43.000000  1157.000000         14.000000     4.000000            1.0   \n",
       "max      60.000000  1499.000000         29.000000     5.000000            1.0   \n",
       "\n",
       "       EmployeeNumber  EnvironmentSatisfaction   HourlyRate  JobInvolvement  \\\n",
       "count     1470.000000              1470.000000  1470.000000     1470.000000   \n",
       "mean      1024.865306                 2.721769    65.891156        2.729932   \n",
       "std        602.024335                 1.093082    20.329428        0.711561   \n",
       "min          1.000000                 1.000000    30.000000        1.000000   \n",
       "25%        491.250000                 2.000000    48.000000        2.000000   \n",
       "50%       1020.500000                 3.000000    66.000000        3.000000   \n",
       "75%       1555.750000                 4.000000    83.750000        3.000000   \n",
       "max       2068.000000                 4.000000   100.000000        4.000000   \n",
       "\n",
       "          JobLevel  ...  RelationshipSatisfaction  StandardHours  \\\n",
       "count  1470.000000  ...               1470.000000         1470.0   \n",
       "mean      2.063946  ...                  2.712245           80.0   \n",
       "std       1.106940  ...                  1.081209            0.0   \n",
       "min       1.000000  ...                  1.000000           80.0   \n",
       "25%       1.000000  ...                  2.000000           80.0   \n",
       "50%       2.000000  ...                  3.000000           80.0   \n",
       "75%       3.000000  ...                  4.000000           80.0   \n",
       "max       5.000000  ...                  4.000000           80.0   \n",
       "\n",
       "       StockOptionLevel  TotalWorkingYears  TrainingTimesLastYear  \\\n",
       "count       1470.000000        1470.000000            1470.000000   \n",
       "mean           0.793878          11.279592               2.799320   \n",
       "std            0.852077           7.780782               1.289271   \n",
       "min            0.000000           0.000000               0.000000   \n",
       "25%            0.000000           6.000000               2.000000   \n",
       "50%            1.000000          10.000000               3.000000   \n",
       "75%            1.000000          15.000000               3.000000   \n",
       "max            3.000000          40.000000               6.000000   \n",
       "\n",
       "       WorkLifeBalance  YearsAtCompany  YearsInCurrentRole  \\\n",
       "count      1470.000000     1470.000000         1470.000000   \n",
       "mean          2.761224        7.008163            4.229252   \n",
       "std           0.706476        6.126525            3.623137   \n",
       "min           1.000000        0.000000            0.000000   \n",
       "25%           2.000000        3.000000            2.000000   \n",
       "50%           3.000000        5.000000            3.000000   \n",
       "75%           3.000000        9.000000            7.000000   \n",
       "max           4.000000       40.000000           18.000000   \n",
       "\n",
       "       YearsSinceLastPromotion  YearsWithCurrManager  \n",
       "count              1470.000000           1470.000000  \n",
       "mean                  2.187755              4.123129  \n",
       "std                   3.222430              3.568136  \n",
       "min                   0.000000              0.000000  \n",
       "25%                   0.000000              2.000000  \n",
       "50%                   1.000000              3.000000  \n",
       "75%                   3.000000              7.000000  \n",
       "max                  15.000000             17.000000  \n",
       "\n",
       "[8 rows x 26 columns]"
      ]
     },
     "execution_count": 5,
     "metadata": {},
     "output_type": "execute_result"
    }
   ],
   "source": [
    "data.describe()"
   ]
  },
  {
   "cell_type": "code",
   "execution_count": 6,
   "metadata": {},
   "outputs": [
    {
     "data": {
      "text/plain": [
       "(1470, 35)"
      ]
     },
     "execution_count": 6,
     "metadata": {},
     "output_type": "execute_result"
    }
   ],
   "source": [
    "data.shape"
   ]
  },
  {
   "cell_type": "markdown",
   "metadata": {},
   "source": [
    "## Checking for missing values"
   ]
  },
  {
   "cell_type": "code",
   "execution_count": 7,
   "metadata": {},
   "outputs": [
    {
     "data": {
      "text/plain": [
       "Age                         0\n",
       "Attrition                   0\n",
       "BusinessTravel              0\n",
       "DailyRate                   0\n",
       "Department                  0\n",
       "DistanceFromHome            0\n",
       "Education                   0\n",
       "EducationField              0\n",
       "EmployeeCount               0\n",
       "EmployeeNumber              0\n",
       "EnvironmentSatisfaction     0\n",
       "Gender                      0\n",
       "HourlyRate                  0\n",
       "JobInvolvement              0\n",
       "JobLevel                    0\n",
       "JobRole                     0\n",
       "JobSatisfaction             0\n",
       "MaritalStatus               0\n",
       "MonthlyIncome               0\n",
       "MonthlyRate                 0\n",
       "NumCompaniesWorked          0\n",
       "Over18                      0\n",
       "OverTime                    0\n",
       "PercentSalaryHike           0\n",
       "PerformanceRating           0\n",
       "RelationshipSatisfaction    0\n",
       "StandardHours               0\n",
       "StockOptionLevel            0\n",
       "TotalWorkingYears           0\n",
       "TrainingTimesLastYear       0\n",
       "WorkLifeBalance             0\n",
       "YearsAtCompany              0\n",
       "YearsInCurrentRole          0\n",
       "YearsSinceLastPromotion     0\n",
       "YearsWithCurrManager        0\n",
       "dtype: int64"
      ]
     },
     "execution_count": 7,
     "metadata": {},
     "output_type": "execute_result"
    }
   ],
   "source": [
    "data.isnull().sum()"
   ]
  },
  {
   "cell_type": "markdown",
   "metadata": {},
   "source": [
    "## Checking the data types of the columns "
   ]
  },
  {
   "cell_type": "code",
   "execution_count": 8,
   "metadata": {},
   "outputs": [
    {
     "data": {
      "text/plain": [
       "Age                          int64\n",
       "Attrition                   object\n",
       "BusinessTravel              object\n",
       "DailyRate                    int64\n",
       "Department                  object\n",
       "DistanceFromHome             int64\n",
       "Education                    int64\n",
       "EducationField              object\n",
       "EmployeeCount                int64\n",
       "EmployeeNumber               int64\n",
       "EnvironmentSatisfaction      int64\n",
       "Gender                      object\n",
       "HourlyRate                   int64\n",
       "JobInvolvement               int64\n",
       "JobLevel                     int64\n",
       "JobRole                     object\n",
       "JobSatisfaction              int64\n",
       "MaritalStatus               object\n",
       "MonthlyIncome                int64\n",
       "MonthlyRate                  int64\n",
       "NumCompaniesWorked           int64\n",
       "Over18                      object\n",
       "OverTime                    object\n",
       "PercentSalaryHike            int64\n",
       "PerformanceRating            int64\n",
       "RelationshipSatisfaction     int64\n",
       "StandardHours                int64\n",
       "StockOptionLevel             int64\n",
       "TotalWorkingYears            int64\n",
       "TrainingTimesLastYear        int64\n",
       "WorkLifeBalance              int64\n",
       "YearsAtCompany               int64\n",
       "YearsInCurrentRole           int64\n",
       "YearsSinceLastPromotion      int64\n",
       "YearsWithCurrManager         int64\n",
       "dtype: object"
      ]
     },
     "execution_count": 8,
     "metadata": {},
     "output_type": "execute_result"
    }
   ],
   "source": [
    "data.dtypes"
   ]
  },
  {
   "cell_type": "markdown",
   "metadata": {},
   "source": [
    "## Cheking for outliers"
   ]
  },
  {
   "cell_type": "code",
   "execution_count": 9,
   "metadata": {},
   "outputs": [
    {
     "data": {
      "text/plain": [
       "(array([ 1,  2,  3,  4,  5,  6,  7,  8,  9, 10, 11, 12, 13, 14, 15, 16, 17,\n",
       "        18, 19, 20, 21, 22, 23, 24, 25, 26]),\n",
       " [Text(1, 0, 'Age'),\n",
       "  Text(2, 0, 'DailyRate'),\n",
       "  Text(3, 0, 'DistanceFromHome'),\n",
       "  Text(4, 0, 'Education'),\n",
       "  Text(5, 0, 'EmployeeCount'),\n",
       "  Text(6, 0, 'EmployeeNumber'),\n",
       "  Text(7, 0, 'EnvironmentSatisfaction'),\n",
       "  Text(8, 0, 'HourlyRate'),\n",
       "  Text(9, 0, 'JobInvolvement'),\n",
       "  Text(10, 0, 'JobLevel'),\n",
       "  Text(11, 0, 'JobSatisfaction'),\n",
       "  Text(12, 0, 'MonthlyIncome'),\n",
       "  Text(13, 0, 'MonthlyRate'),\n",
       "  Text(14, 0, 'NumCompaniesWorked'),\n",
       "  Text(15, 0, 'PercentSalaryHike'),\n",
       "  Text(16, 0, 'PerformanceRating'),\n",
       "  Text(17, 0, 'RelationshipSatisfaction'),\n",
       "  Text(18, 0, 'StandardHours'),\n",
       "  Text(19, 0, 'StockOptionLevel'),\n",
       "  Text(20, 0, 'TotalWorkingYears'),\n",
       "  Text(21, 0, 'TrainingTimesLastYear'),\n",
       "  Text(22, 0, 'WorkLifeBalance'),\n",
       "  Text(23, 0, 'YearsAtCompany'),\n",
       "  Text(24, 0, 'YearsInCurrentRole'),\n",
       "  Text(25, 0, 'YearsSinceLastPromotion'),\n",
       "  Text(26, 0, 'YearsWithCurrManager')])"
      ]
     },
     "execution_count": 9,
     "metadata": {},
     "output_type": "execute_result"
    },
    {
     "data": {
      "image/png": "[encoded data removed]",
      "text/plain": [
       "<Figure size 432x288 with 1 Axes>"
      ]
     },
     "metadata": {
      "needs_background": "light"
     },
     "output_type": "display_data"
    }
   ],
   "source": [
    "data.boxplot(figsize=(20,8))\n",
    "plt.xticks(rotation=90)"
   ]
  },
  {
   "cell_type": "markdown",
   "metadata": {},
   "source": [
    "## Removing Outliers"
   ]
  },
  {
   "cell_type": "code",
   "execution_count": 10,
   "metadata": {},
   "outputs": [],
   "source": [
    "for i in data.columns:\n",
    "    if data[i].dtype == 'int64':\n",
    "        q1 = data[i].quantile(0.25)\n",
    "        q3 = data[i].quantile(0.75)\n",
    "        iqr = q3 - q1\n",
    "        low = q1 - 1.5*iqr\n",
    "        high = q3 + 1.5*iqr\n",
    "        data[i] = data[i].clip(lower=low, upper=high)"
   ]
  },
  {
   "cell_type": "markdown",
   "metadata": {},
   "source": [
    "## Checking for outliers "
   ]
  },
  {
   "cell_type": "code",
   "execution_count": 11,
   "metadata": {},
   "outputs": [
    {
     "data": {
      "text/plain": [
       "(array([ 1,  2,  3,  4,  5,  6,  7,  8,  9, 10, 11, 12, 13, 14, 15, 16, 17,\n",
       "        18, 19, 20, 21, 22, 23, 24, 25, 26]),\n",
       " [Text(1, 0, 'Age'),\n",
       "  Text(2, 0, 'DailyRate'),\n",
       "  Text(3, 0, 'DistanceFromHome'),\n",
       "  Text(4, 0, 'Education'),\n",
       "  Text(5, 0, 'EmployeeCount'),\n",
       "  Text(6, 0, 'EmployeeNumber'),\n",
       "  Text(7, 0, 'EnvironmentSatisfaction'),\n",
       "  Text(8, 0, 'HourlyRate'),\n",
       "  Text(9, 0, 'JobInvolvement'),\n",
       "  Text(10, 0, 'JobLevel'),\n",
       "  Text(11, 0, 'JobSatisfaction'),\n",
       "  Text(12, 0, 'MonthlyIncome'),\n",
       "  Text(13, 0, 'MonthlyRate'),\n",
       "  Text(14, 0, 'NumCompaniesWorked'),\n",
       "  Text(15, 0, 'PercentSalaryHike'),\n",
       "  Text(16, 0, 'PerformanceRating'),\n",
       "  Text(17, 0, 'RelationshipSatisfaction'),\n",
       "  Text(18, 0, 'StandardHours'),\n",
       "  Text(19, 0, 'StockOptionLevel'),\n",
       "  Text(20, 0, 'TotalWorkingYears'),\n",
       "  Text(21, 0, 'TrainingTimesLastYear'),\n",
       "  Text(22, 0, 'WorkLifeBalance'),\n",
       "  Text(23, 0, 'YearsAtCompany'),\n",
       "  Text(24, 0, 'YearsInCurrentRole'),\n",
       "  Text(25, 0, 'YearsSinceLastPromotion'),\n",
       "  Text(26, 0, 'YearsWithCurrManager')])"
      ]
     },
     "execution_count": 11,
     "metadata": {},
     "output_type": "execute_result"
    },
    {
     "data": {
      "image/png": "[encoded data removed]",
      "text/plain": [
       "<Figure size 2000x800 with 1 Axes>"
      ]
     },
     "metadata": {},
     "output_type": "display_data"
    }
   ],
   "source": [
    "data.boxplot(figsize=(20,8))\n",
    "plt.xticks(rotation=90)"
   ]
  },
  {
   "cell_type": "markdown",
   "metadata": {},
   "source": [
    "## Dropping the column "
   ]
  },
  {
   "cell_type": "code",
   "execution_count": 12,
   "metadata": {},
   "outputs": [],
   "source": [
    "data.drop(['EmployeeCount', 'EmployeeNumber', 'StandardHours'], axis=1, inplace=True)"
   ]
  },
  {
   "cell_type": "code",
   "execution_count": 13,
   "metadata": {},
   "outputs": [
    {
     "data": {
      "text/plain": [
       "Index(['Age', 'Attrition', 'BusinessTravel', 'DailyRate', 'Department',\n",
       "       'DistanceFromHome', 'Education', 'EducationField',\n",
       "       'EnvironmentSatisfaction', 'Gender', 'HourlyRate', 'JobInvolvement',\n",
       "       'JobLevel', 'JobRole', 'JobSatisfaction', 'MaritalStatus',\n",
       "       'MonthlyIncome', 'MonthlyRate', 'NumCompaniesWorked', 'Over18',\n",
       "       'OverTime', 'PercentSalaryHike', 'PerformanceRating',\n",
       "       'RelationshipSatisfaction', 'StockOptionLevel', 'TotalWorkingYears',\n",
       "       'TrainingTimesLastYear', 'WorkLifeBalance', 'YearsAtCompany',\n",
       "       'YearsInCurrentRole', 'YearsSinceLastPromotion',\n",
       "       'YearsWithCurrManager'],\n",
       "      dtype='object')"
      ]
     },
     "execution_count": 13,
     "metadata": {},
     "output_type": "execute_result"
    }
   ],
   "source": [
    "data.columns"
   ]
  },
  {
   "cell_type": "markdown",
   "metadata": {},
   "source": [
    "## Data Visualization"
   ]
  },
  {
   "cell_type": "code",
   "execution_count": 14,
   "metadata": {
    "scrolled": true
   },
   "outputs": [
    {
     "name": "stderr",
     "output_type": "stream",
     "text": [
      "C:\\Users\\Lenovo\\AppData\\Roaming\\Python\\Python37\\site-packages\\seaborn\\_decorators.py:43: FutureWarning: Pass the following variable as a keyword arg: x. From version 0.12, the only valid positional argument will be `data`, and passing other arguments without an explicit keyword will result in an error or misinterpretation.\n",
      "  FutureWarning\n"
     ]
    },
    {
     "data": {
      "text/plain": [
       "<AxesSubplot:xlabel='Attrition', ylabel='count'>"
      ]
     },
     "execution_count": 14,
     "metadata": {},
     "output_type": "execute_result"
    },
    {
     "data": {
      "image/png": "[encoded data removed]",
      "text/plain": [
       "<Figure size 640x480 with 1 Axes>"
      ]
     },
     "metadata": {},
     "output_type": "display_data"
    }
   ],
   "source": [
    "sns.countplot(data['Attrition'])"
   ]
  },
  {
   "cell_type": "code",
   "execution_count": 15,
   "metadata": {},
   "outputs": [
    {
     "data": {
      "image/png": "[encoded data removed]",
      "text/plain": [
       "<Figure size 1000x500 with 1 Axes>"
      ]
     },
     "metadata": {},
     "output_type": "display_data"
    }
   ],
   "source": [
    "def plot_cat(col):\n",
    "    plt.figure(figsize=(10,5))\n",
    "    sns.countplot(x=col, hue='Attrition', data=data,palette = \"Set2\")\n",
    "    plt.show()\n",
    "    \n",
    "plot_cat('Age')"
   ]
  },
  {
   "cell_type": "code",
   "execution_count": 35,
   "metadata": {},
   "outputs": [
    {
     "data": {
      "application/vnd.plotly.v1+json": {
       "config": {
        "plotlyServerURL": "https://plot.ly"
       },
       "data": [
        {
         "alignmentgroup": "True",
         "bingroup": "x",
         "hovertemplate": "Attrition=1<br>Education=%{x}<br>count=%{y}<extra></extra>",
         "legendgroup": "1",
         "marker": {
          "color": "#636efa",
          "pattern": {
           "shape": "x"
          }
         },
         "name": "1",
         "offsetgroup": "1",
         "orientation": "v",
         "showlegend": true,
         "type": "histogram",
         "x": [
          2,
          2,
          3,
          4,
          1,
          1,
          3,
          3,
          2,
          3,
          3,
          2,
          4,
          3,
          2,
          4,
          3,
          3,
          3,
          4,
          4,
          4,
          1,
          3,
          4,
          3,
          1,
          3,
          2,
          2,
          1,
          3,
          4,
          3,
          4,
          3,
          1,
          3,
          2,
          3,
          3,
          2,
          4,
          4,
          3,
          4,
          4,
          3,
          4,
          4,
          2,
          4,
          1,
          3,
          3,
          2,
          3,
          3,
          1,
          3,
          3,
          1,
          2,
          5,
          2,
          1,
          1,
          3,
          3,
          1,
          4,
          3,
          3,
          4,
          3,
          4,
          4,
          1,
          4,
          1,
          3,
          2,
          2,
          2,
          3,
          4,
          2,
          3,
          3,
          3,
          2,
          3,
          4,
          4,
          3,
          1,
          2,
          4,
          3,
          4,
          1,
          3,
          1,
          1,
          4,
          3,
          2,
          3,
          3,
          1,
          4,
          3,
          3,
          2,
          3,
          3,
          4,
          3,
          3,
          2,
          2,
          1,
          4,
          3,
          3,
          3,
          3,
          4,
          2,
          2,
          3,
          4,
          1,
          3,
          3,
          3,
          4,
          3,
          1,
          4,
          3,
          1,
          3,
          1,
          3,
          4,
          4,
          2,
          2,
          3,
          1,
          3,
          2,
          3,
          3,
          2,
          3,
          4,
          3,
          3,
          3,
          4,
          4,
          3,
          4,
          4,
          4,
          2,
          1,
          4,
          3,
          2,
          3,
          3,
          5,
          3,
          4,
          3,
          3,
          4,
          3,
          2,
          4,
          4,
          3,
          3,
          3,
          5,
          3,
          3,
          2,
          3,
          2,
          3,
          4,
          1,
          2,
          4,
          3,
          1,
          3,
          5,
          2,
          3,
          3,
          3,
          4,
          3,
          1,
          1,
          2,
          3,
          4,
          4,
          2,
          2,
          5,
          3,
          4,
          2,
          3,
          3,
          1,
          4,
          2,
          3,
          2,
          2,
          3,
          3,
          4,
          4,
          3,
          4,
          2,
          4,
          3
         ],
         "xaxis": "x",
         "yaxis": "y"
        },
        {
         "alignmentgroup": "True",
         "bingroup": "x",
         "hovertemplate": "Attrition=0<br>Education=%{x}<br>count=%{y}<extra></extra>",
         "legendgroup": "0",
         "marker": {
          "color": "#EF553B",
          "pattern": {
           "shape": "x"
          }
         },
         "name": "0",
         "offsetgroup": "0",
         "orientation": "v",
         "showlegend": true,
         "type": "histogram",
         "x": [
          1,
          4,
          1,
          2,
          3,
          1,
          3,
          3,
          3,
          2,
          1,
          2,
          4,
          2,
          2,
          4,
          3,
          2,
          4,
          2,
          3,
          4,
          4,
          4,
          3,
          4,
          2,
          2,
          3,
          4,
          3,
          2,
          4,
          3,
          2,
          4,
          2,
          4,
          1,
          5,
          2,
          3,
          2,
          5,
          4,
          4,
          4,
          3,
          5,
          2,
          3,
          3,
          3,
          3,
          3,
          3,
          1,
          3,
          4,
          3,
          3,
          4,
          4,
          4,
          4,
          2,
          1,
          3,
          2,
          3,
          2,
          3,
          1,
          4,
          3,
          4,
          4,
          2,
          3,
          4,
          4,
          2,
          3,
          4,
          3,
          1,
          4,
          2,
          4,
          3,
          1,
          3,
          4,
          3,
          1,
          4,
          3,
          3,
          2,
          2,
          2,
          3,
          2,
          3,
          3,
          1,
          4,
          3,
          3,
          1,
          1,
          2,
          4,
          3,
          3,
          3,
          5,
          3,
          2,
          3,
          1,
          3,
          4,
          1,
          3,
          5,
          2,
          3,
          3,
          1,
          4,
          3,
          4,
          4,
          1,
          3,
          3,
          2,
          3,
          3,
          3,
          3,
          4,
          5,
          3,
          2,
          3,
          2,
          3,
          3,
          2,
          2,
          1,
          2,
          3,
          2,
          3,
          1,
          4,
          1,
          3,
          4,
          3,
          3,
          2,
          3,
          3,
          2,
          4,
          3,
          1,
          4,
          4,
          2,
          3,
          1,
          5,
          4,
          1,
          3,
          4,
          3,
          3,
          3,
          2,
          4,
          3,
          3,
          4,
          3,
          4,
          1,
          3,
          3,
          2,
          2,
          4,
          3,
          4,
          2,
          4,
          4,
          2,
          2,
          3,
          4,
          4,
          4,
          2,
          4,
          4,
          3,
          2,
          2,
          3,
          3,
          2,
          3,
          3,
          2,
          1,
          3,
          3,
          3,
          2,
          2,
          3,
          3,
          3,
          4,
          2,
          4,
          3,
          2,
          3,
          1,
          4,
          1,
          2,
          2,
          2,
          3,
          4,
          2,
          4,
          3,
          3,
          3,
          3,
          3,
          4,
          3,
          4,
          3,
          2,
          3,
          3,
          4,
          3,
          2,
          4,
          4,
          3,
          3,
          4,
          4,
          1,
          4,
          2,
          3,
          2,
          3,
          3,
          4,
          2,
          2,
          2,
          3,
          5,
          4,
          1,
          4,
          3,
          4,
          2,
          5,
          3,
          4,
          2,
          2,
          4,
          1,
          4,
          1,
          3,
          1,
          5,
          3,
          1,
          3,
          1,
          3,
          2,
          3,
          4,
          5,
          4,
          4,
          4,
          2,
          3,
          4,
          3,
          4,
          3,
          4,
          2,
          4,
          3,
          2,
          3,
          3,
          4,
          1,
          3,
          2,
          3,
          2,
          4,
          4,
          3,
          3,
          2,
          4,
          2,
          3,
          4,
          2,
          5,
          2,
          1,
          3,
          3,
          3,
          2,
          3,
          2,
          2,
          2,
          3,
          3,
          3,
          4,
          2,
          4,
          3,
          3,
          4,
          4,
          3,
          4,
          3,
          3,
          2,
          3,
          3,
          4,
          4,
          3,
          1,
          1,
          3,
          2,
          4,
          5,
          5,
          2,
          3,
          3,
          1,
          1,
          3,
          3,
          3,
          5,
          3,
          3,
          4,
          2,
          3,
          4,
          3,
          1,
          5,
          4,
          2,
          3,
          3,
          4,
          4,
          3,
          2,
          2,
          3,
          1,
          2,
          2,
          4,
          4,
          3,
          3,
          4,
          4,
          1,
          5,
          4,
          4,
          3,
          1,
          4,
          1,
          4,
          4,
          3,
          1,
          5,
          3,
          3,
          2,
          4,
          3,
          4,
          2,
          4,
          3,
          3,
          3,
          4,
          4,
          1,
          1,
          2,
          1,
          3,
          4,
          3,
          4,
          2,
          2,
          4,
          4,
          3,
          4,
          4,
          2,
          3,
          4,
          3,
          3,
          3,
          3,
          5,
          3,
          3,
          2,
          1,
          3,
          3,
          1,
          3,
          3,
          3,
          4,
          4,
          5,
          5,
          4,
          1,
          2,
          1,
          3,
          4,
          4,
          2,
          3,
          4,
          4,
          1,
          1,
          4,
          4,
          4,
          3,
          2,
          2,
          3,
          3,
          4,
          3,
          3,
          2,
          3,
          2,
          4,
          2,
          3,
          3,
          4,
          3,
          3,
          3,
          3,
          4,
          2,
          1,
          3,
          4,
          2,
          3,
          4,
          3,
          1,
          3,
          1,
          2,
          4,
          4,
          2,
          3,
          2,
          4,
          4,
          2,
          2,
          4,
          1,
          3,
          1,
          3,
          3,
          1,
          3,
          1,
          2,
          3,
          3,
          4,
          3,
          3,
          2,
          4,
          3,
          2,
          2,
          4,
          3,
          2,
          1,
          2,
          4,
          3,
          1,
          4,
          3,
          3,
          3,
          2,
          4,
          3,
          4,
          1,
          2,
          4,
          2,
          4,
          3,
          3,
          4,
          3,
          3,
          4,
          3,
          4,
          4,
          3,
          2,
          3,
          3,
          2,
          2,
          2,
          3,
          4,
          5,
          4,
          4,
          3,
          1,
          4,
          2,
          4,
          3,
          4,
          2,
          2,
          3,
          1,
          2,
          1,
          1,
          2,
          3,
          4,
          2,
          2,
          1,
          3,
          4,
          2,
          1,
          4,
          3,
          2,
          3,
          3,
          4,
          1,
          4,
          3,
          3,
          3,
          1,
          2,
          4,
          4,
          2,
          4,
          3,
          4,
          1,
          4,
          4,
          3,
          3,
          1,
          4,
          4,
          3,
          5,
          1,
          3,
          4,
          2,
          3,
          2,
          1,
          4,
          5,
          1,
          3,
          3,
          2,
          1,
          4,
          2,
          3,
          4,
          4,
          4,
          4,
          4,
          4,
          3,
          1,
          2,
          3,
          3,
          1,
          3,
          4,
          3,
          1,
          2,
          4,
          2,
          3,
          3,
          1,
          3,
          3,
          4,
          2,
          3,
          1,
          4,
          4,
          4,
          4,
          3,
          4,
          3,
          2,
          3,
          3,
          4,
          1,
          4,
          1,
          2,
          3,
          3,
          3,
          2,
          1,
          3,
          3,
          3,
          4,
          4,
          3,
          4,
          2,
          4,
          3,
          4,
          4,
          4,
          3,
          4,
          5,
          4,
          3,
          2,
          3,
          3,
          3,
          4,
          3,
          5,
          2,
          3,
          4,
          1,
          3,
          3,
          2,
          3,
          3,
          3,
          2,
          3,
          2,
          2,
          3,
          3,
          3,
          3,
          3,
          5,
          3,
          2,
          2,
          1,
          2,
          3,
          3,
          4,
          3,
          4,
          2,
          3,
          1,
          4,
          4,
          4,
          3,
          2,
          2,
          3,
          3,
          3,
          3,
          4,
          4,
          3,
          4,
          2,
          3,
          3,
          4,
          2,
          4,
          2,
          1,
          2,
          4,
          2,
          3,
          3,
          3,
          4,
          3,
          2,
          2,
          1,
          4,
          3,
          3,
          3,
          2,
          3,
          3,
          1,
          3,
          1,
          1,
          3,
          3,
          4,
          3,
          4,
          3,
          3,
          1,
          1,
          1,
          2,
          1,
          2,
          3,
          3,
          1,
          3,
          4,
          3,
          2,
          3,
          3,
          3,
          3,
          3,
          4,
          4,
          4,
          5,
          4,
          1,
          4,
          4,
          3,
          2,
          2,
          4,
          1,
          5,
          3,
          5,
          4,
          2,
          3,
          2,
          3,
          3,
          1,
          3,
          3,
          3,
          4,
          3,
          3,
          3,
          3,
          1,
          2,
          5,
          3,
          2,
          4,
          3,
          1,
          2,
          1,
          3,
          3,
          4,
          4,
          3,
          3,
          3,
          2,
          1,
          1,
          5,
          3,
          4,
          3,
          3,
          3,
          3,
          1,
          3,
          5,
          2,
          3,
          3,
          1,
          3,
          3,
          3,
          2,
          4,
          2,
          2,
          2,
          4,
          4,
          2,
          4,
          4,
          3,
          4,
          4,
          3,
          4,
          4,
          4,
          4,
          5,
          4,
          3,
          3,
          3,
          4,
          1,
          4,
          3,
          1,
          3,
          3,
          4,
          2,
          3,
          4,
          2,
          3,
          2,
          4,
          2,
          5,
          4,
          3,
          3,
          5,
          3,
          4,
          4,
          4,
          4,
          5,
          3,
          5,
          3,
          1,
          4,
          2,
          3,
          4,
          3,
          3,
          2,
          2,
          3,
          3,
          5,
          5,
          1,
          3,
          3,
          3,
          4,
          1,
          3,
          4,
          5,
          3,
          3,
          3,
          1,
          4,
          2,
          5,
          2,
          3,
          3,
          4,
          3,
          4,
          3,
          3,
          4,
          3,
          2,
          1,
          3,
          4,
          3,
          2,
          4,
          3,
          3,
          2,
          4,
          3,
          4,
          3,
          3,
          4,
          3,
          3,
          3,
          4,
          4,
          1,
          4,
          2,
          3,
          4,
          3,
          2,
          1,
          4,
          4,
          1,
          4,
          3,
          1,
          1,
          3,
          3,
          4,
          3,
          4,
          3,
          3,
          3,
          3,
          2,
          4,
          3,
          4,
          2,
          3,
          3,
          4,
          3,
          3,
          3,
          3,
          4,
          3,
          4,
          3,
          2,
          2,
          4,
          3,
          2,
          4,
          3,
          2,
          4,
          3,
          1,
          2,
          2,
          3,
          2,
          3,
          3,
          3,
          3,
          1,
          3,
          3,
          2,
          3,
          4,
          3,
          3,
          4,
          4,
          3,
          4,
          3,
          4,
          3,
          4,
          4,
          4,
          2,
          1,
          4,
          4,
          4,
          2,
          2,
          1,
          3,
          3,
          1,
          1,
          3,
          3,
          3,
          4,
          4,
          3,
          4,
          3,
          3,
          3,
          4,
          2,
          2,
          1,
          4,
          2,
          2,
          3,
          4,
          2,
          3,
          3,
          2,
          1,
          3,
          3,
          4,
          4,
          2,
          4,
          4,
          4,
          4,
          5,
          2,
          3,
          3,
          2,
          1,
          4,
          4,
          3,
          2,
          4,
          3,
          4,
          3,
          3,
          4,
          3,
          3,
          4,
          3,
          4,
          2,
          2,
          3,
          4,
          4,
          1,
          4,
          2,
          3,
          3,
          2,
          2,
          3,
          2,
          3,
          2,
          1,
          3,
          2,
          4,
          2,
          4,
          4,
          3,
          1,
          4,
          2,
          4,
          2,
          4,
          4,
          4,
          1,
          3,
          4,
          3,
          2,
          4,
          3,
          1,
          3,
          3,
          2,
          4,
          3,
          4,
          3,
          4,
          3,
          3,
          4,
          2,
          4,
          3,
          4,
          4,
          4,
          4,
          2,
          4,
          1,
          3,
          3,
          2,
          1,
          3,
          3,
          3
         ],
         "xaxis": "x",
         "yaxis": "y"
        }
       ],
       "layout": {
        "barmode": "relative",
        "legend": {
         "title": {
          "text": "Attrition"
         },
         "tracegroupgap": 0
        },
        "template": {
         "data": {
          "bar": [
           {
            "error_x": {
             "color": "#f2f5fa"
            },
            "error_y": {
             "color": "#f2f5fa"
            },
            "marker": {
             "line": {
              "color": "rgb(17,17,17)",
              "width": 0.5
             },
             "pattern": {
              "fillmode": "overlay",
              "size": 10,
              "solidity": 0.2
             }
            },
            "type": "bar"
           }
          ],
          "barpolar": [
           {
            "marker": {
             "line": {
              "color": "rgb(17,17,17)",
              "width": 0.5
             },
             "pattern": {
              "fillmode": "overlay",
              "size": 10,
              "solidity": 0.2
             }
            },
            "type": "barpolar"
           }
          ],
          "carpet": [
           {
            "aaxis": {
             "endlinecolor": "#A2B1C6",
             "gridcolor": "#506784",
             "linecolor": "#506784",
             "minorgridcolor": "#506784",
             "startlinecolor": "#A2B1C6"
            },
            "baxis": {
             "endlinecolor": "#A2B1C6",
             "gridcolor": "#506784",
             "linecolor": "#506784",
             "minorgridcolor": "#506784",
             "startlinecolor": "#A2B1C6"
            },
            "type": "carpet"
           }
          ],
          "choropleth": [
           {
            "colorbar": {
             "outlinewidth": 0,
             "ticks": ""
            },
            "type": "choropleth"
           }
          ],
          "contour": [
           {
            "colorbar": {
             "outlinewidth": 0,
             "ticks": ""
            },
            "colorscale": [
             [
              0,
              "#0d0887"
             ],
             [
              0.1111111111111111,
              "#46039f"
             ],
             [
              0.2222222222222222,
              "#7201a8"
             ],
             [
              0.3333333333333333,
              "#9c179e"
             ],
             [
              0.4444444444444444,
              "#bd3786"
             ],
             [
              0.5555555555555556,
              "#d8576b"
             ],
             [
              0.6666666666666666,
              "#ed7953"
             ],
             [
              0.7777777777777778,
              "#fb9f3a"
             ],
             [
              0.8888888888888888,
              "#fdca26"
             ],
             [
              1,
              "#f0f921"
             ]
            ],
            "type": "contour"
           }
          ],
          "contourcarpet": [
           {
            "colorbar": {
             "outlinewidth": 0,
             "ticks": ""
            },
            "type": "contourcarpet"
           }
          ],
          "heatmap": [
           {
            "colorbar": {
             "outlinewidth": 0,
             "ticks": ""
            },
            "colorscale": [
             [
              0,
              "#0d0887"
             ],
             [
              0.1111111111111111,
              "#46039f"
             ],
             [
              0.2222222222222222,
              "#7201a8"
             ],
             [
              0.3333333333333333,
              "#9c179e"
             ],
             [
              0.4444444444444444,
              "#bd3786"
             ],
             [
              0.5555555555555556,
              "#d8576b"
             ],
             [
              0.6666666666666666,
              "#ed7953"
             ],
             [
              0.7777777777777778,
              "#fb9f3a"
             ],
             [
              0.8888888888888888,
              "#fdca26"
             ],
             [
              1,
              "#f0f921"
             ]
            ],
            "type": "heatmap"
           }
          ],
          "heatmapgl": [
           {
            "colorbar": {
             "outlinewidth": 0,
             "ticks": ""
            },
            "colorscale": [
             [
              0,
              "#0d0887"
             ],
             [
              0.1111111111111111,
              "#46039f"
             ],
             [
              0.2222222222222222,
              "#7201a8"
             ],
             [
              0.3333333333333333,
              "#9c179e"
             ],
             [
              0.4444444444444444,
              "#bd3786"
             ],
             [
              0.5555555555555556,
              "#d8576b"
             ],
             [
              0.6666666666666666,
              "#ed7953"
             ],
             [
              0.7777777777777778,
              "#fb9f3a"
             ],
             [
              0.8888888888888888,
              "#fdca26"
             ],
             [
              1,
              "#f0f921"
             ]
            ],
            "type": "heatmapgl"
           }
          ],
          "histogram": [
           {
            "marker": {
             "pattern": {
              "fillmode": "overlay",
              "size": 10,
              "solidity": 0.2
             }
            },
            "type": "histogram"
           }
          ],
          "histogram2d": [
           {
            "colorbar": {
             "outlinewidth": 0,
             "ticks": ""
            },
            "colorscale": [
             [
              0,
              "#0d0887"
             ],
             [
              0.1111111111111111,
              "#46039f"
             ],
             [
              0.2222222222222222,
              "#7201a8"
             ],
             [
              0.3333333333333333,
              "#9c179e"
             ],
             [
              0.4444444444444444,
              "#bd3786"
             ],
             [
              0.5555555555555556,
              "#d8576b"
             ],
             [
              0.6666666666666666,
              "#ed7953"
             ],
             [
              0.7777777777777778,
              "#fb9f3a"
             ],
             [
              0.8888888888888888,
              "#fdca26"
             ],
             [
              1,
              "#f0f921"
             ]
            ],
            "type": "histogram2d"
           }
          ],
          "histogram2dcontour": [
           {
            "colorbar": {
             "outlinewidth": 0,
             "ticks": ""
            },
            "colorscale": [
             [
              0,
              "#0d0887"
             ],
             [
              0.1111111111111111,
              "#46039f"
             ],
             [
              0.2222222222222222,
              "#7201a8"
             ],
             [
              0.3333333333333333,
              "#9c179e"
             ],
             [
              0.4444444444444444,
              "#bd3786"
             ],
             [
              0.5555555555555556,
              "#d8576b"
             ],
             [
              0.6666666666666666,
              "#ed7953"
             ],
             [
              0.7777777777777778,
              "#fb9f3a"
             ],
             [
              0.8888888888888888,
              "#fdca26"
             ],
             [
              1,
              "#f0f921"
             ]
            ],
            "type": "histogram2dcontour"
           }
          ],
          "mesh3d": [
           {
            "colorbar": {
             "outlinewidth": 0,
             "ticks": ""
            },
            "type": "mesh3d"
           }
          ],
          "parcoords": [
           {
            "line": {
             "colorbar": {
              "outlinewidth": 0,
              "ticks": ""
             }
            },
            "type": "parcoords"
           }
          ],
          "pie": [
           {
            "automargin": true,
            "type": "pie"
           }
          ],
          "scatter": [
           {
            "marker": {
             "line": {
              "color": "#283442"
             }
            },
            "type": "scatter"
           }
          ],
          "scatter3d": [
           {
            "line": {
             "colorbar": {
              "outlinewidth": 0,
              "ticks": ""
             }
            },
            "marker": {
             "colorbar": {
              "outlinewidth": 0,
              "ticks": ""
             }
            },
            "type": "scatter3d"
           }
          ],
          "scattercarpet": [
           {
            "marker": {
             "colorbar": {
              "outlinewidth": 0,
              "ticks": ""
             }
            },
            "type": "scattercarpet"
           }
          ],
          "scattergeo": [
           {
            "marker": {
             "colorbar": {
              "outlinewidth": 0,
              "ticks": ""
             }
            },
            "type": "scattergeo"
           }
          ],
          "scattergl": [
           {
            "marker": {
             "line": {
              "color": "#283442"
             }
            },
            "type": "scattergl"
           }
          ],
          "scattermapbox": [
           {
            "marker": {
             "colorbar": {
              "outlinewidth": 0,
              "ticks": ""
             }
            },
            "type": "scattermapbox"
           }
          ],
          "scatterpolar": [
           {
            "marker": {
             "colorbar": {
              "outlinewidth": 0,
              "ticks": ""
             }
            },
            "type": "scatterpolar"
           }
          ],
          "scatterpolargl": [
           {
            "marker": {
             "colorbar": {
              "outlinewidth": 0,
              "ticks": ""
             }
            },
            "type": "scatterpolargl"
           }
          ],
          "scatterternary": [
           {
            "marker": {
             "colorbar": {
              "outlinewidth": 0,
              "ticks": ""
             }
            },
            "type": "scatterternary"
           }
          ],
          "surface": [
           {
            "colorbar": {
             "outlinewidth": 0,
             "ticks": ""
            },
            "colorscale": [
             [
              0,
              "#0d0887"
             ],
             [
              0.1111111111111111,
              "#46039f"
             ],
             [
              0.2222222222222222,
              "#7201a8"
             ],
             [
              0.3333333333333333,
              "#9c179e"
             ],
             [
              0.4444444444444444,
              "#bd3786"
             ],
             [
              0.5555555555555556,
              "#d8576b"
             ],
             [
              0.6666666666666666,
              "#ed7953"
             ],
             [
              0.7777777777777778,
              "#fb9f3a"
             ],
             [
              0.8888888888888888,
              "#fdca26"
             ],
             [
              1,
              "#f0f921"
             ]
            ],
            "type": "surface"
           }
          ],
          "table": [
           {
            "cells": {
             "fill": {
              "color": "#506784"
             },
             "line": {
              "color": "rgb(17,17,17)"
             }
            },
            "header": {
             "fill": {
              "color": "#2a3f5f"
             },
             "line": {
              "color": "rgb(17,17,17)"
             }
            },
            "type": "table"
           }
          ]
         },
         "layout": {
          "annotationdefaults": {
           "arrowcolor": "#f2f5fa",
           "arrowhead": 0,
           "arrowwidth": 1
          },
          "autotypenumbers": "strict",
          "coloraxis": {
           "colorbar": {
            "outlinewidth": 0,
            "ticks": ""
           }
          },
          "colorscale": {
           "diverging": [
            [
             0,
             "#8e0152"
            ],
            [
             0.1,
             "#c51b7d"
            ],
            [
             0.2,
             "#de77ae"
            ],
            [
             0.3,
             "#f1b6da"
            ],
            [
             0.4,
             "#fde0ef"
            ],
            [
             0.5,
             "#f7f7f7"
            ],
            [
             0.6,
             "#e6f5d0"
            ],
            [
             0.7,
             "#b8e186"
            ],
            [
             0.8,
             "#7fbc41"
            ],
            [
             0.9,
             "#4d9221"
            ],
            [
             1,
             "#276419"
            ]
           ],
           "sequential": [
            [
             0,
             "#0d0887"
            ],
            [
             0.1111111111111111,
             "#46039f"
            ],
            [
             0.2222222222222222,
             "#7201a8"
            ],
            [
             0.3333333333333333,
             "#9c179e"
            ],
            [
             0.4444444444444444,
             "#bd3786"
            ],
            [
             0.5555555555555556,
             "#d8576b"
            ],
            [
             0.6666666666666666,
             "#ed7953"
            ],
            [
             0.7777777777777778,
             "#fb9f3a"
            ],
            [
             0.8888888888888888,
             "#fdca26"
            ],
            [
             1,
             "#f0f921"
            ]
           ],
           "sequentialminus": [
            [
             0,
             "#0d0887"
            ],
            [
             0.1111111111111111,
             "#46039f"
            ],
            [
             0.2222222222222222,
             "#7201a8"
            ],
            [
             0.3333333333333333,
             "#9c179e"
            ],
            [
             0.4444444444444444,
             "#bd3786"
            ],
            [
             0.5555555555555556,
             "#d8576b"
            ],
            [
             0.6666666666666666,
             "#ed7953"
            ],
            [
             0.7777777777777778,
             "#fb9f3a"
            ],
            [
             0.8888888888888888,
             "#fdca26"
            ],
            [
             1,
             "#f0f921"
            ]
           ]
          },
          "colorway": [
           "#636efa",
           "#EF553B",
           "#00cc96",
           "#ab63fa",
           "#FFA15A",
           "#19d3f3",
           "#FF6692",
           "#B6E880",
           "#FF97FF",
           "#FECB52"
          ],
          "font": {
           "color": "#f2f5fa"
          },
          "geo": {
           "bgcolor": "rgb(17,17,17)",
           "lakecolor": "rgb(17,17,17)",
           "landcolor": "rgb(17,17,17)",
           "showlakes": true,
           "showland": true,
           "subunitcolor": "#506784"
          },
          "hoverlabel": {
           "align": "left"
          },
          "hovermode": "closest",
          "mapbox": {
           "style": "dark"
          },
          "paper_bgcolor": "rgb(17,17,17)",
          "plot_bgcolor": "rgb(17,17,17)",
          "polar": {
           "angularaxis": {
            "gridcolor": "#506784",
            "linecolor": "#506784",
            "ticks": ""
           },
           "bgcolor": "rgb(17,17,17)",
           "radialaxis": {
            "gridcolor": "#506784",
            "linecolor": "#506784",
            "ticks": ""
           }
          },
          "scene": {
           "xaxis": {
            "backgroundcolor": "rgb(17,17,17)",
            "gridcolor": "#506784",
            "gridwidth": 2,
            "linecolor": "#506784",
            "showbackground": true,
            "ticks": "",
            "zerolinecolor": "#C8D4E3"
           },
           "yaxis": {
            "backgroundcolor": "rgb(17,17,17)",
            "gridcolor": "#506784",
            "gridwidth": 2,
            "linecolor": "#506784",
            "showbackground": true,
            "ticks": "",
            "zerolinecolor": "#C8D4E3"
           },
           "zaxis": {
            "backgroundcolor": "rgb(17,17,17)",
            "gridcolor": "#506784",
            "gridwidth": 2,
            "linecolor": "#506784",
            "showbackground": true,
            "ticks": "",
            "zerolinecolor": "#C8D4E3"
           }
          },
          "shapedefaults": {
           "line": {
            "color": "#f2f5fa"
           }
          },
          "sliderdefaults": {
           "bgcolor": "#C8D4E3",
           "bordercolor": "rgb(17,17,17)",
           "borderwidth": 1,
           "tickwidth": 0
          },
          "ternary": {
           "aaxis": {
            "gridcolor": "#506784",
            "linecolor": "#506784",
            "ticks": ""
           },
           "baxis": {
            "gridcolor": "#506784",
            "linecolor": "#506784",
            "ticks": ""
           },
           "bgcolor": "rgb(17,17,17)",
           "caxis": {
            "gridcolor": "#506784",
            "linecolor": "#506784",
            "ticks": ""
           }
          },
          "title": {
           "x": 0.05
          },
          "updatemenudefaults": {
           "bgcolor": "#506784",
           "borderwidth": 0
          },
          "xaxis": {
           "automargin": true,
           "gridcolor": "#283442",
           "linecolor": "#506784",
           "ticks": "",
           "title": {
            "standoff": 15
           },
           "zerolinecolor": "#283442",
           "zerolinewidth": 2
          },
          "yaxis": {
           "automargin": true,
           "gridcolor": "#283442",
           "linecolor": "#506784",
           "ticks": "",
           "title": {
            "standoff": 15
           },
           "zerolinecolor": "#283442",
           "zerolinewidth": 2
          }
         }
        },
        "title": {
         "font": {
          "size": 20
         },
         "text": "<b>Counts of Education</b>",
         "x": 0.5
        },
        "uniformtext": {
         "minsize": 15
        },
        "xaxis": {
         "anchor": "y",
         "domain": [
          0,
          1
         ],
         "title": {
          "text": "Education"
         }
        },
        "yaxis": {
         "anchor": "x",
         "domain": [
          0,
          1
         ],
         "title": {
          "text": "count"
         }
        }
       }
      },
      "text/html": [
       "<div>                            <div id=\"c640b6c1-c023-4d70-92be-d5514b48763b\" class=\"plotly-graph-div\" style=\"height:525px; width:100%;\"></div>            <script type=\"text/javascript\">                require([\"plotly\"], function(Plotly) {                    window.PLOTLYENV=window.PLOTLYENV || {};                                    if (document.getElementById(\"c640b6c1-c023-4d70-92be-d5514b48763b\")) {                    Plotly.newPlot(                        \"c640b6c1-c023-4d70-92be-d5514b48763b\",                        [{\"alignmentgroup\":\"True\",\"bingroup\":\"x\",\"hovertemplate\":\"Attrition=1<br>Education=%{x}<br>count=%{y}<extra></extra>\",\"legendgroup\":\"1\",\"marker\":{\"color\":\"#636efa\",\"pattern\":{\"shape\":\"x\"}},\"name\":\"1\",\"offsetgroup\":\"1\",\"orientation\":\"v\",\"showlegend\":true,\"x\":[2,2,3,4,1,1,3,3,2,3,3,2,4,3,2,4,3,3,3,4,4,4,1,3,4,3,1,3,2,2,1,3,4,3,4,3,1,3,2,3,3,2,4,4,3,4,4,3,4,4,2,4,1,3,3,2,3,3,1,3,3,1,2,5,2,1,1,3,3,1,4,3,3,4,3,4,4,1,4,1,3,2,2,2,3,4,2,3,3,3,2,3,4,4,3,1,2,4,3,4,1,3,1,1,4,3,2,3,3,1,4,3,3,2,3,3,4,3,3,2,2,1,4,3,3,3,3,4,2,2,3,4,1,3,3,3,4,3,1,4,3,1,3,1,3,4,4,2,2,3,1,3,2,3,3,2,3,4,3,3,3,4,4,3,4,4,4,2,1,4,3,2,3,3,5,3,4,3,3,4,3,2,4,4,3,3,3,5,3,3,2,3,2,3,4,1,2,4,3,1,3,5,2,3,3,3,4,3,1,1,2,3,4,4,2,2,5,3,4,2,3,3,1,4,2,3,2,2,3,3,4,4,3,4,2,4,3],\"xaxis\":\"x\",\"yaxis\":\"y\",\"type\":\"histogram\"},{\"alignmentgroup\":\"True\",\"bingroup\":\"x\",\"hovertemplate\":\"Attrition=0<br>Education=%{x}<br>count=%{y}<extra></extra>\",\"legendgroup\":\"0\",\"marker\":{\"color\":\"#EF553B\",\"pattern\":{\"shape\":\"x\"}},\"name\":\"0\",\"offsetgroup\":\"0\",\"orientation\":\"v\",\"showlegend\":true,\"x\":[1,4,1,2,3,1,3,3,3,2,1,2,4,2,2,4,3,2,4,2,3,4,4,4,3,4,2,2,3,4,3,2,4,3,2,4,2,4,1,5,2,3,2,5,4,4,4,3,5,2,3,3,3,3,3,3,1,3,4,3,3,4,4,4,4,2,1,3,2,3,2,3,1,4,3,4,4,2,3,4,4,2,3,4,3,1,4,2,4,3,1,3,4,3,1,4,3,3,2,2,2,3,2,3,3,1,4,3,3,1,1,2,4,3,3,3,5,3,2,3,1,3,4,1,3,5,2,3,3,1,4,3,4,4,1,3,3,2,3,3,3,3,4,5,3,2,3,2,3,3,2,2,1,2,3,2,3,1,4,1,3,4,3,3,2,3,3,2,4,3,1,4,4,2,3,1,5,4,1,3,4,3,3,3,2,4,3,3,4,3,4,1,3,3,2,2,4,3,4,2,4,4,2,2,3,4,4,4,2,4,4,3,2,2,3,3,2,3,3,2,1,3,3,3,2,2,3,3,3,4,2,4,3,2,3,1,4,1,2,2,2,3,4,2,4,3,3,3,3,3,4,3,4,3,2,3,3,4,3,2,4,4,3,3,4,4,1,4,2,3,2,3,3,4,2,2,2,3,5,4,1,4,3,4,2,5,3,4,2,2,4,1,4,1,3,1,5,3,1,3,1,3,2,3,4,5,4,4,4,2,3,4,3,4,3,4,2,4,3,2,3,3,4,1,3,2,3,2,4,4,3,3,2,4,2,3,4,2,5,2,1,3,3,3,2,3,2,2,2,3,3,3,4,2,4,3,3,4,4,3,4,3,3,2,3,3,4,4,3,1,1,3,2,4,5,5,2,3,3,1,1,3,3,3,5,3,3,4,2,3,4,3,1,5,4,2,3,3,4,4,3,2,2,3,1,2,2,4,4,3,3,4,4,1,5,4,4,3,1,4,1,4,4,3,1,5,3,3,2,4,3,4,2,4,3,3,3,4,4,1,1,2,1,3,4,3,4,2,2,4,4,3,4,4,2,3,4,3,3,3,3,5,3,3,2,1,3,3,1,3,3,3,4,4,5,5,4,1,2,1,3,4,4,2,3,4,4,1,1,4,4,4,3,2,2,3,3,4,3,3,2,3,2,4,2,3,3,4,3,3,3,3,4,2,1,3,4,2,3,4,3,1,3,1,2,4,4,2,3,2,4,4,2,2,4,1,3,1,3,3,1,3,1,2,3,3,4,3,3,2,4,3,2,2,4,3,2,1,2,4,3,1,4,3,3,3,2,4,3,4,1,2,4,2,4,3,3,4,3,3,4,3,4,4,3,2,3,3,2,2,2,3,4,5,4,4,3,1,4,2,4,3,4,2,2,3,1,2,1,1,2,3,4,2,2,1,3,4,2,1,4,3,2,3,3,4,1,4,3,3,3,1,2,4,4,2,4,3,4,1,4,4,3,3,1,4,4,3,5,1,3,4,2,3,2,1,4,5,1,3,3,2,1,4,2,3,4,4,4,4,4,4,3,1,2,3,3,1,3,4,3,1,2,4,2,3,3,1,3,3,4,2,3,1,4,4,4,4,3,4,3,2,3,3,4,1,4,1,2,3,3,3,2,1,3,3,3,4,4,3,4,2,4,3,4,4,4,3,4,5,4,3,2,3,3,3,4,3,5,2,3,4,1,3,3,2,3,3,3,2,3,2,2,3,3,3,3,3,5,3,2,2,1,2,3,3,4,3,4,2,3,1,4,4,4,3,2,2,3,3,3,3,4,4,3,4,2,3,3,4,2,4,2,1,2,4,2,3,3,3,4,3,2,2,1,4,3,3,3,2,3,3,1,3,1,1,3,3,4,3,4,3,3,1,1,1,2,1,2,3,3,1,3,4,3,2,3,3,3,3,3,4,4,4,5,4,1,4,4,3,2,2,4,1,5,3,5,4,2,3,2,3,3,1,3,3,3,4,3,3,3,3,1,2,5,3,2,4,3,1,2,1,3,3,4,4,3,3,3,2,1,1,5,3,4,3,3,3,3,1,3,5,2,3,3,1,3,3,3,2,4,2,2,2,4,4,2,4,4,3,4,4,3,4,4,4,4,5,4,3,3,3,4,1,4,3,1,3,3,4,2,3,4,2,3,2,4,2,5,4,3,3,5,3,4,4,4,4,5,3,5,3,1,4,2,3,4,3,3,2,2,3,3,5,5,1,3,3,3,4,1,3,4,5,3,3,3,1,4,2,5,2,3,3,4,3,4,3,3,4,3,2,1,3,4,3,2,4,3,3,2,4,3,4,3,3,4,3,3,3,4,4,1,4,2,3,4,3,2,1,4,4,1,4,3,1,1,3,3,4,3,4,3,3,3,3,2,4,3,4,2,3,3,4,3,3,3,3,4,3,4,3,2,2,4,3,2,4,3,2,4,3,1,2,2,3,2,3,3,3,3,1,3,3,2,3,4,3,3,4,4,3,4,3,4,3,4,4,4,2,1,4,4,4,2,2,1,3,3,1,1,3,3,3,4,4,3,4,3,3,3,4,2,2,1,4,2,2,3,4,2,3,3,2,1,3,3,4,4,2,4,4,4,4,5,2,3,3,2,1,4,4,3,2,4,3,4,3,3,4,3,3,4,3,4,2,2,3,4,4,1,4,2,3,3,2,2,3,2,3,2,1,3,2,4,2,4,4,3,1,4,2,4,2,4,4,4,1,3,4,3,2,4,3,1,3,3,2,4,3,4,3,4,3,3,4,2,4,3,4,4,4,4,2,4,1,3,3,2,1,3,3,3],\"xaxis\":\"x\",\"yaxis\":\"y\",\"type\":\"histogram\"}],                        {\"template\":{\"data\":{\"barpolar\":[{\"marker\":{\"line\":{\"color\":\"rgb(17,17,17)\",\"width\":0.5},\"pattern\":{\"fillmode\":\"overlay\",\"size\":10,\"solidity\":0.2}},\"type\":\"barpolar\"}],\"bar\":[{\"error_x\":{\"color\":\"#f2f5fa\"},\"error_y\":{\"color\":\"#f2f5fa\"},\"marker\":{\"line\":{\"color\":\"rgb(17,17,17)\",\"width\":0.5},\"pattern\":{\"fillmode\":\"overlay\",\"size\":10,\"solidity\":0.2}},\"type\":\"bar\"}],\"carpet\":[{\"aaxis\":{\"endlinecolor\":\"#A2B1C6\",\"gridcolor\":\"#506784\",\"linecolor\":\"#506784\",\"minorgridcolor\":\"#506784\",\"startlinecolor\":\"#A2B1C6\"},\"baxis\":{\"endlinecolor\":\"#A2B1C6\",\"gridcolor\":\"#506784\",\"linecolor\":\"#506784\",\"minorgridcolor\":\"#506784\",\"startlinecolor\":\"#A2B1C6\"},\"type\":\"carpet\"}],\"choropleth\":[{\"colorbar\":{\"outlinewidth\":0,\"ticks\":\"\"},\"type\":\"choropleth\"}],\"contourcarpet\":[{\"colorbar\":{\"outlinewidth\":0,\"ticks\":\"\"},\"type\":\"contourcarpet\"}],\"contour\":[{\"colorbar\":{\"outlinewidth\":0,\"ticks\":\"\"},\"colorscale\":[[0.0,\"#0d0887\"],[0.1111111111111111,\"#46039f\"],[0.2222222222222222,\"#7201a8\"],[0.3333333333333333,\"#9c179e\"],[0.4444444444444444,\"#bd3786\"],[0.5555555555555556,\"#d8576b\"],[0.6666666666666666,\"#ed7953\"],[0.7777777777777778,\"#fb9f3a\"],[0.8888888888888888,\"#fdca26\"],[1.0,\"#f0f921\"]],\"type\":\"contour\"}],\"heatmapgl\":[{\"colorbar\":{\"outlinewidth\":0,\"ticks\":\"\"},\"colorscale\":[[0.0,\"#0d0887\"],[0.1111111111111111,\"#46039f\"],[0.2222222222222222,\"#7201a8\"],[0.3333333333333333,\"#9c179e\"],[0.4444444444444444,\"#bd3786\"],[0.5555555555555556,\"#d8576b\"],[0.6666666666666666,\"#ed7953\"],[0.7777777777777778,\"#fb9f3a\"],[0.8888888888888888,\"#fdca26\"],[1.0,\"#f0f921\"]],\"type\":\"heatmapgl\"}],\"heatmap\":[{\"colorbar\":{\"outlinewidth\":0,\"ticks\":\"\"},\"colorscale\":[[0.0,\"#0d0887\"],[0.1111111111111111,\"#46039f\"],[0.2222222222222222,\"#7201a8\"],[0.3333333333333333,\"#9c179e\"],[0.4444444444444444,\"#bd3786\"],[0.5555555555555556,\"#d8576b\"],[0.6666666666666666,\"#ed7953\"],[0.7777777777777778,\"#fb9f3a\"],[0.8888888888888888,\"#fdca26\"],[1.0,\"#f0f921\"]],\"type\":\"heatmap\"}],\"histogram2dcontour\":[{\"colorbar\":{\"outlinewidth\":0,\"ticks\":\"\"},\"colorscale\":[[0.0,\"#0d0887\"],[0.1111111111111111,\"#46039f\"],[0.2222222222222222,\"#7201a8\"],[0.3333333333333333,\"#9c179e\"],[0.4444444444444444,\"#bd3786\"],[0.5555555555555556,\"#d8576b\"],[0.6666666666666666,\"#ed7953\"],[0.7777777777777778,\"#fb9f3a\"],[0.8888888888888888,\"#fdca26\"],[1.0,\"#f0f921\"]],\"type\":\"histogram2dcontour\"}],\"histogram2d\":[{\"colorbar\":{\"outlinewidth\":0,\"ticks\":\"\"},\"colorscale\":[[0.0,\"#0d0887\"],[0.1111111111111111,\"#46039f\"],[0.2222222222222222,\"#7201a8\"],[0.3333333333333333,\"#9c179e\"],[0.4444444444444444,\"#bd3786\"],[0.5555555555555556,\"#d8576b\"],[0.6666666666666666,\"#ed7953\"],[0.7777777777777778,\"#fb9f3a\"],[0.8888888888888888,\"#fdca26\"],[1.0,\"#f0f921\"]],\"type\":\"histogram2d\"}],\"histogram\":[{\"marker\":{\"pattern\":{\"fillmode\":\"overlay\",\"size\":10,\"solidity\":0.2}},\"type\":\"histogram\"}],\"mesh3d\":[{\"colorbar\":{\"outlinewidth\":0,\"ticks\":\"\"},\"type\":\"mesh3d\"}],\"parcoords\":[{\"line\":{\"colorbar\":{\"outlinewidth\":0,\"ticks\":\"\"}},\"type\":\"parcoords\"}],\"pie\":[{\"automargin\":true,\"type\":\"pie\"}],\"scatter3d\":[{\"line\":{\"colorbar\":{\"outlinewidth\":0,\"ticks\":\"\"}},\"marker\":{\"colorbar\":{\"outlinewidth\":0,\"ticks\":\"\"}},\"type\":\"scatter3d\"}],\"scattercarpet\":[{\"marker\":{\"colorbar\":{\"outlinewidth\":0,\"ticks\":\"\"}},\"type\":\"scattercarpet\"}],\"scattergeo\":[{\"marker\":{\"colorbar\":{\"outlinewidth\":0,\"ticks\":\"\"}},\"type\":\"scattergeo\"}],\"scattergl\":[{\"marker\":{\"line\":{\"color\":\"#283442\"}},\"type\":\"scattergl\"}],\"scattermapbox\":[{\"marker\":{\"colorbar\":{\"outlinewidth\":0,\"ticks\":\"\"}},\"type\":\"scattermapbox\"}],\"scatterpolargl\":[{\"marker\":{\"colorbar\":{\"outlinewidth\":0,\"ticks\":\"\"}},\"type\":\"scatterpolargl\"}],\"scatterpolar\":[{\"marker\":{\"colorbar\":{\"outlinewidth\":0,\"ticks\":\"\"}},\"type\":\"scatterpolar\"}],\"scatter\":[{\"marker\":{\"line\":{\"color\":\"#283442\"}},\"type\":\"scatter\"}],\"scatterternary\":[{\"marker\":{\"colorbar\":{\"outlinewidth\":0,\"ticks\":\"\"}},\"type\":\"scatterternary\"}],\"surface\":[{\"colorbar\":{\"outlinewidth\":0,\"ticks\":\"\"},\"colorscale\":[[0.0,\"#0d0887\"],[0.1111111111111111,\"#46039f\"],[0.2222222222222222,\"#7201a8\"],[0.3333333333333333,\"#9c179e\"],[0.4444444444444444,\"#bd3786\"],[0.5555555555555556,\"#d8576b\"],[0.6666666666666666,\"#ed7953\"],[0.7777777777777778,\"#fb9f3a\"],[0.8888888888888888,\"#fdca26\"],[1.0,\"#f0f921\"]],\"type\":\"surface\"}],\"table\":[{\"cells\":{\"fill\":{\"color\":\"#506784\"},\"line\":{\"color\":\"rgb(17,17,17)\"}},\"header\":{\"fill\":{\"color\":\"#2a3f5f\"},\"line\":{\"color\":\"rgb(17,17,17)\"}},\"type\":\"table\"}]},\"layout\":{\"annotationdefaults\":{\"arrowcolor\":\"#f2f5fa\",\"arrowhead\":0,\"arrowwidth\":1},\"autotypenumbers\":\"strict\",\"coloraxis\":{\"colorbar\":{\"outlinewidth\":0,\"ticks\":\"\"}},\"colorscale\":{\"diverging\":[[0,\"#8e0152\"],[0.1,\"#c51b7d\"],[0.2,\"#de77ae\"],[0.3,\"#f1b6da\"],[0.4,\"#fde0ef\"],[0.5,\"#f7f7f7\"],[0.6,\"#e6f5d0\"],[0.7,\"#b8e186\"],[0.8,\"#7fbc41\"],[0.9,\"#4d9221\"],[1,\"#276419\"]],\"sequential\":[[0.0,\"#0d0887\"],[0.1111111111111111,\"#46039f\"],[0.2222222222222222,\"#7201a8\"],[0.3333333333333333,\"#9c179e\"],[0.4444444444444444,\"#bd3786\"],[0.5555555555555556,\"#d8576b\"],[0.6666666666666666,\"#ed7953\"],[0.7777777777777778,\"#fb9f3a\"],[0.8888888888888888,\"#fdca26\"],[1.0,\"#f0f921\"]],\"sequentialminus\":[[0.0,\"#0d0887\"],[0.1111111111111111,\"#46039f\"],[0.2222222222222222,\"#7201a8\"],[0.3333333333333333,\"#9c179e\"],[0.4444444444444444,\"#bd3786\"],[0.5555555555555556,\"#d8576b\"],[0.6666666666666666,\"#ed7953\"],[0.7777777777777778,\"#fb9f3a\"],[0.8888888888888888,\"#fdca26\"],[1.0,\"#f0f921\"]]},\"colorway\":[\"#636efa\",\"#EF553B\",\"#00cc96\",\"#ab63fa\",\"#FFA15A\",\"#19d3f3\",\"#FF6692\",\"#B6E880\",\"#FF97FF\",\"#FECB52\"],\"font\":{\"color\":\"#f2f5fa\"},\"geo\":{\"bgcolor\":\"rgb(17,17,17)\",\"lakecolor\":\"rgb(17,17,17)\",\"landcolor\":\"rgb(17,17,17)\",\"showlakes\":true,\"showland\":true,\"subunitcolor\":\"#506784\"},\"hoverlabel\":{\"align\":\"left\"},\"hovermode\":\"closest\",\"mapbox\":{\"style\":\"dark\"},\"paper_bgcolor\":\"rgb(17,17,17)\",\"plot_bgcolor\":\"rgb(17,17,17)\",\"polar\":{\"angularaxis\":{\"gridcolor\":\"#506784\",\"linecolor\":\"#506784\",\"ticks\":\"\"},\"bgcolor\":\"rgb(17,17,17)\",\"radialaxis\":{\"gridcolor\":\"#506784\",\"linecolor\":\"#506784\",\"ticks\":\"\"}},\"scene\":{\"xaxis\":{\"backgroundcolor\":\"rgb(17,17,17)\",\"gridcolor\":\"#506784\",\"gridwidth\":2,\"linecolor\":\"#506784\",\"showbackground\":true,\"ticks\":\"\",\"zerolinecolor\":\"#C8D4E3\"},\"yaxis\":{\"backgroundcolor\":\"rgb(17,17,17)\",\"gridcolor\":\"#506784\",\"gridwidth\":2,\"linecolor\":\"#506784\",\"showbackground\":true,\"ticks\":\"\",\"zerolinecolor\":\"#C8D4E3\"},\"zaxis\":{\"backgroundcolor\":\"rgb(17,17,17)\",\"gridcolor\":\"#506784\",\"gridwidth\":2,\"linecolor\":\"#506784\",\"showbackground\":true,\"ticks\":\"\",\"zerolinecolor\":\"#C8D4E3\"}},\"shapedefaults\":{\"line\":{\"color\":\"#f2f5fa\"}},\"sliderdefaults\":{\"bgcolor\":\"#C8D4E3\",\"bordercolor\":\"rgb(17,17,17)\",\"borderwidth\":1,\"tickwidth\":0},\"ternary\":{\"aaxis\":{\"gridcolor\":\"#506784\",\"linecolor\":\"#506784\",\"ticks\":\"\"},\"baxis\":{\"gridcolor\":\"#506784\",\"linecolor\":\"#506784\",\"ticks\":\"\"},\"bgcolor\":\"rgb(17,17,17)\",\"caxis\":{\"gridcolor\":\"#506784\",\"linecolor\":\"#506784\",\"ticks\":\"\"}},\"title\":{\"x\":0.05},\"updatemenudefaults\":{\"bgcolor\":\"#506784\",\"borderwidth\":0},\"xaxis\":{\"automargin\":true,\"gridcolor\":\"#283442\",\"linecolor\":\"#506784\",\"ticks\":\"\",\"title\":{\"standoff\":15},\"zerolinecolor\":\"#283442\",\"zerolinewidth\":2},\"yaxis\":{\"automargin\":true,\"gridcolor\":\"#283442\",\"linecolor\":\"#506784\",\"ticks\":\"\",\"title\":{\"standoff\":15},\"zerolinecolor\":\"#283442\",\"zerolinewidth\":2}}},\"xaxis\":{\"anchor\":\"y\",\"domain\":[0.0,1.0],\"title\":{\"text\":\"Education\"}},\"yaxis\":{\"anchor\":\"x\",\"domain\":[0.0,1.0],\"title\":{\"text\":\"count\"}},\"legend\":{\"title\":{\"text\":\"Attrition\"},\"tracegroupgap\":0},\"title\":{\"text\":\"<b>Counts of Education</b>\",\"font\":{\"size\":20},\"x\":0.5},\"barmode\":\"relative\",\"uniformtext\":{\"minsize\":15}},                        {\"responsive\": true}                    ).then(function(){\n",
       "                            \n",
       "var gd = document.getElementById('c640b6c1-c023-4d70-92be-d5514b48763b');\n",
       "var x = new MutationObserver(function (mutations, observer) {{\n",
       "        var display = window.getComputedStyle(gd).display;\n",
       "        if (!display || display === 'none') {{\n",
       "            console.log([gd, 'removed!']);\n",
       "            Plotly.purge(gd);\n",
       "            observer.disconnect();\n",
       "        }}\n",
       "}});\n",
       "\n",
       "// Listen for the removal of the full notebook cells\n",
       "var notebookContainer = gd.closest('#notebook-container');\n",
       "if (notebookContainer) {{\n",
       "    x.observe(notebookContainer, {childList: true});\n",
       "}}\n",
       "\n",
       "// Listen for the clearing of the current output cell\n",
       "var outputEl = gd.closest('.output');\n",
       "if (outputEl) {{\n",
       "    x.observe(outputEl, {childList: true});\n",
       "}}\n",
       "\n",
       "                        })                };                });            </script>        </div>"
      ]
     },
     "metadata": {},
     "output_type": "display_data"
    }
   ],
   "source": [
    "fig = px.histogram(data_frame = data,\n",
    "             x = \"Education\",\n",
    "             color=\"Attrition\", title=\"<b>Counts of Education</b>\",\n",
    "             pattern_shape_sequence=['x'],\n",
    "             template='plotly_dark')\n",
    "\n",
    "fig.update_layout(title_x = 0.5,\n",
    "                  title_font = dict(size = 20),\n",
    "                  uniformtext_minsize = 15)\n",
    "\n",
    "\n",
    "fig.show()"
   ]
  },
  {
   "cell_type": "code",
   "execution_count": 36,
   "metadata": {
    "scrolled": true
   },
   "outputs": [
    {
     "data": {
      "application/vnd.plotly.v1+json": {
       "config": {
        "plotlyServerURL": "https://plot.ly"
       },
       "data": [
        {
         "alignmentgroup": "True",
         "bingroup": "x",
         "hovertemplate": "Attrition=1<br>JobSatisfaction=%{x}<br>count=%{y}<extra></extra>",
         "legendgroup": "1",
         "marker": {
          "color": "#636efa",
          "pattern": {
           "shape": "x"
          }
         },
         "name": "1",
         "offsetgroup": "1",
         "orientation": "v",
         "showlegend": true,
         "type": "histogram",
         "x": [
          4,
          3,
          3,
          1,
          1,
          1,
          4,
          4,
          3,
          3,
          3,
          3,
          3,
          3,
          4,
          1,
          4,
          3,
          3,
          2,
          3,
          4,
          3,
          3,
          4,
          1,
          1,
          4,
          2,
          3,
          1,
          4,
          4,
          1,
          1,
          3,
          4,
          4,
          1,
          3,
          3,
          2,
          3,
          2,
          3,
          2,
          4,
          3,
          2,
          4,
          3,
          1,
          2,
          3,
          2,
          3,
          2,
          4,
          1,
          4,
          1,
          2,
          3,
          2,
          4,
          3,
          4,
          3,
          1,
          3,
          3,
          2,
          4,
          3,
          3,
          1,
          1,
          1,
          1,
          3,
          1,
          3,
          3,
          2,
          3,
          4,
          3,
          1,
          1,
          1,
          1,
          1,
          2,
          3,
          4,
          4,
          3,
          2,
          3,
          4,
          4,
          3,
          4,
          3,
          4,
          1,
          2,
          2,
          1,
          4,
          3,
          3,
          2,
          1,
          1,
          3,
          2,
          1,
          2,
          2,
          1,
          4,
          1,
          3,
          1,
          4,
          1,
          3,
          1,
          1,
          1,
          3,
          4,
          3,
          2,
          2,
          3,
          4,
          3,
          1,
          3,
          1,
          1,
          4,
          3,
          3,
          4,
          1,
          2,
          2,
          4,
          2,
          3,
          4,
          3,
          3,
          1,
          2,
          2,
          2,
          1,
          1,
          3,
          4,
          3,
          3,
          3,
          1,
          4,
          3,
          2,
          1,
          4,
          1,
          2,
          4,
          3,
          3,
          2,
          2,
          1,
          1,
          1,
          1,
          3,
          1,
          1,
          4,
          2,
          2,
          4,
          1,
          4,
          1,
          4,
          3,
          3,
          2,
          4,
          3,
          3,
          1,
          2,
          4,
          2,
          1,
          3,
          3,
          2,
          1,
          2,
          4,
          1,
          1,
          2,
          2,
          1,
          1,
          2,
          4,
          2,
          4,
          2,
          1,
          4,
          1,
          3,
          3,
          2,
          4,
          4,
          1,
          1,
          4,
          3,
          3,
          1
         ],
         "xaxis": "x",
         "yaxis": "y"
        },
        {
         "alignmentgroup": "True",
         "bingroup": "x",
         "hovertemplate": "Attrition=0<br>JobSatisfaction=%{x}<br>count=%{y}<extra></extra>",
         "legendgroup": "0",
         "marker": {
          "color": "#EF553B",
          "pattern": {
           "shape": "x"
          }
         },
         "name": "0",
         "offsetgroup": "0",
         "orientation": "v",
         "showlegend": true,
         "type": "histogram",
         "x": [
          2,
          3,
          2,
          4,
          1,
          3,
          3,
          3,
          2,
          3,
          3,
          4,
          1,
          2,
          4,
          4,
          4,
          3,
          2,
          4,
          3,
          2,
          4,
          1,
          4,
          4,
          3,
          3,
          4,
          1,
          1,
          4,
          1,
          3,
          4,
          3,
          2,
          4,
          4,
          1,
          1,
          4,
          4,
          1,
          1,
          4,
          3,
          4,
          4,
          3,
          1,
          3,
          3,
          2,
          1,
          1,
          3,
          2,
          2,
          2,
          4,
          4,
          1,
          1,
          3,
          2,
          4,
          3,
          4,
          4,
          2,
          4,
          1,
          4,
          4,
          2,
          4,
          2,
          1,
          3,
          3,
          3,
          3,
          3,
          2,
          1,
          3,
          4,
          4,
          2,
          4,
          4,
          1,
          4,
          3,
          2,
          4,
          1,
          4,
          4,
          4,
          3,
          2,
          3,
          2,
          4,
          1,
          3,
          4,
          3,
          3,
          2,
          3,
          3,
          4,
          4,
          3,
          3,
          4,
          1,
          4,
          1,
          1,
          2,
          2,
          2,
          3,
          2,
          4,
          3,
          3,
          2,
          4,
          3,
          4,
          2,
          4,
          4,
          3,
          2,
          3,
          4,
          4,
          3,
          2,
          2,
          1,
          1,
          1,
          4,
          1,
          4,
          4,
          2,
          3,
          1,
          2,
          3,
          2,
          3,
          2,
          3,
          2,
          4,
          4,
          1,
          2,
          3,
          3,
          4,
          1,
          4,
          3,
          4,
          2,
          4,
          4,
          1,
          3,
          3,
          2,
          4,
          4,
          1,
          2,
          2,
          4,
          3,
          3,
          4,
          4,
          4,
          3,
          4,
          4,
          3,
          4,
          4,
          3,
          2,
          3,
          4,
          1,
          4,
          4,
          3,
          4,
          1,
          1,
          3,
          3,
          4,
          1,
          4,
          3,
          1,
          3,
          4,
          2,
          4,
          1,
          2,
          2,
          4,
          1,
          4,
          4,
          1,
          4,
          4,
          3,
          4,
          2,
          1,
          2,
          2,
          3,
          3,
          4,
          4,
          1,
          4,
          4,
          4,
          1,
          2,
          2,
          4,
          2,
          2,
          4,
          2,
          2,
          3,
          1,
          4,
          4,
          2,
          3,
          2,
          3,
          4,
          1,
          1,
          4,
          2,
          1,
          4,
          3,
          2,
          2,
          3,
          4,
          4,
          4,
          3,
          4,
          4,
          3,
          3,
          2,
          3,
          1,
          4,
          4,
          4,
          3,
          2,
          4,
          4,
          4,
          2,
          2,
          4,
          2,
          3,
          4,
          3,
          3,
          2,
          3,
          1,
          3,
          3,
          4,
          4,
          4,
          3,
          3,
          4,
          1,
          3,
          4,
          2,
          4,
          2,
          2,
          4,
          3,
          4,
          3,
          4,
          3,
          2,
          2,
          3,
          1,
          2,
          1,
          2,
          2,
          3,
          1,
          3,
          1,
          4,
          3,
          4,
          3,
          1,
          3,
          1,
          3,
          1,
          1,
          3,
          4,
          4,
          3,
          4,
          1,
          3,
          4,
          4,
          3,
          4,
          4,
          3,
          1,
          4,
          3,
          4,
          1,
          4,
          3,
          3,
          3,
          3,
          4,
          2,
          2,
          3,
          3,
          4,
          4,
          2,
          4,
          3,
          3,
          3,
          4,
          1,
          2,
          4,
          3,
          4,
          1,
          3,
          3,
          3,
          4,
          4,
          3,
          1,
          2,
          1,
          4,
          3,
          2,
          3,
          4,
          2,
          2,
          2,
          3,
          4,
          4,
          4,
          3,
          3,
          2,
          4,
          4,
          1,
          3,
          1,
          3,
          3,
          3,
          4,
          3,
          3,
          4,
          3,
          1,
          4,
          4,
          3,
          3,
          4,
          4,
          2,
          2,
          4,
          3,
          1,
          2,
          4,
          4,
          2,
          4,
          4,
          3,
          2,
          3,
          4,
          4,
          1,
          4,
          1,
          1,
          3,
          4,
          1,
          1,
          3,
          2,
          1,
          3,
          3,
          3,
          4,
          3,
          4,
          3,
          1,
          2,
          4,
          4,
          1,
          2,
          4,
          1,
          4,
          3,
          1,
          1,
          4,
          3,
          3,
          4,
          1,
          4,
          4,
          3,
          4,
          1,
          4,
          1,
          1,
          1,
          4,
          3,
          2,
          1,
          4,
          2,
          3,
          3,
          3,
          4,
          2,
          3,
          3,
          4,
          2,
          3,
          3,
          4,
          3,
          2,
          1,
          4,
          1,
          4,
          3,
          2,
          4,
          4,
          3,
          2,
          1,
          1,
          1,
          4,
          4,
          4,
          4,
          1,
          3,
          4,
          3,
          4,
          4,
          4,
          4,
          1,
          1,
          3,
          4,
          1,
          1,
          4,
          2,
          2,
          4,
          4,
          4,
          2,
          4,
          4,
          4,
          4,
          2,
          1,
          4,
          2,
          4,
          1,
          4,
          2,
          4,
          4,
          3,
          3,
          2,
          3,
          1,
          2,
          3,
          4,
          2,
          3,
          3,
          4,
          1,
          2,
          2,
          1,
          1,
          3,
          4,
          2,
          1,
          4,
          2,
          4,
          3,
          4,
          3,
          3,
          4,
          4,
          3,
          3,
          4,
          3,
          4,
          4,
          4,
          2,
          3,
          2,
          1,
          4,
          3,
          3,
          3,
          3,
          1,
          4,
          3,
          3,
          1,
          4,
          1,
          3,
          3,
          3,
          4,
          4,
          4,
          3,
          4,
          4,
          2,
          3,
          4,
          4,
          3,
          1,
          4,
          4,
          3,
          4,
          4,
          2,
          2,
          3,
          2,
          3,
          3,
          2,
          1,
          3,
          4,
          3,
          3,
          4,
          1,
          4,
          1,
          1,
          1,
          3,
          3,
          4,
          3,
          2,
          3,
          4,
          3,
          4,
          4,
          1,
          2,
          4,
          4,
          3,
          2,
          3,
          4,
          2,
          3,
          2,
          1,
          3,
          2,
          2,
          4,
          4,
          2,
          4,
          2,
          3,
          2,
          4,
          4,
          3,
          3,
          4,
          4,
          3,
          3,
          3,
          3,
          1,
          3,
          2,
          4,
          3,
          4,
          2,
          1,
          4,
          1,
          1,
          4,
          1,
          3,
          4,
          3,
          3,
          4,
          1,
          3,
          3,
          1,
          2,
          1,
          1,
          2,
          1,
          3,
          3,
          3,
          4,
          4,
          4,
          1,
          4,
          2,
          3,
          1,
          4,
          2,
          4,
          2,
          1,
          4,
          1,
          3,
          4,
          4,
          4,
          1,
          1,
          4,
          4,
          3,
          2,
          2,
          3,
          4,
          4,
          4,
          3,
          2,
          3,
          4,
          3,
          4,
          2,
          2,
          1,
          2,
          4,
          2,
          3,
          1,
          2,
          3,
          2,
          4,
          2,
          4,
          3,
          3,
          1,
          2,
          4,
          2,
          2,
          3,
          4,
          3,
          1,
          4,
          1,
          1,
          3,
          3,
          2,
          3,
          3,
          2,
          3,
          4,
          4,
          1,
          3,
          2,
          1,
          1,
          4,
          2,
          1,
          4,
          4,
          2,
          4,
          4,
          4,
          2,
          3,
          3,
          3,
          3,
          4,
          1,
          4,
          2,
          4,
          3,
          4,
          2,
          3,
          3,
          3,
          3,
          4,
          4,
          1,
          1,
          3,
          4,
          4,
          1,
          1,
          4,
          1,
          4,
          2,
          1,
          2,
          1,
          1,
          4,
          1,
          4,
          3,
          1,
          3,
          3,
          4,
          2,
          3,
          3,
          4,
          1,
          2,
          4,
          1,
          2,
          1,
          3,
          2,
          3,
          3,
          2,
          1,
          1,
          3,
          4,
          3,
          3,
          3,
          2,
          1,
          3,
          2,
          3,
          3,
          3,
          3,
          2,
          3,
          3,
          1,
          1,
          2,
          2,
          3,
          4,
          4,
          1,
          2,
          2,
          2,
          3,
          3,
          4,
          3,
          2,
          4,
          1,
          2,
          4,
          4,
          1,
          3,
          4,
          1,
          4,
          2,
          3,
          2,
          4,
          3,
          3,
          1,
          3,
          1,
          2,
          1,
          1,
          4,
          4,
          4,
          4,
          2,
          2,
          3,
          1,
          3,
          3,
          4,
          3,
          3,
          1,
          4,
          3,
          3,
          1,
          2,
          4,
          1,
          3,
          3,
          4,
          4,
          2,
          1,
          1,
          1,
          3,
          4,
          1,
          1,
          1,
          1,
          1,
          4,
          3,
          3,
          3,
          3,
          3,
          3,
          4,
          3,
          2,
          4,
          4,
          4,
          4,
          3,
          4,
          3,
          1,
          3,
          2,
          2,
          1,
          3,
          2,
          2,
          3,
          3,
          1,
          3,
          3,
          4,
          2,
          4,
          2,
          4,
          1,
          2,
          2,
          3,
          3,
          1,
          4,
          3,
          4,
          3,
          4,
          4,
          2,
          4,
          4,
          2,
          4,
          4,
          4,
          4,
          4,
          3,
          3,
          3,
          4,
          3,
          3,
          2,
          3,
          3,
          2,
          1,
          1,
          2,
          3,
          4,
          2,
          4,
          2,
          4,
          4,
          3,
          2,
          3,
          1,
          4,
          3,
          4,
          3,
          1,
          4,
          2,
          4,
          2,
          1,
          3,
          2,
          4,
          2,
          1,
          2,
          1,
          3,
          3,
          4,
          4,
          3,
          4,
          3,
          2,
          4,
          1,
          2,
          1,
          4,
          3,
          2,
          1,
          1,
          4,
          2,
          4,
          3,
          2,
          3,
          3,
          4,
          3,
          2,
          3,
          2,
          1,
          4,
          1,
          1,
          4,
          4,
          3,
          3,
          3,
          2,
          4,
          4,
          4,
          4,
          3,
          3,
          4,
          4,
          3,
          3,
          1,
          3,
          2,
          3,
          2,
          1,
          4,
          4,
          2,
          3,
          3,
          4,
          1,
          1,
          2,
          4,
          4,
          1,
          3,
          3,
          4,
          1,
          2,
          2,
          1,
          4,
          4,
          3,
          4,
          3,
          3,
          4,
          3,
          2,
          4,
          2,
          1,
          1,
          2,
          4,
          4,
          4,
          4,
          1,
          3,
          1,
          2,
          4,
          3,
          1,
          1,
          4,
          1,
          1,
          4,
          4,
          4,
          3,
          3,
          3,
          2,
          2,
          4,
          1,
          3,
          3,
          1,
          3,
          4,
          3,
          2,
          2,
          2,
          3,
          3,
          3,
          2,
          3,
          3,
          1,
          4,
          2,
          3,
          3,
          3,
          4,
          2,
          4,
          2,
          4,
          3,
          4,
          4,
          3,
          4,
          4,
          1,
          4,
          4,
          2,
          3,
          3,
          2,
          3,
          4,
          2,
          1,
          4,
          4,
          4,
          3,
          3,
          3,
          3,
          4,
          2,
          1,
          4,
          1,
          3,
          4,
          1,
          2,
          2,
          3
         ],
         "xaxis": "x",
         "yaxis": "y"
        }
       ],
       "layout": {
        "barmode": "relative",
        "legend": {
         "title": {
          "text": "Attrition"
         },
         "tracegroupgap": 0
        },
        "template": {
         "data": {
          "bar": [
           {
            "error_x": {
             "color": "#f2f5fa"
            },
            "error_y": {
             "color": "#f2f5fa"
            },
            "marker": {
             "line": {
              "color": "rgb(17,17,17)",
              "width": 0.5
             },
             "pattern": {
              "fillmode": "overlay",
              "size": 10,
              "solidity": 0.2
             }
            },
            "type": "bar"
           }
          ],
          "barpolar": [
           {
            "marker": {
             "line": {
              "color": "rgb(17,17,17)",
              "width": 0.5
             },
             "pattern": {
              "fillmode": "overlay",
              "size": 10,
              "solidity": 0.2
             }
            },
            "type": "barpolar"
           }
          ],
          "carpet": [
           {
            "aaxis": {
             "endlinecolor": "#A2B1C6",
             "gridcolor": "#506784",
             "linecolor": "#506784",
             "minorgridcolor": "#506784",
             "startlinecolor": "#A2B1C6"
            },
            "baxis": {
             "endlinecolor": "#A2B1C6",
             "gridcolor": "#506784",
             "linecolor": "#506784",
             "minorgridcolor": "#506784",
             "startlinecolor": "#A2B1C6"
            },
            "type": "carpet"
           }
          ],
          "choropleth": [
           {
            "colorbar": {
             "outlinewidth": 0,
             "ticks": ""
            },
            "type": "choropleth"
           }
          ],
          "contour": [
           {
            "colorbar": {
             "outlinewidth": 0,
             "ticks": ""
            },
            "colorscale": [
             [
              0,
              "#0d0887"
             ],
             [
              0.1111111111111111,
              "#46039f"
             ],
             [
              0.2222222222222222,
              "#7201a8"
             ],
             [
              0.3333333333333333,
              "#9c179e"
             ],
             [
              0.4444444444444444,
              "#bd3786"
             ],
             [
              0.5555555555555556,
              "#d8576b"
             ],
             [
              0.6666666666666666,
              "#ed7953"
             ],
             [
              0.7777777777777778,
              "#fb9f3a"
             ],
             [
              0.8888888888888888,
              "#fdca26"
             ],
             [
              1,
              "#f0f921"
             ]
            ],
            "type": "contour"
           }
          ],
          "contourcarpet": [
           {
            "colorbar": {
             "outlinewidth": 0,
             "ticks": ""
            },
            "type": "contourcarpet"
           }
          ],
          "heatmap": [
           {
            "colorbar": {
             "outlinewidth": 0,
             "ticks": ""
            },
            "colorscale": [
             [
              0,
              "#0d0887"
             ],
             [
              0.1111111111111111,
              "#46039f"
             ],
             [
              0.2222222222222222,
              "#7201a8"
             ],
             [
              0.3333333333333333,
              "#9c179e"
             ],
             [
              0.4444444444444444,
              "#bd3786"
             ],
             [
              0.5555555555555556,
              "#d8576b"
             ],
             [
              0.6666666666666666,
              "#ed7953"
             ],
             [
              0.7777777777777778,
              "#fb9f3a"
             ],
             [
              0.8888888888888888,
              "#fdca26"
             ],
             [
              1,
              "#f0f921"
             ]
            ],
            "type": "heatmap"
           }
          ],
          "heatmapgl": [
           {
            "colorbar": {
             "outlinewidth": 0,
             "ticks": ""
            },
            "colorscale": [
             [
              0,
              "#0d0887"
             ],
             [
              0.1111111111111111,
              "#46039f"
             ],
             [
              0.2222222222222222,
              "#7201a8"
             ],
             [
              0.3333333333333333,
              "#9c179e"
             ],
             [
              0.4444444444444444,
              "#bd3786"
             ],
             [
              0.5555555555555556,
              "#d8576b"
             ],
             [
              0.6666666666666666,
              "#ed7953"
             ],
             [
              0.7777777777777778,
              "#fb9f3a"
             ],
             [
              0.8888888888888888,
              "#fdca26"
             ],
             [
              1,
              "#f0f921"
             ]
            ],
            "type": "heatmapgl"
           }
          ],
          "histogram": [
           {
            "marker": {
             "pattern": {
              "fillmode": "overlay",
              "size": 10,
              "solidity": 0.2
             }
            },
            "type": "histogram"
           }
          ],
          "histogram2d": [
           {
            "colorbar": {
             "outlinewidth": 0,
             "ticks": ""
            },
            "colorscale": [
             [
              0,
              "#0d0887"
             ],
             [
              0.1111111111111111,
              "#46039f"
             ],
             [
              0.2222222222222222,
              "#7201a8"
             ],
             [
              0.3333333333333333,
              "#9c179e"
             ],
             [
              0.4444444444444444,
              "#bd3786"
             ],
             [
              0.5555555555555556,
              "#d8576b"
             ],
             [
              0.6666666666666666,
              "#ed7953"
             ],
             [
              0.7777777777777778,
              "#fb9f3a"
             ],
             [
              0.8888888888888888,
              "#fdca26"
             ],
             [
              1,
              "#f0f921"
             ]
            ],
            "type": "histogram2d"
           }
          ],
          "histogram2dcontour": [
           {
            "colorbar": {
             "outlinewidth": 0,
             "ticks": ""
            },
            "colorscale": [
             [
              0,
              "#0d0887"
             ],
             [
              0.1111111111111111,
              "#46039f"
             ],
             [
              0.2222222222222222,
              "#7201a8"
             ],
             [
              0.3333333333333333,
              "#9c179e"
             ],
             [
              0.4444444444444444,
              "#bd3786"
             ],
             [
              0.5555555555555556,
              "#d8576b"
             ],
             [
              0.6666666666666666,
              "#ed7953"
             ],
             [
              0.7777777777777778,
              "#fb9f3a"
             ],
             [
              0.8888888888888888,
              "#fdca26"
             ],
             [
              1,
              "#f0f921"
             ]
            ],
            "type": "histogram2dcontour"
           }
          ],
          "mesh3d": [
           {
            "colorbar": {
             "outlinewidth": 0,
             "ticks": ""
            },
            "type": "mesh3d"
           }
          ],
          "parcoords": [
           {
            "line": {
             "colorbar": {
              "outlinewidth": 0,
              "ticks": ""
             }
            },
            "type": "parcoords"
           }
          ],
          "pie": [
           {
            "automargin": true,
            "type": "pie"
           }
          ],
          "scatter": [
           {
            "marker": {
             "line": {
              "color": "#283442"
             }
            },
            "type": "scatter"
           }
          ],
          "scatter3d": [
           {
            "line": {
             "colorbar": {
              "outlinewidth": 0,
              "ticks": ""
             }
            },
            "marker": {
             "colorbar": {
              "outlinewidth": 0,
              "ticks": ""
             }
            },
            "type": "scatter3d"
           }
          ],
          "scattercarpet": [
           {
            "marker": {
             "colorbar": {
              "outlinewidth": 0,
              "ticks": ""
             }
            },
            "type": "scattercarpet"
           }
          ],
          "scattergeo": [
           {
            "marker": {
             "colorbar": {
              "outlinewidth": 0,
              "ticks": ""
             }
            },
            "type": "scattergeo"
           }
          ],
          "scattergl": [
           {
            "marker": {
             "line": {
              "color": "#283442"
             }
            },
            "type": "scattergl"
           }
          ],
          "scattermapbox": [
           {
            "marker": {
             "colorbar": {
              "outlinewidth": 0,
              "ticks": ""
             }
            },
            "type": "scattermapbox"
           }
          ],
          "scatterpolar": [
           {
            "marker": {
             "colorbar": {
              "outlinewidth": 0,
              "ticks": ""
             }
            },
            "type": "scatterpolar"
           }
          ],
          "scatterpolargl": [
           {
            "marker": {
             "colorbar": {
              "outlinewidth": 0,
              "ticks": ""
             }
            },
            "type": "scatterpolargl"
           }
          ],
          "scatterternary": [
           {
            "marker": {
             "colorbar": {
              "outlinewidth": 0,
              "ticks": ""
             }
            },
            "type": "scatterternary"
           }
          ],
          "surface": [
           {
            "colorbar": {
             "outlinewidth": 0,
             "ticks": ""
            },
            "colorscale": [
             [
              0,
              "#0d0887"
             ],
             [
              0.1111111111111111,
              "#46039f"
             ],
             [
              0.2222222222222222,
              "#7201a8"
             ],
             [
              0.3333333333333333,
              "#9c179e"
             ],
             [
              0.4444444444444444,
              "#bd3786"
             ],
             [
              0.5555555555555556,
              "#d8576b"
             ],
             [
              0.6666666666666666,
              "#ed7953"
             ],
             [
              0.7777777777777778,
              "#fb9f3a"
             ],
             [
              0.8888888888888888,
              "#fdca26"
             ],
             [
              1,
              "#f0f921"
             ]
            ],
            "type": "surface"
           }
          ],
          "table": [
           {
            "cells": {
             "fill": {
              "color": "#506784"
             },
             "line": {
              "color": "rgb(17,17,17)"
             }
            },
            "header": {
             "fill": {
              "color": "#2a3f5f"
             },
             "line": {
              "color": "rgb(17,17,17)"
             }
            },
            "type": "table"
           }
          ]
         },
         "layout": {
          "annotationdefaults": {
           "arrowcolor": "#f2f5fa",
           "arrowhead": 0,
           "arrowwidth": 1
          },
          "autotypenumbers": "strict",
          "coloraxis": {
           "colorbar": {
            "outlinewidth": 0,
            "ticks": ""
           }
          },
          "colorscale": {
           "diverging": [
            [
             0,
             "#8e0152"
            ],
            [
             0.1,
             "#c51b7d"
            ],
            [
             0.2,
             "#de77ae"
            ],
            [
             0.3,
             "#f1b6da"
            ],
            [
             0.4,
             "#fde0ef"
            ],
            [
             0.5,
             "#f7f7f7"
            ],
            [
             0.6,
             "#e6f5d0"
            ],
            [
             0.7,
             "#b8e186"
            ],
            [
             0.8,
             "#7fbc41"
            ],
            [
             0.9,
             "#4d9221"
            ],
            [
             1,
             "#276419"
            ]
           ],
           "sequential": [
            [
             0,
             "#0d0887"
            ],
            [
             0.1111111111111111,
             "#46039f"
            ],
            [
             0.2222222222222222,
             "#7201a8"
            ],
            [
             0.3333333333333333,
             "#9c179e"
            ],
            [
             0.4444444444444444,
             "#bd3786"
            ],
            [
             0.5555555555555556,
             "#d8576b"
            ],
            [
             0.6666666666666666,
             "#ed7953"
            ],
            [
             0.7777777777777778,
             "#fb9f3a"
            ],
            [
             0.8888888888888888,
             "#fdca26"
            ],
            [
             1,
             "#f0f921"
            ]
           ],
           "sequentialminus": [
            [
             0,
             "#0d0887"
            ],
            [
             0.1111111111111111,
             "#46039f"
            ],
            [
             0.2222222222222222,
             "#7201a8"
            ],
            [
             0.3333333333333333,
             "#9c179e"
            ],
            [
             0.4444444444444444,
             "#bd3786"
            ],
            [
             0.5555555555555556,
             "#d8576b"
            ],
            [
             0.6666666666666666,
             "#ed7953"
            ],
            [
             0.7777777777777778,
             "#fb9f3a"
            ],
            [
             0.8888888888888888,
             "#fdca26"
            ],
            [
             1,
             "#f0f921"
            ]
           ]
          },
          "colorway": [
           "#636efa",
           "#EF553B",
           "#00cc96",
           "#ab63fa",
           "#FFA15A",
           "#19d3f3",
           "#FF6692",
           "#B6E880",
           "#FF97FF",
           "#FECB52"
          ],
          "font": {
           "color": "#f2f5fa"
          },
          "geo": {
           "bgcolor": "rgb(17,17,17)",
           "lakecolor": "rgb(17,17,17)",
           "landcolor": "rgb(17,17,17)",
           "showlakes": true,
           "showland": true,
           "subunitcolor": "#506784"
          },
          "hoverlabel": {
           "align": "left"
          },
          "hovermode": "closest",
          "mapbox": {
           "style": "dark"
          },
          "paper_bgcolor": "rgb(17,17,17)",
          "plot_bgcolor": "rgb(17,17,17)",
          "polar": {
           "angularaxis": {
            "gridcolor": "#506784",
            "linecolor": "#506784",
            "ticks": ""
           },
           "bgcolor": "rgb(17,17,17)",
           "radialaxis": {
            "gridcolor": "#506784",
            "linecolor": "#506784",
            "ticks": ""
           }
          },
          "scene": {
           "xaxis": {
            "backgroundcolor": "rgb(17,17,17)",
            "gridcolor": "#506784",
            "gridwidth": 2,
            "linecolor": "#506784",
            "showbackground": true,
            "ticks": "",
            "zerolinecolor": "#C8D4E3"
           },
           "yaxis": {
            "backgroundcolor": "rgb(17,17,17)",
            "gridcolor": "#506784",
            "gridwidth": 2,
            "linecolor": "#506784",
            "showbackground": true,
            "ticks": "",
            "zerolinecolor": "#C8D4E3"
           },
           "zaxis": {
            "backgroundcolor": "rgb(17,17,17)",
            "gridcolor": "#506784",
            "gridwidth": 2,
            "linecolor": "#506784",
            "showbackground": true,
            "ticks": "",
            "zerolinecolor": "#C8D4E3"
           }
          },
          "shapedefaults": {
           "line": {
            "color": "#f2f5fa"
           }
          },
          "sliderdefaults": {
           "bgcolor": "#C8D4E3",
           "bordercolor": "rgb(17,17,17)",
           "borderwidth": 1,
           "tickwidth": 0
          },
          "ternary": {
           "aaxis": {
            "gridcolor": "#506784",
            "linecolor": "#506784",
            "ticks": ""
           },
           "baxis": {
            "gridcolor": "#506784",
            "linecolor": "#506784",
            "ticks": ""
           },
           "bgcolor": "rgb(17,17,17)",
           "caxis": {
            "gridcolor": "#506784",
            "linecolor": "#506784",
            "ticks": ""
           }
          },
          "title": {
           "x": 0.05
          },
          "updatemenudefaults": {
           "bgcolor": "#506784",
           "borderwidth": 0
          },
          "xaxis": {
           "automargin": true,
           "gridcolor": "#283442",
           "linecolor": "#506784",
           "ticks": "",
           "title": {
            "standoff": 15
           },
           "zerolinecolor": "#283442",
           "zerolinewidth": 2
          },
          "yaxis": {
           "automargin": true,
           "gridcolor": "#283442",
           "linecolor": "#506784",
           "ticks": "",
           "title": {
            "standoff": 15
           },
           "zerolinecolor": "#283442",
           "zerolinewidth": 2
          }
         }
        },
        "title": {
         "font": {
          "size": 20
         },
         "text": "<b>Counts of Education</b>",
         "x": 0.5
        },
        "uniformtext": {
         "minsize": 15
        },
        "xaxis": {
         "anchor": "y",
         "domain": [
          0,
          1
         ],
         "title": {
          "text": "JobSatisfaction"
         }
        },
        "yaxis": {
         "anchor": "x",
         "domain": [
          0,
          1
         ],
         "title": {
          "text": "count"
         }
        }
       }
      },
      "text/html": [
       "<div>                            <div id=\"8f8452ad-5ed5-43c7-959b-d93caf9c3a36\" class=\"plotly-graph-div\" style=\"height:525px; width:100%;\"></div>            <script type=\"text/javascript\">                require([\"plotly\"], function(Plotly) {                    window.PLOTLYENV=window.PLOTLYENV || {};                                    if (document.getElementById(\"8f8452ad-5ed5-43c7-959b-d93caf9c3a36\")) {                    Plotly.newPlot(                        \"8f8452ad-5ed5-43c7-959b-d93caf9c3a36\",                        [{\"alignmentgroup\":\"True\",\"bingroup\":\"x\",\"hovertemplate\":\"Attrition=1<br>JobSatisfaction=%{x}<br>count=%{y}<extra></extra>\",\"legendgroup\":\"1\",\"marker\":{\"color\":\"#636efa\",\"pattern\":{\"shape\":\"x\"}},\"name\":\"1\",\"offsetgroup\":\"1\",\"orientation\":\"v\",\"showlegend\":true,\"x\":[4,3,3,1,1,1,4,4,3,3,3,3,3,3,4,1,4,3,3,2,3,4,3,3,4,1,1,4,2,3,1,4,4,1,1,3,4,4,1,3,3,2,3,2,3,2,4,3,2,4,3,1,2,3,2,3,2,4,1,4,1,2,3,2,4,3,4,3,1,3,3,2,4,3,3,1,1,1,1,3,1,3,3,2,3,4,3,1,1,1,1,1,2,3,4,4,3,2,3,4,4,3,4,3,4,1,2,2,1,4,3,3,2,1,1,3,2,1,2,2,1,4,1,3,1,4,1,3,1,1,1,3,4,3,2,2,3,4,3,1,3,1,1,4,3,3,4,1,2,2,4,2,3,4,3,3,1,2,2,2,1,1,3,4,3,3,3,1,4,3,2,1,4,1,2,4,3,3,2,2,1,1,1,1,3,1,1,4,2,2,4,1,4,1,4,3,3,2,4,3,3,1,2,4,2,1,3,3,2,1,2,4,1,1,2,2,1,1,2,4,2,4,2,1,4,1,3,3,2,4,4,1,1,4,3,3,1],\"xaxis\":\"x\",\"yaxis\":\"y\",\"type\":\"histogram\"},{\"alignmentgroup\":\"True\",\"bingroup\":\"x\",\"hovertemplate\":\"Attrition=0<br>JobSatisfaction=%{x}<br>count=%{y}<extra></extra>\",\"legendgroup\":\"0\",\"marker\":{\"color\":\"#EF553B\",\"pattern\":{\"shape\":\"x\"}},\"name\":\"0\",\"offsetgroup\":\"0\",\"orientation\":\"v\",\"showlegend\":true,\"x\":[2,3,2,4,1,3,3,3,2,3,3,4,1,2,4,4,4,3,2,4,3,2,4,1,4,4,3,3,4,1,1,4,1,3,4,3,2,4,4,1,1,4,4,1,1,4,3,4,4,3,1,3,3,2,1,1,3,2,2,2,4,4,1,1,3,2,4,3,4,4,2,4,1,4,4,2,4,2,1,3,3,3,3,3,2,1,3,4,4,2,4,4,1,4,3,2,4,1,4,4,4,3,2,3,2,4,1,3,4,3,3,2,3,3,4,4,3,3,4,1,4,1,1,2,2,2,3,2,4,3,3,2,4,3,4,2,4,4,3,2,3,4,4,3,2,2,1,1,1,4,1,4,4,2,3,1,2,3,2,3,2,3,2,4,4,1,2,3,3,4,1,4,3,4,2,4,4,1,3,3,2,4,4,1,2,2,4,3,3,4,4,4,3,4,4,3,4,4,3,2,3,4,1,4,4,3,4,1,1,3,3,4,1,4,3,1,3,4,2,4,1,2,2,4,1,4,4,1,4,4,3,4,2,1,2,2,3,3,4,4,1,4,4,4,1,2,2,4,2,2,4,2,2,3,1,4,4,2,3,2,3,4,1,1,4,2,1,4,3,2,2,3,4,4,4,3,4,4,3,3,2,3,1,4,4,4,3,2,4,4,4,2,2,4,2,3,4,3,3,2,3,1,3,3,4,4,4,3,3,4,1,3,4,2,4,2,2,4,3,4,3,4,3,2,2,3,1,2,1,2,2,3,1,3,1,4,3,4,3,1,3,1,3,1,1,3,4,4,3,4,1,3,4,4,3,4,4,3,1,4,3,4,1,4,3,3,3,3,4,2,2,3,3,4,4,2,4,3,3,3,4,1,2,4,3,4,1,3,3,3,4,4,3,1,2,1,4,3,2,3,4,2,2,2,3,4,4,4,3,3,2,4,4,1,3,1,3,3,3,4,3,3,4,3,1,4,4,3,3,4,4,2,2,4,3,1,2,4,4,2,4,4,3,2,3,4,4,1,4,1,1,3,4,1,1,3,2,1,3,3,3,4,3,4,3,1,2,4,4,1,2,4,1,4,3,1,1,4,3,3,4,1,4,4,3,4,1,4,1,1,1,4,3,2,1,4,2,3,3,3,4,2,3,3,4,2,3,3,4,3,2,1,4,1,4,3,2,4,4,3,2,1,1,1,4,4,4,4,1,3,4,3,4,4,4,4,1,1,3,4,1,1,4,2,2,4,4,4,2,4,4,4,4,2,1,4,2,4,1,4,2,4,4,3,3,2,3,1,2,3,4,2,3,3,4,1,2,2,1,1,3,4,2,1,4,2,4,3,4,3,3,4,4,3,3,4,3,4,4,4,2,3,2,1,4,3,3,3,3,1,4,3,3,1,4,1,3,3,3,4,4,4,3,4,4,2,3,4,4,3,1,4,4,3,4,4,2,2,3,2,3,3,2,1,3,4,3,3,4,1,4,1,1,1,3,3,4,3,2,3,4,3,4,4,1,2,4,4,3,2,3,4,2,3,2,1,3,2,2,4,4,2,4,2,3,2,4,4,3,3,4,4,3,3,3,3,1,3,2,4,3,4,2,1,4,1,1,4,1,3,4,3,3,4,1,3,3,1,2,1,1,2,1,3,3,3,4,4,4,1,4,2,3,1,4,2,4,2,1,4,1,3,4,4,4,1,1,4,4,3,2,2,3,4,4,4,3,2,3,4,3,4,2,2,1,2,4,2,3,1,2,3,2,4,2,4,3,3,1,2,4,2,2,3,4,3,1,4,1,1,3,3,2,3,3,2,3,4,4,1,3,2,1,1,4,2,1,4,4,2,4,4,4,2,3,3,3,3,4,1,4,2,4,3,4,2,3,3,3,3,4,4,1,1,3,4,4,1,1,4,1,4,2,1,2,1,1,4,1,4,3,1,3,3,4,2,3,3,4,1,2,4,1,2,1,3,2,3,3,2,1,1,3,4,3,3,3,2,1,3,2,3,3,3,3,2,3,3,1,1,2,2,3,4,4,1,2,2,2,3,3,4,3,2,4,1,2,4,4,1,3,4,1,4,2,3,2,4,3,3,1,3,1,2,1,1,4,4,4,4,2,2,3,1,3,3,4,3,3,1,4,3,3,1,2,4,1,3,3,4,4,2,1,1,1,3,4,1,1,1,1,1,4,3,3,3,3,3,3,4,3,2,4,4,4,4,3,4,3,1,3,2,2,1,3,2,2,3,3,1,3,3,4,2,4,2,4,1,2,2,3,3,1,4,3,4,3,4,4,2,4,4,2,4,4,4,4,4,3,3,3,4,3,3,2,3,3,2,1,1,2,3,4,2,4,2,4,4,3,2,3,1,4,3,4,3,1,4,2,4,2,1,3,2,4,2,1,2,1,3,3,4,4,3,4,3,2,4,1,2,1,4,3,2,1,1,4,2,4,3,2,3,3,4,3,2,3,2,1,4,1,1,4,4,3,3,3,2,4,4,4,4,3,3,4,4,3,3,1,3,2,3,2,1,4,4,2,3,3,4,1,1,2,4,4,1,3,3,4,1,2,2,1,4,4,3,4,3,3,4,3,2,4,2,1,1,2,4,4,4,4,1,3,1,2,4,3,1,1,4,1,1,4,4,4,3,3,3,2,2,4,1,3,3,1,3,4,3,2,2,2,3,3,3,2,3,3,1,4,2,3,3,3,4,2,4,2,4,3,4,4,3,4,4,1,4,4,2,3,3,2,3,4,2,1,4,4,4,3,3,3,3,4,2,1,4,1,3,4,1,2,2,3],\"xaxis\":\"x\",\"yaxis\":\"y\",\"type\":\"histogram\"}],                        {\"template\":{\"data\":{\"barpolar\":[{\"marker\":{\"line\":{\"color\":\"rgb(17,17,17)\",\"width\":0.5},\"pattern\":{\"fillmode\":\"overlay\",\"size\":10,\"solidity\":0.2}},\"type\":\"barpolar\"}],\"bar\":[{\"error_x\":{\"color\":\"#f2f5fa\"},\"error_y\":{\"color\":\"#f2f5fa\"},\"marker\":{\"line\":{\"color\":\"rgb(17,17,17)\",\"width\":0.5},\"pattern\":{\"fillmode\":\"overlay\",\"size\":10,\"solidity\":0.2}},\"type\":\"bar\"}],\"carpet\":[{\"aaxis\":{\"endlinecolor\":\"#A2B1C6\",\"gridcolor\":\"#506784\",\"linecolor\":\"#506784\",\"minorgridcolor\":\"#506784\",\"startlinecolor\":\"#A2B1C6\"},\"baxis\":{\"endlinecolor\":\"#A2B1C6\",\"gridcolor\":\"#506784\",\"linecolor\":\"#506784\",\"minorgridcolor\":\"#506784\",\"startlinecolor\":\"#A2B1C6\"},\"type\":\"carpet\"}],\"choropleth\":[{\"colorbar\":{\"outlinewidth\":0,\"ticks\":\"\"},\"type\":\"choropleth\"}],\"contourcarpet\":[{\"colorbar\":{\"outlinewidth\":0,\"ticks\":\"\"},\"type\":\"contourcarpet\"}],\"contour\":[{\"colorbar\":{\"outlinewidth\":0,\"ticks\":\"\"},\"colorscale\":[[0.0,\"#0d0887\"],[0.1111111111111111,\"#46039f\"],[0.2222222222222222,\"#7201a8\"],[0.3333333333333333,\"#9c179e\"],[0.4444444444444444,\"#bd3786\"],[0.5555555555555556,\"#d8576b\"],[0.6666666666666666,\"#ed7953\"],[0.7777777777777778,\"#fb9f3a\"],[0.8888888888888888,\"#fdca26\"],[1.0,\"#f0f921\"]],\"type\":\"contour\"}],\"heatmapgl\":[{\"colorbar\":{\"outlinewidth\":0,\"ticks\":\"\"},\"colorscale\":[[0.0,\"#0d0887\"],[0.1111111111111111,\"#46039f\"],[0.2222222222222222,\"#7201a8\"],[0.3333333333333333,\"#9c179e\"],[0.4444444444444444,\"#bd3786\"],[0.5555555555555556,\"#d8576b\"],[0.6666666666666666,\"#ed7953\"],[0.7777777777777778,\"#fb9f3a\"],[0.8888888888888888,\"#fdca26\"],[1.0,\"#f0f921\"]],\"type\":\"heatmapgl\"}],\"heatmap\":[{\"colorbar\":{\"outlinewidth\":0,\"ticks\":\"\"},\"colorscale\":[[0.0,\"#0d0887\"],[0.1111111111111111,\"#46039f\"],[0.2222222222222222,\"#7201a8\"],[0.3333333333333333,\"#9c179e\"],[0.4444444444444444,\"#bd3786\"],[0.5555555555555556,\"#d8576b\"],[0.6666666666666666,\"#ed7953\"],[0.7777777777777778,\"#fb9f3a\"],[0.8888888888888888,\"#fdca26\"],[1.0,\"#f0f921\"]],\"type\":\"heatmap\"}],\"histogram2dcontour\":[{\"colorbar\":{\"outlinewidth\":0,\"ticks\":\"\"},\"colorscale\":[[0.0,\"#0d0887\"],[0.1111111111111111,\"#46039f\"],[0.2222222222222222,\"#7201a8\"],[0.3333333333333333,\"#9c179e\"],[0.4444444444444444,\"#bd3786\"],[0.5555555555555556,\"#d8576b\"],[0.6666666666666666,\"#ed7953\"],[0.7777777777777778,\"#fb9f3a\"],[0.8888888888888888,\"#fdca26\"],[1.0,\"#f0f921\"]],\"type\":\"histogram2dcontour\"}],\"histogram2d\":[{\"colorbar\":{\"outlinewidth\":0,\"ticks\":\"\"},\"colorscale\":[[0.0,\"#0d0887\"],[0.1111111111111111,\"#46039f\"],[0.2222222222222222,\"#7201a8\"],[0.3333333333333333,\"#9c179e\"],[0.4444444444444444,\"#bd3786\"],[0.5555555555555556,\"#d8576b\"],[0.6666666666666666,\"#ed7953\"],[0.7777777777777778,\"#fb9f3a\"],[0.8888888888888888,\"#fdca26\"],[1.0,\"#f0f921\"]],\"type\":\"histogram2d\"}],\"histogram\":[{\"marker\":{\"pattern\":{\"fillmode\":\"overlay\",\"size\":10,\"solidity\":0.2}},\"type\":\"histogram\"}],\"mesh3d\":[{\"colorbar\":{\"outlinewidth\":0,\"ticks\":\"\"},\"type\":\"mesh3d\"}],\"parcoords\":[{\"line\":{\"colorbar\":{\"outlinewidth\":0,\"ticks\":\"\"}},\"type\":\"parcoords\"}],\"pie\":[{\"automargin\":true,\"type\":\"pie\"}],\"scatter3d\":[{\"line\":{\"colorbar\":{\"outlinewidth\":0,\"ticks\":\"\"}},\"marker\":{\"colorbar\":{\"outlinewidth\":0,\"ticks\":\"\"}},\"type\":\"scatter3d\"}],\"scattercarpet\":[{\"marker\":{\"colorbar\":{\"outlinewidth\":0,\"ticks\":\"\"}},\"type\":\"scattercarpet\"}],\"scattergeo\":[{\"marker\":{\"colorbar\":{\"outlinewidth\":0,\"ticks\":\"\"}},\"type\":\"scattergeo\"}],\"scattergl\":[{\"marker\":{\"line\":{\"color\":\"#283442\"}},\"type\":\"scattergl\"}],\"scattermapbox\":[{\"marker\":{\"colorbar\":{\"outlinewidth\":0,\"ticks\":\"\"}},\"type\":\"scattermapbox\"}],\"scatterpolargl\":[{\"marker\":{\"colorbar\":{\"outlinewidth\":0,\"ticks\":\"\"}},\"type\":\"scatterpolargl\"}],\"scatterpolar\":[{\"marker\":{\"colorbar\":{\"outlinewidth\":0,\"ticks\":\"\"}},\"type\":\"scatterpolar\"}],\"scatter\":[{\"marker\":{\"line\":{\"color\":\"#283442\"}},\"type\":\"scatter\"}],\"scatterternary\":[{\"marker\":{\"colorbar\":{\"outlinewidth\":0,\"ticks\":\"\"}},\"type\":\"scatterternary\"}],\"surface\":[{\"colorbar\":{\"outlinewidth\":0,\"ticks\":\"\"},\"colorscale\":[[0.0,\"#0d0887\"],[0.1111111111111111,\"#46039f\"],[0.2222222222222222,\"#7201a8\"],[0.3333333333333333,\"#9c179e\"],[0.4444444444444444,\"#bd3786\"],[0.5555555555555556,\"#d8576b\"],[0.6666666666666666,\"#ed7953\"],[0.7777777777777778,\"#fb9f3a\"],[0.8888888888888888,\"#fdca26\"],[1.0,\"#f0f921\"]],\"type\":\"surface\"}],\"table\":[{\"cells\":{\"fill\":{\"color\":\"#506784\"},\"line\":{\"color\":\"rgb(17,17,17)\"}},\"header\":{\"fill\":{\"color\":\"#2a3f5f\"},\"line\":{\"color\":\"rgb(17,17,17)\"}},\"type\":\"table\"}]},\"layout\":{\"annotationdefaults\":{\"arrowcolor\":\"#f2f5fa\",\"arrowhead\":0,\"arrowwidth\":1},\"autotypenumbers\":\"strict\",\"coloraxis\":{\"colorbar\":{\"outlinewidth\":0,\"ticks\":\"\"}},\"colorscale\":{\"diverging\":[[0,\"#8e0152\"],[0.1,\"#c51b7d\"],[0.2,\"#de77ae\"],[0.3,\"#f1b6da\"],[0.4,\"#fde0ef\"],[0.5,\"#f7f7f7\"],[0.6,\"#e6f5d0\"],[0.7,\"#b8e186\"],[0.8,\"#7fbc41\"],[0.9,\"#4d9221\"],[1,\"#276419\"]],\"sequential\":[[0.0,\"#0d0887\"],[0.1111111111111111,\"#46039f\"],[0.2222222222222222,\"#7201a8\"],[0.3333333333333333,\"#9c179e\"],[0.4444444444444444,\"#bd3786\"],[0.5555555555555556,\"#d8576b\"],[0.6666666666666666,\"#ed7953\"],[0.7777777777777778,\"#fb9f3a\"],[0.8888888888888888,\"#fdca26\"],[1.0,\"#f0f921\"]],\"sequentialminus\":[[0.0,\"#0d0887\"],[0.1111111111111111,\"#46039f\"],[0.2222222222222222,\"#7201a8\"],[0.3333333333333333,\"#9c179e\"],[0.4444444444444444,\"#bd3786\"],[0.5555555555555556,\"#d8576b\"],[0.6666666666666666,\"#ed7953\"],[0.7777777777777778,\"#fb9f3a\"],[0.8888888888888888,\"#fdca26\"],[1.0,\"#f0f921\"]]},\"colorway\":[\"#636efa\",\"#EF553B\",\"#00cc96\",\"#ab63fa\",\"#FFA15A\",\"#19d3f3\",\"#FF6692\",\"#B6E880\",\"#FF97FF\",\"#FECB52\"],\"font\":{\"color\":\"#f2f5fa\"},\"geo\":{\"bgcolor\":\"rgb(17,17,17)\",\"lakecolor\":\"rgb(17,17,17)\",\"landcolor\":\"rgb(17,17,17)\",\"showlakes\":true,\"showland\":true,\"subunitcolor\":\"#506784\"},\"hoverlabel\":{\"align\":\"left\"},\"hovermode\":\"closest\",\"mapbox\":{\"style\":\"dark\"},\"paper_bgcolor\":\"rgb(17,17,17)\",\"plot_bgcolor\":\"rgb(17,17,17)\",\"polar\":{\"angularaxis\":{\"gridcolor\":\"#506784\",\"linecolor\":\"#506784\",\"ticks\":\"\"},\"bgcolor\":\"rgb(17,17,17)\",\"radialaxis\":{\"gridcolor\":\"#506784\",\"linecolor\":\"#506784\",\"ticks\":\"\"}},\"scene\":{\"xaxis\":{\"backgroundcolor\":\"rgb(17,17,17)\",\"gridcolor\":\"#506784\",\"gridwidth\":2,\"linecolor\":\"#506784\",\"showbackground\":true,\"ticks\":\"\",\"zerolinecolor\":\"#C8D4E3\"},\"yaxis\":{\"backgroundcolor\":\"rgb(17,17,17)\",\"gridcolor\":\"#506784\",\"gridwidth\":2,\"linecolor\":\"#506784\",\"showbackground\":true,\"ticks\":\"\",\"zerolinecolor\":\"#C8D4E3\"},\"zaxis\":{\"backgroundcolor\":\"rgb(17,17,17)\",\"gridcolor\":\"#506784\",\"gridwidth\":2,\"linecolor\":\"#506784\",\"showbackground\":true,\"ticks\":\"\",\"zerolinecolor\":\"#C8D4E3\"}},\"shapedefaults\":{\"line\":{\"color\":\"#f2f5fa\"}},\"sliderdefaults\":{\"bgcolor\":\"#C8D4E3\",\"bordercolor\":\"rgb(17,17,17)\",\"borderwidth\":1,\"tickwidth\":0},\"ternary\":{\"aaxis\":{\"gridcolor\":\"#506784\",\"linecolor\":\"#506784\",\"ticks\":\"\"},\"baxis\":{\"gridcolor\":\"#506784\",\"linecolor\":\"#506784\",\"ticks\":\"\"},\"bgcolor\":\"rgb(17,17,17)\",\"caxis\":{\"gridcolor\":\"#506784\",\"linecolor\":\"#506784\",\"ticks\":\"\"}},\"title\":{\"x\":0.05},\"updatemenudefaults\":{\"bgcolor\":\"#506784\",\"borderwidth\":0},\"xaxis\":{\"automargin\":true,\"gridcolor\":\"#283442\",\"linecolor\":\"#506784\",\"ticks\":\"\",\"title\":{\"standoff\":15},\"zerolinecolor\":\"#283442\",\"zerolinewidth\":2},\"yaxis\":{\"automargin\":true,\"gridcolor\":\"#283442\",\"linecolor\":\"#506784\",\"ticks\":\"\",\"title\":{\"standoff\":15},\"zerolinecolor\":\"#283442\",\"zerolinewidth\":2}}},\"xaxis\":{\"anchor\":\"y\",\"domain\":[0.0,1.0],\"title\":{\"text\":\"JobSatisfaction\"}},\"yaxis\":{\"anchor\":\"x\",\"domain\":[0.0,1.0],\"title\":{\"text\":\"count\"}},\"legend\":{\"title\":{\"text\":\"Attrition\"},\"tracegroupgap\":0},\"title\":{\"text\":\"<b>Counts of Education</b>\",\"font\":{\"size\":20},\"x\":0.5},\"barmode\":\"relative\",\"uniformtext\":{\"minsize\":15}},                        {\"responsive\": true}                    ).then(function(){\n",
       "                            \n",
       "var gd = document.getElementById('8f8452ad-5ed5-43c7-959b-d93caf9c3a36');\n",
       "var x = new MutationObserver(function (mutations, observer) {{\n",
       "        var display = window.getComputedStyle(gd).display;\n",
       "        if (!display || display === 'none') {{\n",
       "            console.log([gd, 'removed!']);\n",
       "            Plotly.purge(gd);\n",
       "            observer.disconnect();\n",
       "        }}\n",
       "}});\n",
       "\n",
       "// Listen for the removal of the full notebook cells\n",
       "var notebookContainer = gd.closest('#notebook-container');\n",
       "if (notebookContainer) {{\n",
       "    x.observe(notebookContainer, {childList: true});\n",
       "}}\n",
       "\n",
       "// Listen for the clearing of the current output cell\n",
       "var outputEl = gd.closest('.output');\n",
       "if (outputEl) {{\n",
       "    x.observe(outputEl, {childList: true});\n",
       "}}\n",
       "\n",
       "                        })                };                });            </script>        </div>"
      ]
     },
     "metadata": {},
     "output_type": "display_data"
    }
   ],
   "source": [
    "fig = px.histogram(data_frame = data,\n",
    "             x = \"JobSatisfaction\",\n",
    "             color=\"Attrition\", title=\"<b>Counts of Education</b>\",\n",
    "             pattern_shape_sequence=['x'],\n",
    "             template='plotly_dark')\n",
    "\n",
    "fig.update_layout(title_x = 0.5,\n",
    "                  title_font = dict(size = 20),\n",
    "                  uniformtext_minsize = 15)\n",
    "\n",
    "\n",
    "fig.show()"
   ]
  },
  {
   "cell_type": "code",
   "execution_count": 37,
   "metadata": {
    "scrolled": true
   },
   "outputs": [
    {
     "data": {
      "application/vnd.plotly.v1+json": {
       "config": {
        "plotlyServerURL": "https://plot.ly"
       },
       "data": [
        {
         "alignmentgroup": "True",
         "bingroup": "x",
         "hovertemplate": "Attrition=1<br>EnvironmentSatisfaction=%{x}<br>count=%{y}<extra></extra>",
         "legendgroup": "1",
         "marker": {
          "color": "#636efa",
          "pattern": {
           "shape": "x"
          }
         },
         "name": "1",
         "offsetgroup": "1",
         "orientation": "v",
         "showlegend": true,
         "type": "histogram",
         "x": [
          2,
          4,
          3,
          3,
          2,
          2,
          4,
          2,
          1,
          1,
          2,
          1,
          3,
          4,
          3,
          3,
          4,
          3,
          1,
          2,
          2,
          4,
          4,
          2,
          1,
          1,
          3,
          2,
          2,
          2,
          2,
          2,
          4,
          4,
          3,
          3,
          3,
          3,
          1,
          4,
          1,
          3,
          1,
          1,
          4,
          1,
          4,
          3,
          3,
          1,
          4,
          2,
          1,
          4,
          1,
          3,
          3,
          1,
          3,
          3,
          1,
          1,
          4,
          3,
          1,
          2,
          1,
          1,
          2,
          3,
          2,
          2,
          3,
          4,
          1,
          2,
          2,
          3,
          1,
          4,
          1,
          1,
          2,
          1,
          3,
          4,
          2,
          4,
          4,
          3,
          2,
          1,
          4,
          3,
          3,
          3,
          3,
          4,
          2,
          1,
          4,
          3,
          4,
          2,
          2,
          4,
          3,
          4,
          1,
          3,
          1,
          4,
          2,
          3,
          4,
          1,
          3,
          4,
          2,
          1,
          2,
          1,
          3,
          1,
          1,
          4,
          3,
          1,
          2,
          2,
          4,
          1,
          4,
          1,
          1,
          1,
          4,
          1,
          3,
          1,
          3,
          4,
          3,
          3,
          1,
          3,
          3,
          1,
          4,
          1,
          3,
          1,
          1,
          1,
          2,
          4,
          3,
          4,
          2,
          4,
          1,
          3,
          1,
          3,
          4,
          4,
          4,
          1,
          3,
          2,
          1,
          1,
          1,
          1,
          3,
          2,
          1,
          1,
          1,
          1,
          2,
          3,
          1,
          4,
          4,
          2,
          1,
          3,
          3,
          3,
          2,
          4,
          1,
          1,
          4,
          4,
          4,
          4,
          3,
          4,
          3,
          2,
          1,
          3,
          2,
          1,
          1,
          3,
          2,
          3,
          3,
          3,
          4,
          4,
          4,
          4,
          4,
          1,
          3,
          4,
          3,
          2,
          4,
          4,
          1,
          3,
          4,
          1,
          1,
          3,
          1,
          1,
          4,
          1,
          4,
          2,
          4
         ],
         "xaxis": "x",
         "yaxis": "y"
        },
        {
         "alignmentgroup": "True",
         "bingroup": "x",
         "hovertemplate": "Attrition=0<br>EnvironmentSatisfaction=%{x}<br>count=%{y}<extra></extra>",
         "legendgroup": "0",
         "marker": {
          "color": "#EF553B",
          "pattern": {
           "shape": "x"
          }
         },
         "name": "0",
         "offsetgroup": "0",
         "orientation": "v",
         "showlegend": true,
         "type": "histogram",
         "x": [
          3,
          4,
          1,
          4,
          3,
          4,
          4,
          3,
          1,
          4,
          1,
          2,
          2,
          1,
          4,
          1,
          4,
          1,
          1,
          3,
          3,
          3,
          1,
          2,
          3,
          4,
          4,
          4,
          4,
          2,
          3,
          3,
          4,
          4,
          3,
          2,
          2,
          1,
          4,
          2,
          3,
          3,
          1,
          2,
          3,
          4,
          1,
          1,
          4,
          2,
          1,
          3,
          4,
          2,
          2,
          2,
          1,
          3,
          3,
          2,
          2,
          3,
          3,
          4,
          1,
          2,
          4,
          2,
          1,
          2,
          1,
          4,
          3,
          4,
          3,
          3,
          3,
          3,
          3,
          2,
          1,
          1,
          2,
          4,
          2,
          4,
          1,
          3,
          3,
          1,
          4,
          2,
          1,
          4,
          2,
          3,
          3,
          3,
          2,
          1,
          3,
          1,
          3,
          1,
          3,
          3,
          3,
          2,
          3,
          3,
          3,
          2,
          4,
          1,
          3,
          3,
          4,
          1,
          4,
          4,
          2,
          4,
          3,
          2,
          2,
          3,
          2,
          2,
          2,
          4,
          2,
          2,
          3,
          3,
          3,
          4,
          3,
          3,
          3,
          3,
          1,
          2,
          1,
          3,
          3,
          4,
          3,
          3,
          3,
          3,
          2,
          3,
          3,
          4,
          3,
          4,
          4,
          4,
          3,
          4,
          4,
          3,
          4,
          4,
          1,
          2,
          2,
          3,
          4,
          4,
          3,
          4,
          4,
          3,
          4,
          2,
          4,
          4,
          3,
          4,
          2,
          4,
          4,
          4,
          4,
          3,
          2,
          1,
          3,
          3,
          1,
          2,
          3,
          3,
          3,
          2,
          4,
          4,
          1,
          3,
          3,
          3,
          3,
          1,
          3,
          2,
          3,
          4,
          3,
          1,
          3,
          3,
          4,
          4,
          1,
          4,
          1,
          3,
          2,
          4,
          4,
          3,
          1,
          2,
          2,
          3,
          4,
          4,
          4,
          3,
          4,
          1,
          2,
          1,
          3,
          1,
          3,
          2,
          2,
          2,
          1,
          4,
          4,
          4,
          3,
          3,
          4,
          2,
          3,
          3,
          3,
          4,
          4,
          4,
          2,
          2,
          3,
          2,
          4,
          1,
          4,
          3,
          1,
          1,
          3,
          4,
          3,
          3,
          3,
          3,
          3,
          4,
          4,
          1,
          4,
          3,
          3,
          2,
          4,
          3,
          3,
          4,
          3,
          4,
          2,
          2,
          4,
          2,
          4,
          3,
          3,
          4,
          3,
          3,
          4,
          2,
          1,
          4,
          3,
          3,
          1,
          3,
          4,
          3,
          1,
          4,
          1,
          4,
          4,
          1,
          3,
          3,
          4,
          3,
          4,
          3,
          4,
          2,
          2,
          3,
          4,
          3,
          4,
          3,
          1,
          2,
          4,
          4,
          2,
          3,
          1,
          2,
          1,
          3,
          2,
          4,
          3,
          2,
          2,
          4,
          2,
          3,
          2,
          2,
          3,
          4,
          1,
          4,
          1,
          3,
          1,
          3,
          4,
          4,
          3,
          1,
          3,
          2,
          3,
          1,
          2,
          3,
          3,
          1,
          1,
          4,
          3,
          4,
          3,
          3,
          4,
          4,
          2,
          2,
          2,
          1,
          4,
          2,
          2,
          3,
          2,
          4,
          4,
          4,
          1,
          3,
          3,
          1,
          1,
          1,
          4,
          2,
          1,
          2,
          1,
          4,
          4,
          3,
          2,
          4,
          2,
          1,
          4,
          1,
          2,
          2,
          1,
          1,
          1,
          4,
          4,
          3,
          2,
          3,
          4,
          4,
          1,
          3,
          3,
          4,
          1,
          3,
          1,
          3,
          4,
          2,
          3,
          3,
          2,
          2,
          3,
          3,
          2,
          1,
          3,
          1,
          4,
          4,
          2,
          2,
          4,
          4,
          4,
          4,
          4,
          4,
          2,
          3,
          3,
          4,
          4,
          3,
          2,
          1,
          4,
          4,
          4,
          1,
          3,
          1,
          4,
          3,
          3,
          4,
          2,
          2,
          3,
          3,
          4,
          4,
          4,
          4,
          4,
          1,
          4,
          2,
          3,
          3,
          2,
          1,
          4,
          1,
          4,
          1,
          2,
          2,
          4,
          3,
          4,
          1,
          3,
          1,
          4,
          3,
          3,
          2,
          3,
          4,
          3,
          3,
          3,
          3,
          3,
          4,
          4,
          3,
          3,
          1,
          3,
          2,
          2,
          1,
          3,
          2,
          3,
          3,
          2,
          3,
          4,
          1,
          4,
          1,
          1,
          3,
          2,
          2,
          2,
          1,
          4,
          3,
          3,
          4,
          2,
          4,
          1,
          2,
          1,
          3,
          4,
          4,
          3,
          3,
          1,
          2,
          2,
          3,
          4,
          1,
          4,
          3,
          4,
          4,
          3,
          1,
          1,
          4,
          4,
          1,
          2,
          1,
          1,
          3,
          4,
          3,
          2,
          2,
          3,
          3,
          3,
          2,
          4,
          1,
          4,
          4,
          2,
          4,
          3,
          1,
          3,
          4,
          3,
          4,
          4,
          3,
          2,
          3,
          3,
          3,
          4,
          3,
          3,
          3,
          4,
          1,
          3,
          1,
          4,
          2,
          4,
          4,
          3,
          1,
          3,
          4,
          4,
          4,
          3,
          4,
          4,
          3,
          2,
          3,
          3,
          2,
          4,
          2,
          1,
          3,
          4,
          4,
          1,
          2,
          4,
          1,
          3,
          3,
          2,
          2,
          4,
          4,
          4,
          2,
          4,
          4,
          2,
          2,
          2,
          3,
          3,
          4,
          3,
          2,
          4,
          3,
          1,
          4,
          3,
          1,
          4,
          3,
          3,
          4,
          1,
          3,
          2,
          3,
          1,
          1,
          4,
          3,
          4,
          1,
          1,
          4,
          4,
          4,
          3,
          1,
          2,
          2,
          3,
          3,
          4,
          1,
          4,
          3,
          3,
          4,
          3,
          1,
          3,
          1,
          4,
          4,
          4,
          4,
          2,
          2,
          3,
          3,
          2,
          3,
          4,
          2,
          3,
          2,
          2,
          4,
          4,
          1,
          3,
          3,
          3,
          4,
          4,
          3,
          4,
          2,
          3,
          1,
          4,
          1,
          4,
          2,
          3,
          4,
          2,
          3,
          2,
          4,
          4,
          4,
          3,
          2,
          3,
          3,
          4,
          3,
          4,
          4,
          2,
          3,
          4,
          3,
          1,
          2,
          3,
          4,
          1,
          3,
          1,
          4,
          1,
          1,
          4,
          3,
          3,
          3,
          3,
          1,
          3,
          4,
          1,
          3,
          4,
          4,
          3,
          2,
          4,
          2,
          4,
          3,
          4,
          4,
          3,
          4,
          4,
          3,
          4,
          3,
          3,
          3,
          2,
          4,
          3,
          4,
          2,
          3,
          4,
          4,
          3,
          2,
          3,
          1,
          1,
          4,
          4,
          3,
          4,
          2,
          1,
          4,
          3,
          3,
          4,
          4,
          3,
          4,
          3,
          3,
          3,
          3,
          2,
          3,
          4,
          2,
          1,
          4,
          3,
          4,
          4,
          4,
          4,
          4,
          1,
          2,
          2,
          4,
          3,
          3,
          1,
          2,
          4,
          3,
          2,
          3,
          3,
          1,
          4,
          1,
          4,
          1,
          3,
          3,
          1,
          3,
          1,
          3,
          2,
          4,
          4,
          2,
          1,
          4,
          1,
          4,
          2,
          1,
          3,
          1,
          3,
          1,
          1,
          4,
          4,
          4,
          2,
          3,
          1,
          2,
          4,
          2,
          3,
          4,
          4,
          3,
          4,
          1,
          3,
          4,
          4,
          4,
          4,
          1,
          1,
          3,
          2,
          3,
          2,
          4,
          4,
          2,
          3,
          3,
          4,
          1,
          3,
          1,
          3,
          3,
          4,
          3,
          4,
          3,
          2,
          4,
          2,
          3,
          4,
          1,
          4,
          3,
          2,
          3,
          1,
          3,
          4,
          4,
          4,
          1,
          2,
          3,
          3,
          4,
          1,
          2,
          4,
          3,
          3,
          3,
          1,
          3,
          4,
          3,
          4,
          3,
          1,
          3,
          2,
          1,
          3,
          2,
          2,
          2,
          1,
          4,
          1,
          3,
          4,
          1,
          4,
          2,
          4,
          4,
          4,
          3,
          4,
          2,
          2,
          2,
          2,
          2,
          3,
          1,
          4,
          3,
          3,
          3,
          2,
          4,
          2,
          2,
          3,
          4,
          3,
          1,
          3,
          3,
          1,
          4,
          4,
          2,
          3,
          1,
          3,
          1,
          2,
          4,
          3,
          2,
          4,
          4,
          1,
          4,
          3,
          4,
          1,
          3,
          4,
          4,
          2,
          3,
          4,
          1,
          4,
          4,
          1,
          4,
          4,
          2,
          3,
          4,
          4,
          3,
          1,
          3,
          4,
          2,
          4,
          1,
          2,
          3,
          2,
          3,
          2,
          3,
          1,
          4,
          3,
          4,
          4,
          3,
          3,
          4,
          4,
          1,
          2,
          3,
          2,
          2,
          3,
          4,
          2,
          3,
          3,
          3,
          4,
          4,
          4,
          2,
          3,
          4,
          1,
          1,
          3,
          4,
          3,
          4,
          4,
          4,
          3,
          4,
          3,
          2,
          2,
          2,
          3,
          4,
          3,
          4,
          1,
          2,
          4,
          4,
          1,
          1,
          2,
          3,
          4,
          3,
          4,
          3,
          3,
          2,
          3,
          2,
          2,
          1,
          3,
          1,
          2,
          3,
          1,
          3,
          2,
          2,
          2,
          3,
          2,
          4,
          1,
          3,
          2,
          3,
          1,
          2,
          3,
          4,
          1,
          4,
          4,
          4,
          3,
          2,
          4,
          3,
          4,
          4,
          1,
          2,
          4,
          1,
          4,
          4,
          4,
          2,
          2,
          2,
          2,
          3,
          4,
          4,
          4,
          2,
          2,
          1,
          2,
          1,
          4,
          2,
          3,
          3,
          3,
          3,
          4,
          1,
          3,
          2,
          2,
          3,
          1,
          2,
          3,
          3,
          4,
          1,
          4,
          4,
          2,
          2,
          2,
          2,
          3,
          3,
          1,
          1,
          4,
          3,
          1,
          3,
          4,
          1,
          3,
          4,
          4,
          1,
          4,
          1,
          4,
          3,
          4,
          2,
          4,
          3,
          3,
          2,
          4,
          4,
          2,
          3,
          4,
          4,
          1,
          2,
          4,
          1,
          1,
          4,
          4,
          3,
          4,
          4,
          2,
          2,
          3,
          1,
          2,
          1,
          2,
          3,
          3,
          1,
          1,
          2,
          3,
          4,
          1,
          4,
          3,
          1,
          1,
          4,
          4,
          3,
          4,
          3,
          1,
          2,
          4,
          3,
          3,
          3,
          3,
          4,
          4,
          2,
          2,
          4,
          3,
          4,
          2,
          4,
          2
         ],
         "xaxis": "x",
         "yaxis": "y"
        }
       ],
       "layout": {
        "barmode": "relative",
        "legend": {
         "title": {
          "text": "Attrition"
         },
         "tracegroupgap": 0
        },
        "template": {
         "data": {
          "bar": [
           {
            "error_x": {
             "color": "#f2f5fa"
            },
            "error_y": {
             "color": "#f2f5fa"
            },
            "marker": {
             "line": {
              "color": "rgb(17,17,17)",
              "width": 0.5
             },
             "pattern": {
              "fillmode": "overlay",
              "size": 10,
              "solidity": 0.2
             }
            },
            "type": "bar"
           }
          ],
          "barpolar": [
           {
            "marker": {
             "line": {
              "color": "rgb(17,17,17)",
              "width": 0.5
             },
             "pattern": {
              "fillmode": "overlay",
              "size": 10,
              "solidity": 0.2
             }
            },
            "type": "barpolar"
           }
          ],
          "carpet": [
           {
            "aaxis": {
             "endlinecolor": "#A2B1C6",
             "gridcolor": "#506784",
             "linecolor": "#506784",
             "minorgridcolor": "#506784",
             "startlinecolor": "#A2B1C6"
            },
            "baxis": {
             "endlinecolor": "#A2B1C6",
             "gridcolor": "#506784",
             "linecolor": "#506784",
             "minorgridcolor": "#506784",
             "startlinecolor": "#A2B1C6"
            },
            "type": "carpet"
           }
          ],
          "choropleth": [
           {
            "colorbar": {
             "outlinewidth": 0,
             "ticks": ""
            },
            "type": "choropleth"
           }
          ],
          "contour": [
           {
            "colorbar": {
             "outlinewidth": 0,
             "ticks": ""
            },
            "colorscale": [
             [
              0,
              "#0d0887"
             ],
             [
              0.1111111111111111,
              "#46039f"
             ],
             [
              0.2222222222222222,
              "#7201a8"
             ],
             [
              0.3333333333333333,
              "#9c179e"
             ],
             [
              0.4444444444444444,
              "#bd3786"
             ],
             [
              0.5555555555555556,
              "#d8576b"
             ],
             [
              0.6666666666666666,
              "#ed7953"
             ],
             [
              0.7777777777777778,
              "#fb9f3a"
             ],
             [
              0.8888888888888888,
              "#fdca26"
             ],
             [
              1,
              "#f0f921"
             ]
            ],
            "type": "contour"
           }
          ],
          "contourcarpet": [
           {
            "colorbar": {
             "outlinewidth": 0,
             "ticks": ""
            },
            "type": "contourcarpet"
           }
          ],
          "heatmap": [
           {
            "colorbar": {
             "outlinewidth": 0,
             "ticks": ""
            },
            "colorscale": [
             [
              0,
              "#0d0887"
             ],
             [
              0.1111111111111111,
              "#46039f"
             ],
             [
              0.2222222222222222,
              "#7201a8"
             ],
             [
              0.3333333333333333,
              "#9c179e"
             ],
             [
              0.4444444444444444,
              "#bd3786"
             ],
             [
              0.5555555555555556,
              "#d8576b"
             ],
             [
              0.6666666666666666,
              "#ed7953"
             ],
             [
              0.7777777777777778,
              "#fb9f3a"
             ],
             [
              0.8888888888888888,
              "#fdca26"
             ],
             [
              1,
              "#f0f921"
             ]
            ],
            "type": "heatmap"
           }
          ],
          "heatmapgl": [
           {
            "colorbar": {
             "outlinewidth": 0,
             "ticks": ""
            },
            "colorscale": [
             [
              0,
              "#0d0887"
             ],
             [
              0.1111111111111111,
              "#46039f"
             ],
             [
              0.2222222222222222,
              "#7201a8"
             ],
             [
              0.3333333333333333,
              "#9c179e"
             ],
             [
              0.4444444444444444,
              "#bd3786"
             ],
             [
              0.5555555555555556,
              "#d8576b"
             ],
             [
              0.6666666666666666,
              "#ed7953"
             ],
             [
              0.7777777777777778,
              "#fb9f3a"
             ],
             [
              0.8888888888888888,
              "#fdca26"
             ],
             [
              1,
              "#f0f921"
             ]
            ],
            "type": "heatmapgl"
           }
          ],
          "histogram": [
           {
            "marker": {
             "pattern": {
              "fillmode": "overlay",
              "size": 10,
              "solidity": 0.2
             }
            },
            "type": "histogram"
           }
          ],
          "histogram2d": [
           {
            "colorbar": {
             "outlinewidth": 0,
             "ticks": ""
            },
            "colorscale": [
             [
              0,
              "#0d0887"
             ],
             [
              0.1111111111111111,
              "#46039f"
             ],
             [
              0.2222222222222222,
              "#7201a8"
             ],
             [
              0.3333333333333333,
              "#9c179e"
             ],
             [
              0.4444444444444444,
              "#bd3786"
             ],
             [
              0.5555555555555556,
              "#d8576b"
             ],
             [
              0.6666666666666666,
              "#ed7953"
             ],
             [
              0.7777777777777778,
              "#fb9f3a"
             ],
             [
              0.8888888888888888,
              "#fdca26"
             ],
             [
              1,
              "#f0f921"
             ]
            ],
            "type": "histogram2d"
           }
          ],
          "histogram2dcontour": [
           {
            "colorbar": {
             "outlinewidth": 0,
             "ticks": ""
            },
            "colorscale": [
             [
              0,
              "#0d0887"
             ],
             [
              0.1111111111111111,
              "#46039f"
             ],
             [
              0.2222222222222222,
              "#7201a8"
             ],
             [
              0.3333333333333333,
              "#9c179e"
             ],
             [
              0.4444444444444444,
              "#bd3786"
             ],
             [
              0.5555555555555556,
              "#d8576b"
             ],
             [
              0.6666666666666666,
              "#ed7953"
             ],
             [
              0.7777777777777778,
              "#fb9f3a"
             ],
             [
              0.8888888888888888,
              "#fdca26"
             ],
             [
              1,
              "#f0f921"
             ]
            ],
            "type": "histogram2dcontour"
           }
          ],
          "mesh3d": [
           {
            "colorbar": {
             "outlinewidth": 0,
             "ticks": ""
            },
            "type": "mesh3d"
           }
          ],
          "parcoords": [
           {
            "line": {
             "colorbar": {
              "outlinewidth": 0,
              "ticks": ""
             }
            },
            "type": "parcoords"
           }
          ],
          "pie": [
           {
            "automargin": true,
            "type": "pie"
           }
          ],
          "scatter": [
           {
            "marker": {
             "line": {
              "color": "#283442"
             }
            },
            "type": "scatter"
           }
          ],
          "scatter3d": [
           {
            "line": {
             "colorbar": {
              "outlinewidth": 0,
              "ticks": ""
             }
            },
            "marker": {
             "colorbar": {
              "outlinewidth": 0,
              "ticks": ""
             }
            },
            "type": "scatter3d"
           }
          ],
          "scattercarpet": [
           {
            "marker": {
             "colorbar": {
              "outlinewidth": 0,
              "ticks": ""
             }
            },
            "type": "scattercarpet"
           }
          ],
          "scattergeo": [
           {
            "marker": {
             "colorbar": {
              "outlinewidth": 0,
              "ticks": ""
             }
            },
            "type": "scattergeo"
           }
          ],
          "scattergl": [
           {
            "marker": {
             "line": {
              "color": "#283442"
             }
            },
            "type": "scattergl"
           }
          ],
          "scattermapbox": [
           {
            "marker": {
             "colorbar": {
              "outlinewidth": 0,
              "ticks": ""
             }
            },
            "type": "scattermapbox"
           }
          ],
          "scatterpolar": [
           {
            "marker": {
             "colorbar": {
              "outlinewidth": 0,
              "ticks": ""
             }
            },
            "type": "scatterpolar"
           }
          ],
          "scatterpolargl": [
           {
            "marker": {
             "colorbar": {
              "outlinewidth": 0,
              "ticks": ""
             }
            },
            "type": "scatterpolargl"
           }
          ],
          "scatterternary": [
           {
            "marker": {
             "colorbar": {
              "outlinewidth": 0,
              "ticks": ""
             }
            },
            "type": "scatterternary"
           }
          ],
          "surface": [
           {
            "colorbar": {
             "outlinewidth": 0,
             "ticks": ""
            },
            "colorscale": [
             [
              0,
              "#0d0887"
             ],
             [
              0.1111111111111111,
              "#46039f"
             ],
             [
              0.2222222222222222,
              "#7201a8"
             ],
             [
              0.3333333333333333,
              "#9c179e"
             ],
             [
              0.4444444444444444,
              "#bd3786"
             ],
             [
              0.5555555555555556,
              "#d8576b"
             ],
             [
              0.6666666666666666,
              "#ed7953"
             ],
             [
              0.7777777777777778,
              "#fb9f3a"
             ],
             [
              0.8888888888888888,
              "#fdca26"
             ],
             [
              1,
              "#f0f921"
             ]
            ],
            "type": "surface"
           }
          ],
          "table": [
           {
            "cells": {
             "fill": {
              "color": "#506784"
             },
             "line": {
              "color": "rgb(17,17,17)"
             }
            },
            "header": {
             "fill": {
              "color": "#2a3f5f"
             },
             "line": {
              "color": "rgb(17,17,17)"
             }
            },
            "type": "table"
           }
          ]
         },
         "layout": {
          "annotationdefaults": {
           "arrowcolor": "#f2f5fa",
           "arrowhead": 0,
           "arrowwidth": 1
          },
          "autotypenumbers": "strict",
          "coloraxis": {
           "colorbar": {
            "outlinewidth": 0,
            "ticks": ""
           }
          },
          "colorscale": {
           "diverging": [
            [
             0,
             "#8e0152"
            ],
            [
             0.1,
             "#c51b7d"
            ],
            [
             0.2,
             "#de77ae"
            ],
            [
             0.3,
             "#f1b6da"
            ],
            [
             0.4,
             "#fde0ef"
            ],
            [
             0.5,
             "#f7f7f7"
            ],
            [
             0.6,
             "#e6f5d0"
            ],
            [
             0.7,
             "#b8e186"
            ],
            [
             0.8,
             "#7fbc41"
            ],
            [
             0.9,
             "#4d9221"
            ],
            [
             1,
             "#276419"
            ]
           ],
           "sequential": [
            [
             0,
             "#0d0887"
            ],
            [
             0.1111111111111111,
             "#46039f"
            ],
            [
             0.2222222222222222,
             "#7201a8"
            ],
            [
             0.3333333333333333,
             "#9c179e"
            ],
            [
             0.4444444444444444,
             "#bd3786"
            ],
            [
             0.5555555555555556,
             "#d8576b"
            ],
            [
             0.6666666666666666,
             "#ed7953"
            ],
            [
             0.7777777777777778,
             "#fb9f3a"
            ],
            [
             0.8888888888888888,
             "#fdca26"
            ],
            [
             1,
             "#f0f921"
            ]
           ],
           "sequentialminus": [
            [
             0,
             "#0d0887"
            ],
            [
             0.1111111111111111,
             "#46039f"
            ],
            [
             0.2222222222222222,
             "#7201a8"
            ],
            [
             0.3333333333333333,
             "#9c179e"
            ],
            [
             0.4444444444444444,
             "#bd3786"
            ],
            [
             0.5555555555555556,
             "#d8576b"
            ],
            [
             0.6666666666666666,
             "#ed7953"
            ],
            [
             0.7777777777777778,
             "#fb9f3a"
            ],
            [
             0.8888888888888888,
             "#fdca26"
            ],
            [
             1,
             "#f0f921"
            ]
           ]
          },
          "colorway": [
           "#636efa",
           "#EF553B",
           "#00cc96",
           "#ab63fa",
           "#FFA15A",
           "#19d3f3",
           "#FF6692",
           "#B6E880",
           "#FF97FF",
           "#FECB52"
          ],
          "font": {
           "color": "#f2f5fa"
          },
          "geo": {
           "bgcolor": "rgb(17,17,17)",
           "lakecolor": "rgb(17,17,17)",
           "landcolor": "rgb(17,17,17)",
           "showlakes": true,
           "showland": true,
           "subunitcolor": "#506784"
          },
          "hoverlabel": {
           "align": "left"
          },
          "hovermode": "closest",
          "mapbox": {
           "style": "dark"
          },
          "paper_bgcolor": "rgb(17,17,17)",
          "plot_bgcolor": "rgb(17,17,17)",
          "polar": {
           "angularaxis": {
            "gridcolor": "#506784",
            "linecolor": "#506784",
            "ticks": ""
           },
           "bgcolor": "rgb(17,17,17)",
           "radialaxis": {
            "gridcolor": "#506784",
            "linecolor": "#506784",
            "ticks": ""
           }
          },
          "scene": {
           "xaxis": {
            "backgroundcolor": "rgb(17,17,17)",
            "gridcolor": "#506784",
            "gridwidth": 2,
            "linecolor": "#506784",
            "showbackground": true,
            "ticks": "",
            "zerolinecolor": "#C8D4E3"
           },
           "yaxis": {
            "backgroundcolor": "rgb(17,17,17)",
            "gridcolor": "#506784",
            "gridwidth": 2,
            "linecolor": "#506784",
            "showbackground": true,
            "ticks": "",
            "zerolinecolor": "#C8D4E3"
           },
           "zaxis": {
            "backgroundcolor": "rgb(17,17,17)",
            "gridcolor": "#506784",
            "gridwidth": 2,
            "linecolor": "#506784",
            "showbackground": true,
            "ticks": "",
            "zerolinecolor": "#C8D4E3"
           }
          },
          "shapedefaults": {
           "line": {
            "color": "#f2f5fa"
           }
          },
          "sliderdefaults": {
           "bgcolor": "#C8D4E3",
           "bordercolor": "rgb(17,17,17)",
           "borderwidth": 1,
           "tickwidth": 0
          },
          "ternary": {
           "aaxis": {
            "gridcolor": "#506784",
            "linecolor": "#506784",
            "ticks": ""
           },
           "baxis": {
            "gridcolor": "#506784",
            "linecolor": "#506784",
            "ticks": ""
           },
           "bgcolor": "rgb(17,17,17)",
           "caxis": {
            "gridcolor": "#506784",
            "linecolor": "#506784",
            "ticks": ""
           }
          },
          "title": {
           "x": 0.05
          },
          "updatemenudefaults": {
           "bgcolor": "#506784",
           "borderwidth": 0
          },
          "xaxis": {
           "automargin": true,
           "gridcolor": "#283442",
           "linecolor": "#506784",
           "ticks": "",
           "title": {
            "standoff": 15
           },
           "zerolinecolor": "#283442",
           "zerolinewidth": 2
          },
          "yaxis": {
           "automargin": true,
           "gridcolor": "#283442",
           "linecolor": "#506784",
           "ticks": "",
           "title": {
            "standoff": 15
           },
           "zerolinecolor": "#283442",
           "zerolinewidth": 2
          }
         }
        },
        "title": {
         "font": {
          "size": 20
         },
         "text": "<b>Counts of Education</b>",
         "x": 0.5
        },
        "uniformtext": {
         "minsize": 15
        },
        "xaxis": {
         "anchor": "y",
         "domain": [
          0,
          1
         ],
         "title": {
          "text": "EnvironmentSatisfaction"
         }
        },
        "yaxis": {
         "anchor": "x",
         "domain": [
          0,
          1
         ],
         "title": {
          "text": "count"
         }
        }
       }
      },
      "text/html": [
       "<div>                            <div id=\"b8cd34bf-9873-4f9e-a2ee-17c15d727861\" class=\"plotly-graph-div\" style=\"height:525px; width:100%;\"></div>            <script type=\"text/javascript\">                require([\"plotly\"], function(Plotly) {                    window.PLOTLYENV=window.PLOTLYENV || {};                                    if (document.getElementById(\"b8cd34bf-9873-4f9e-a2ee-17c15d727861\")) {                    Plotly.newPlot(                        \"b8cd34bf-9873-4f9e-a2ee-17c15d727861\",                        [{\"alignmentgroup\":\"True\",\"bingroup\":\"x\",\"hovertemplate\":\"Attrition=1<br>EnvironmentSatisfaction=%{x}<br>count=%{y}<extra></extra>\",\"legendgroup\":\"1\",\"marker\":{\"color\":\"#636efa\",\"pattern\":{\"shape\":\"x\"}},\"name\":\"1\",\"offsetgroup\":\"1\",\"orientation\":\"v\",\"showlegend\":true,\"x\":[2,4,3,3,2,2,4,2,1,1,2,1,3,4,3,3,4,3,1,2,2,4,4,2,1,1,3,2,2,2,2,2,4,4,3,3,3,3,1,4,1,3,1,1,4,1,4,3,3,1,4,2,1,4,1,3,3,1,3,3,1,1,4,3,1,2,1,1,2,3,2,2,3,4,1,2,2,3,1,4,1,1,2,1,3,4,2,4,4,3,2,1,4,3,3,3,3,4,2,1,4,3,4,2,2,4,3,4,1,3,1,4,2,3,4,1,3,4,2,1,2,1,3,1,1,4,3,1,2,2,4,1,4,1,1,1,4,1,3,1,3,4,3,3,1,3,3,1,4,1,3,1,1,1,2,4,3,4,2,4,1,3,1,3,4,4,4,1,3,2,1,1,1,1,3,2,1,1,1,1,2,3,1,4,4,2,1,3,3,3,2,4,1,1,4,4,4,4,3,4,3,2,1,3,2,1,1,3,2,3,3,3,4,4,4,4,4,1,3,4,3,2,4,4,1,3,4,1,1,3,1,1,4,1,4,2,4],\"xaxis\":\"x\",\"yaxis\":\"y\",\"type\":\"histogram\"},{\"alignmentgroup\":\"True\",\"bingroup\":\"x\",\"hovertemplate\":\"Attrition=0<br>EnvironmentSatisfaction=%{x}<br>count=%{y}<extra></extra>\",\"legendgroup\":\"0\",\"marker\":{\"color\":\"#EF553B\",\"pattern\":{\"shape\":\"x\"}},\"name\":\"0\",\"offsetgroup\":\"0\",\"orientation\":\"v\",\"showlegend\":true,\"x\":[3,4,1,4,3,4,4,3,1,4,1,2,2,1,4,1,4,1,1,3,3,3,1,2,3,4,4,4,4,2,3,3,4,4,3,2,2,1,4,2,3,3,1,2,3,4,1,1,4,2,1,3,4,2,2,2,1,3,3,2,2,3,3,4,1,2,4,2,1,2,1,4,3,4,3,3,3,3,3,2,1,1,2,4,2,4,1,3,3,1,4,2,1,4,2,3,3,3,2,1,3,1,3,1,3,3,3,2,3,3,3,2,4,1,3,3,4,1,4,4,2,4,3,2,2,3,2,2,2,4,2,2,3,3,3,4,3,3,3,3,1,2,1,3,3,4,3,3,3,3,2,3,3,4,3,4,4,4,3,4,4,3,4,4,1,2,2,3,4,4,3,4,4,3,4,2,4,4,3,4,2,4,4,4,4,3,2,1,3,3,1,2,3,3,3,2,4,4,1,3,3,3,3,1,3,2,3,4,3,1,3,3,4,4,1,4,1,3,2,4,4,3,1,2,2,3,4,4,4,3,4,1,2,1,3,1,3,2,2,2,1,4,4,4,3,3,4,2,3,3,3,4,4,4,2,2,3,2,4,1,4,3,1,1,3,4,3,3,3,3,3,4,4,1,4,3,3,2,4,3,3,4,3,4,2,2,4,2,4,3,3,4,3,3,4,2,1,4,3,3,1,3,4,3,1,4,1,4,4,1,3,3,4,3,4,3,4,2,2,3,4,3,4,3,1,2,4,4,2,3,1,2,1,3,2,4,3,2,2,4,2,3,2,2,3,4,1,4,1,3,1,3,4,4,3,1,3,2,3,1,2,3,3,1,1,4,3,4,3,3,4,4,2,2,2,1,4,2,2,3,2,4,4,4,1,3,3,1,1,1,4,2,1,2,1,4,4,3,2,4,2,1,4,1,2,2,1,1,1,4,4,3,2,3,4,4,1,3,3,4,1,3,1,3,4,2,3,3,2,2,3,3,2,1,3,1,4,4,2,2,4,4,4,4,4,4,2,3,3,4,4,3,2,1,4,4,4,1,3,1,4,3,3,4,2,2,3,3,4,4,4,4,4,1,4,2,3,3,2,1,4,1,4,1,2,2,4,3,4,1,3,1,4,3,3,2,3,4,3,3,3,3,3,4,4,3,3,1,3,2,2,1,3,2,3,3,2,3,4,1,4,1,1,3,2,2,2,1,4,3,3,4,2,4,1,2,1,3,4,4,3,3,1,2,2,3,4,1,4,3,4,4,3,1,1,4,4,1,2,1,1,3,4,3,2,2,3,3,3,2,4,1,4,4,2,4,3,1,3,4,3,4,4,3,2,3,3,3,4,3,3,3,4,1,3,1,4,2,4,4,3,1,3,4,4,4,3,4,4,3,2,3,3,2,4,2,1,3,4,4,1,2,4,1,3,3,2,2,4,4,4,2,4,4,2,2,2,3,3,4,3,2,4,3,1,4,3,1,4,3,3,4,1,3,2,3,1,1,4,3,4,1,1,4,4,4,3,1,2,2,3,3,4,1,4,3,3,4,3,1,3,1,4,4,4,4,2,2,3,3,2,3,4,2,3,2,2,4,4,1,3,3,3,4,4,3,4,2,3,1,4,1,4,2,3,4,2,3,2,4,4,4,3,2,3,3,4,3,4,4,2,3,4,3,1,2,3,4,1,3,1,4,1,1,4,3,3,3,3,1,3,4,1,3,4,4,3,2,4,2,4,3,4,4,3,4,4,3,4,3,3,3,2,4,3,4,2,3,4,4,3,2,3,1,1,4,4,3,4,2,1,4,3,3,4,4,3,4,3,3,3,3,2,3,4,2,1,4,3,4,4,4,4,4,1,2,2,4,3,3,1,2,4,3,2,3,3,1,4,1,4,1,3,3,1,3,1,3,2,4,4,2,1,4,1,4,2,1,3,1,3,1,1,4,4,4,2,3,1,2,4,2,3,4,4,3,4,1,3,4,4,4,4,1,1,3,2,3,2,4,4,2,3,3,4,1,3,1,3,3,4,3,4,3,2,4,2,3,4,1,4,3,2,3,1,3,4,4,4,1,2,3,3,4,1,2,4,3,3,3,1,3,4,3,4,3,1,3,2,1,3,2,2,2,1,4,1,3,4,1,4,2,4,4,4,3,4,2,2,2,2,2,3,1,4,3,3,3,2,4,2,2,3,4,3,1,3,3,1,4,4,2,3,1,3,1,2,4,3,2,4,4,1,4,3,4,1,3,4,4,2,3,4,1,4,4,1,4,4,2,3,4,4,3,1,3,4,2,4,1,2,3,2,3,2,3,1,4,3,4,4,3,3,4,4,1,2,3,2,2,3,4,2,3,3,3,4,4,4,2,3,4,1,1,3,4,3,4,4,4,3,4,3,2,2,2,3,4,3,4,1,2,4,4,1,1,2,3,4,3,4,3,3,2,3,2,2,1,3,1,2,3,1,3,2,2,2,3,2,4,1,3,2,3,1,2,3,4,1,4,4,4,3,2,4,3,4,4,1,2,4,1,4,4,4,2,2,2,2,3,4,4,4,2,2,1,2,1,4,2,3,3,3,3,4,1,3,2,2,3,1,2,3,3,4,1,4,4,2,2,2,2,3,3,1,1,4,3,1,3,4,1,3,4,4,1,4,1,4,3,4,2,4,3,3,2,4,4,2,3,4,4,1,2,4,1,1,4,4,3,4,4,2,2,3,1,2,1,2,3,3,1,1,2,3,4,1,4,3,1,1,4,4,3,4,3,1,2,4,3,3,3,3,4,4,2,2,4,3,4,2,4,2],\"xaxis\":\"x\",\"yaxis\":\"y\",\"type\":\"histogram\"}],                        {\"template\":{\"data\":{\"barpolar\":[{\"marker\":{\"line\":{\"color\":\"rgb(17,17,17)\",\"width\":0.5},\"pattern\":{\"fillmode\":\"overlay\",\"size\":10,\"solidity\":0.2}},\"type\":\"barpolar\"}],\"bar\":[{\"error_x\":{\"color\":\"#f2f5fa\"},\"error_y\":{\"color\":\"#f2f5fa\"},\"marker\":{\"line\":{\"color\":\"rgb(17,17,17)\",\"width\":0.5},\"pattern\":{\"fillmode\":\"overlay\",\"size\":10,\"solidity\":0.2}},\"type\":\"bar\"}],\"carpet\":[{\"aaxis\":{\"endlinecolor\":\"#A2B1C6\",\"gridcolor\":\"#506784\",\"linecolor\":\"#506784\",\"minorgridcolor\":\"#506784\",\"startlinecolor\":\"#A2B1C6\"},\"baxis\":{\"endlinecolor\":\"#A2B1C6\",\"gridcolor\":\"#506784\",\"linecolor\":\"#506784\",\"minorgridcolor\":\"#506784\",\"startlinecolor\":\"#A2B1C6\"},\"type\":\"carpet\"}],\"choropleth\":[{\"colorbar\":{\"outlinewidth\":0,\"ticks\":\"\"},\"type\":\"choropleth\"}],\"contourcarpet\":[{\"colorbar\":{\"outlinewidth\":0,\"ticks\":\"\"},\"type\":\"contourcarpet\"}],\"contour\":[{\"colorbar\":{\"outlinewidth\":0,\"ticks\":\"\"},\"colorscale\":[[0.0,\"#0d0887\"],[0.1111111111111111,\"#46039f\"],[0.2222222222222222,\"#7201a8\"],[0.3333333333333333,\"#9c179e\"],[0.4444444444444444,\"#bd3786\"],[0.5555555555555556,\"#d8576b\"],[0.6666666666666666,\"#ed7953\"],[0.7777777777777778,\"#fb9f3a\"],[0.8888888888888888,\"#fdca26\"],[1.0,\"#f0f921\"]],\"type\":\"contour\"}],\"heatmapgl\":[{\"colorbar\":{\"outlinewidth\":0,\"ticks\":\"\"},\"colorscale\":[[0.0,\"#0d0887\"],[0.1111111111111111,\"#46039f\"],[0.2222222222222222,\"#7201a8\"],[0.3333333333333333,\"#9c179e\"],[0.4444444444444444,\"#bd3786\"],[0.5555555555555556,\"#d8576b\"],[0.6666666666666666,\"#ed7953\"],[0.7777777777777778,\"#fb9f3a\"],[0.8888888888888888,\"#fdca26\"],[1.0,\"#f0f921\"]],\"type\":\"heatmapgl\"}],\"heatmap\":[{\"colorbar\":{\"outlinewidth\":0,\"ticks\":\"\"},\"colorscale\":[[0.0,\"#0d0887\"],[0.1111111111111111,\"#46039f\"],[0.2222222222222222,\"#7201a8\"],[0.3333333333333333,\"#9c179e\"],[0.4444444444444444,\"#bd3786\"],[0.5555555555555556,\"#d8576b\"],[0.6666666666666666,\"#ed7953\"],[0.7777777777777778,\"#fb9f3a\"],[0.8888888888888888,\"#fdca26\"],[1.0,\"#f0f921\"]],\"type\":\"heatmap\"}],\"histogram2dcontour\":[{\"colorbar\":{\"outlinewidth\":0,\"ticks\":\"\"},\"colorscale\":[[0.0,\"#0d0887\"],[0.1111111111111111,\"#46039f\"],[0.2222222222222222,\"#7201a8\"],[0.3333333333333333,\"#9c179e\"],[0.4444444444444444,\"#bd3786\"],[0.5555555555555556,\"#d8576b\"],[0.6666666666666666,\"#ed7953\"],[0.7777777777777778,\"#fb9f3a\"],[0.8888888888888888,\"#fdca26\"],[1.0,\"#f0f921\"]],\"type\":\"histogram2dcontour\"}],\"histogram2d\":[{\"colorbar\":{\"outlinewidth\":0,\"ticks\":\"\"},\"colorscale\":[[0.0,\"#0d0887\"],[0.1111111111111111,\"#46039f\"],[0.2222222222222222,\"#7201a8\"],[0.3333333333333333,\"#9c179e\"],[0.4444444444444444,\"#bd3786\"],[0.5555555555555556,\"#d8576b\"],[0.6666666666666666,\"#ed7953\"],[0.7777777777777778,\"#fb9f3a\"],[0.8888888888888888,\"#fdca26\"],[1.0,\"#f0f921\"]],\"type\":\"histogram2d\"}],\"histogram\":[{\"marker\":{\"pattern\":{\"fillmode\":\"overlay\",\"size\":10,\"solidity\":0.2}},\"type\":\"histogram\"}],\"mesh3d\":[{\"colorbar\":{\"outlinewidth\":0,\"ticks\":\"\"},\"type\":\"mesh3d\"}],\"parcoords\":[{\"line\":{\"colorbar\":{\"outlinewidth\":0,\"ticks\":\"\"}},\"type\":\"parcoords\"}],\"pie\":[{\"automargin\":true,\"type\":\"pie\"}],\"scatter3d\":[{\"line\":{\"colorbar\":{\"outlinewidth\":0,\"ticks\":\"\"}},\"marker\":{\"colorbar\":{\"outlinewidth\":0,\"ticks\":\"\"}},\"type\":\"scatter3d\"}],\"scattercarpet\":[{\"marker\":{\"colorbar\":{\"outlinewidth\":0,\"ticks\":\"\"}},\"type\":\"scattercarpet\"}],\"scattergeo\":[{\"marker\":{\"colorbar\":{\"outlinewidth\":0,\"ticks\":\"\"}},\"type\":\"scattergeo\"}],\"scattergl\":[{\"marker\":{\"line\":{\"color\":\"#283442\"}},\"type\":\"scattergl\"}],\"scattermapbox\":[{\"marker\":{\"colorbar\":{\"outlinewidth\":0,\"ticks\":\"\"}},\"type\":\"scattermapbox\"}],\"scatterpolargl\":[{\"marker\":{\"colorbar\":{\"outlinewidth\":0,\"ticks\":\"\"}},\"type\":\"scatterpolargl\"}],\"scatterpolar\":[{\"marker\":{\"colorbar\":{\"outlinewidth\":0,\"ticks\":\"\"}},\"type\":\"scatterpolar\"}],\"scatter\":[{\"marker\":{\"line\":{\"color\":\"#283442\"}},\"type\":\"scatter\"}],\"scatterternary\":[{\"marker\":{\"colorbar\":{\"outlinewidth\":0,\"ticks\":\"\"}},\"type\":\"scatterternary\"}],\"surface\":[{\"colorbar\":{\"outlinewidth\":0,\"ticks\":\"\"},\"colorscale\":[[0.0,\"#0d0887\"],[0.1111111111111111,\"#46039f\"],[0.2222222222222222,\"#7201a8\"],[0.3333333333333333,\"#9c179e\"],[0.4444444444444444,\"#bd3786\"],[0.5555555555555556,\"#d8576b\"],[0.6666666666666666,\"#ed7953\"],[0.7777777777777778,\"#fb9f3a\"],[0.8888888888888888,\"#fdca26\"],[1.0,\"#f0f921\"]],\"type\":\"surface\"}],\"table\":[{\"cells\":{\"fill\":{\"color\":\"#506784\"},\"line\":{\"color\":\"rgb(17,17,17)\"}},\"header\":{\"fill\":{\"color\":\"#2a3f5f\"},\"line\":{\"color\":\"rgb(17,17,17)\"}},\"type\":\"table\"}]},\"layout\":{\"annotationdefaults\":{\"arrowcolor\":\"#f2f5fa\",\"arrowhead\":0,\"arrowwidth\":1},\"autotypenumbers\":\"strict\",\"coloraxis\":{\"colorbar\":{\"outlinewidth\":0,\"ticks\":\"\"}},\"colorscale\":{\"diverging\":[[0,\"#8e0152\"],[0.1,\"#c51b7d\"],[0.2,\"#de77ae\"],[0.3,\"#f1b6da\"],[0.4,\"#fde0ef\"],[0.5,\"#f7f7f7\"],[0.6,\"#e6f5d0\"],[0.7,\"#b8e186\"],[0.8,\"#7fbc41\"],[0.9,\"#4d9221\"],[1,\"#276419\"]],\"sequential\":[[0.0,\"#0d0887\"],[0.1111111111111111,\"#46039f\"],[0.2222222222222222,\"#7201a8\"],[0.3333333333333333,\"#9c179e\"],[0.4444444444444444,\"#bd3786\"],[0.5555555555555556,\"#d8576b\"],[0.6666666666666666,\"#ed7953\"],[0.7777777777777778,\"#fb9f3a\"],[0.8888888888888888,\"#fdca26\"],[1.0,\"#f0f921\"]],\"sequentialminus\":[[0.0,\"#0d0887\"],[0.1111111111111111,\"#46039f\"],[0.2222222222222222,\"#7201a8\"],[0.3333333333333333,\"#9c179e\"],[0.4444444444444444,\"#bd3786\"],[0.5555555555555556,\"#d8576b\"],[0.6666666666666666,\"#ed7953\"],[0.7777777777777778,\"#fb9f3a\"],[0.8888888888888888,\"#fdca26\"],[1.0,\"#f0f921\"]]},\"colorway\":[\"#636efa\",\"#EF553B\",\"#00cc96\",\"#ab63fa\",\"#FFA15A\",\"#19d3f3\",\"#FF6692\",\"#B6E880\",\"#FF97FF\",\"#FECB52\"],\"font\":{\"color\":\"#f2f5fa\"},\"geo\":{\"bgcolor\":\"rgb(17,17,17)\",\"lakecolor\":\"rgb(17,17,17)\",\"landcolor\":\"rgb(17,17,17)\",\"showlakes\":true,\"showland\":true,\"subunitcolor\":\"#506784\"},\"hoverlabel\":{\"align\":\"left\"},\"hovermode\":\"closest\",\"mapbox\":{\"style\":\"dark\"},\"paper_bgcolor\":\"rgb(17,17,17)\",\"plot_bgcolor\":\"rgb(17,17,17)\",\"polar\":{\"angularaxis\":{\"gridcolor\":\"#506784\",\"linecolor\":\"#506784\",\"ticks\":\"\"},\"bgcolor\":\"rgb(17,17,17)\",\"radialaxis\":{\"gridcolor\":\"#506784\",\"linecolor\":\"#506784\",\"ticks\":\"\"}},\"scene\":{\"xaxis\":{\"backgroundcolor\":\"rgb(17,17,17)\",\"gridcolor\":\"#506784\",\"gridwidth\":2,\"linecolor\":\"#506784\",\"showbackground\":true,\"ticks\":\"\",\"zerolinecolor\":\"#C8D4E3\"},\"yaxis\":{\"backgroundcolor\":\"rgb(17,17,17)\",\"gridcolor\":\"#506784\",\"gridwidth\":2,\"linecolor\":\"#506784\",\"showbackground\":true,\"ticks\":\"\",\"zerolinecolor\":\"#C8D4E3\"},\"zaxis\":{\"backgroundcolor\":\"rgb(17,17,17)\",\"gridcolor\":\"#506784\",\"gridwidth\":2,\"linecolor\":\"#506784\",\"showbackground\":true,\"ticks\":\"\",\"zerolinecolor\":\"#C8D4E3\"}},\"shapedefaults\":{\"line\":{\"color\":\"#f2f5fa\"}},\"sliderdefaults\":{\"bgcolor\":\"#C8D4E3\",\"bordercolor\":\"rgb(17,17,17)\",\"borderwidth\":1,\"tickwidth\":0},\"ternary\":{\"aaxis\":{\"gridcolor\":\"#506784\",\"linecolor\":\"#506784\",\"ticks\":\"\"},\"baxis\":{\"gridcolor\":\"#506784\",\"linecolor\":\"#506784\",\"ticks\":\"\"},\"bgcolor\":\"rgb(17,17,17)\",\"caxis\":{\"gridcolor\":\"#506784\",\"linecolor\":\"#506784\",\"ticks\":\"\"}},\"title\":{\"x\":0.05},\"updatemenudefaults\":{\"bgcolor\":\"#506784\",\"borderwidth\":0},\"xaxis\":{\"automargin\":true,\"gridcolor\":\"#283442\",\"linecolor\":\"#506784\",\"ticks\":\"\",\"title\":{\"standoff\":15},\"zerolinecolor\":\"#283442\",\"zerolinewidth\":2},\"yaxis\":{\"automargin\":true,\"gridcolor\":\"#283442\",\"linecolor\":\"#506784\",\"ticks\":\"\",\"title\":{\"standoff\":15},\"zerolinecolor\":\"#283442\",\"zerolinewidth\":2}}},\"xaxis\":{\"anchor\":\"y\",\"domain\":[0.0,1.0],\"title\":{\"text\":\"EnvironmentSatisfaction\"}},\"yaxis\":{\"anchor\":\"x\",\"domain\":[0.0,1.0],\"title\":{\"text\":\"count\"}},\"legend\":{\"title\":{\"text\":\"Attrition\"},\"tracegroupgap\":0},\"title\":{\"text\":\"<b>Counts of Education</b>\",\"font\":{\"size\":20},\"x\":0.5},\"barmode\":\"relative\",\"uniformtext\":{\"minsize\":15}},                        {\"responsive\": true}                    ).then(function(){\n",
       "                            \n",
       "var gd = document.getElementById('b8cd34bf-9873-4f9e-a2ee-17c15d727861');\n",
       "var x = new MutationObserver(function (mutations, observer) {{\n",
       "        var display = window.getComputedStyle(gd).display;\n",
       "        if (!display || display === 'none') {{\n",
       "            console.log([gd, 'removed!']);\n",
       "            Plotly.purge(gd);\n",
       "            observer.disconnect();\n",
       "        }}\n",
       "}});\n",
       "\n",
       "// Listen for the removal of the full notebook cells\n",
       "var notebookContainer = gd.closest('#notebook-container');\n",
       "if (notebookContainer) {{\n",
       "    x.observe(notebookContainer, {childList: true});\n",
       "}}\n",
       "\n",
       "// Listen for the clearing of the current output cell\n",
       "var outputEl = gd.closest('.output');\n",
       "if (outputEl) {{\n",
       "    x.observe(outputEl, {childList: true});\n",
       "}}\n",
       "\n",
       "                        })                };                });            </script>        </div>"
      ]
     },
     "metadata": {},
     "output_type": "display_data"
    }
   ],
   "source": [
    "fig = px.histogram(data_frame = data,\n",
    "             x = \"EnvironmentSatisfaction\",\n",
    "             color=\"Attrition\", title=\"<b>Counts of Education</b>\",\n",
    "             pattern_shape_sequence=['x'],\n",
    "             template='plotly_dark')\n",
    "\n",
    "fig.update_layout(title_x = 0.5,\n",
    "                  title_font = dict(size = 20),\n",
    "                  uniformtext_minsize = 15)\n",
    "\n",
    "\n",
    "fig.show()\n"
   ]
  },
  {
   "cell_type": "code",
   "execution_count": 38,
   "metadata": {},
   "outputs": [
    {
     "data": {
      "application/vnd.plotly.v1+json": {
       "config": {
        "plotlyServerURL": "https://plot.ly"
       },
       "data": [
        {
         "alignmentgroup": "True",
         "bingroup": "x",
         "hovertemplate": "Attrition=1<br>EnvironmentSatisfaction=%{x}<br>count=%{y}<extra></extra>",
         "legendgroup": "1",
         "marker": {
          "color": "#636efa",
          "pattern": {
           "shape": "x"
          }
         },
         "name": "1",
         "offsetgroup": "1",
         "orientation": "v",
         "showlegend": true,
         "type": "histogram",
         "x": [
          2,
          4,
          3,
          3,
          2,
          2,
          4,
          2,
          1,
          1,
          2,
          1,
          3,
          4,
          3,
          3,
          4,
          3,
          1,
          2,
          2,
          4,
          4,
          2,
          1,
          1,
          3,
          2,
          2,
          2,
          2,
          2,
          4,
          4,
          3,
          3,
          3,
          3,
          1,
          4,
          1,
          3,
          1,
          1,
          4,
          1,
          4,
          3,
          3,
          1,
          4,
          2,
          1,
          4,
          1,
          3,
          3,
          1,
          3,
          3,
          1,
          1,
          4,
          3,
          1,
          2,
          1,
          1,
          2,
          3,
          2,
          2,
          3,
          4,
          1,
          2,
          2,
          3,
          1,
          4,
          1,
          1,
          2,
          1,
          3,
          4,
          2,
          4,
          4,
          3,
          2,
          1,
          4,
          3,
          3,
          3,
          3,
          4,
          2,
          1,
          4,
          3,
          4,
          2,
          2,
          4,
          3,
          4,
          1,
          3,
          1,
          4,
          2,
          3,
          4,
          1,
          3,
          4,
          2,
          1,
          2,
          1,
          3,
          1,
          1,
          4,
          3,
          1,
          2,
          2,
          4,
          1,
          4,
          1,
          1,
          1,
          4,
          1,
          3,
          1,
          3,
          4,
          3,
          3,
          1,
          3,
          3,
          1,
          4,
          1,
          3,
          1,
          1,
          1,
          2,
          4,
          3,
          4,
          2,
          4,
          1,
          3,
          1,
          3,
          4,
          4,
          4,
          1,
          3,
          2,
          1,
          1,
          1,
          1,
          3,
          2,
          1,
          1,
          1,
          1,
          2,
          3,
          1,
          4,
          4,
          2,
          1,
          3,
          3,
          3,
          2,
          4,
          1,
          1,
          4,
          4,
          4,
          4,
          3,
          4,
          3,
          2,
          1,
          3,
          2,
          1,
          1,
          3,
          2,
          3,
          3,
          3,
          4,
          4,
          4,
          4,
          4,
          1,
          3,
          4,
          3,
          2,
          4,
          4,
          1,
          3,
          4,
          1,
          1,
          3,
          1,
          1,
          4,
          1,
          4,
          2,
          4
         ],
         "xaxis": "x",
         "yaxis": "y"
        },
        {
         "alignmentgroup": "True",
         "bingroup": "x",
         "hovertemplate": "Attrition=0<br>EnvironmentSatisfaction=%{x}<br>count=%{y}<extra></extra>",
         "legendgroup": "0",
         "marker": {
          "color": "#EF553B",
          "pattern": {
           "shape": "x"
          }
         },
         "name": "0",
         "offsetgroup": "0",
         "orientation": "v",
         "showlegend": true,
         "type": "histogram",
         "x": [
          3,
          4,
          1,
          4,
          3,
          4,
          4,
          3,
          1,
          4,
          1,
          2,
          2,
          1,
          4,
          1,
          4,
          1,
          1,
          3,
          3,
          3,
          1,
          2,
          3,
          4,
          4,
          4,
          4,
          2,
          3,
          3,
          4,
          4,
          3,
          2,
          2,
          1,
          4,
          2,
          3,
          3,
          1,
          2,
          3,
          4,
          1,
          1,
          4,
          2,
          1,
          3,
          4,
          2,
          2,
          2,
          1,
          3,
          3,
          2,
          2,
          3,
          3,
          4,
          1,
          2,
          4,
          2,
          1,
          2,
          1,
          4,
          3,
          4,
          3,
          3,
          3,
          3,
          3,
          2,
          1,
          1,
          2,
          4,
          2,
          4,
          1,
          3,
          3,
          1,
          4,
          2,
          1,
          4,
          2,
          3,
          3,
          3,
          2,
          1,
          3,
          1,
          3,
          1,
          3,
          3,
          3,
          2,
          3,
          3,
          3,
          2,
          4,
          1,
          3,
          3,
          4,
          1,
          4,
          4,
          2,
          4,
          3,
          2,
          2,
          3,
          2,
          2,
          2,
          4,
          2,
          2,
          3,
          3,
          3,
          4,
          3,
          3,
          3,
          3,
          1,
          2,
          1,
          3,
          3,
          4,
          3,
          3,
          3,
          3,
          2,
          3,
          3,
          4,
          3,
          4,
          4,
          4,
          3,
          4,
          4,
          3,
          4,
          4,
          1,
          2,
          2,
          3,
          4,
          4,
          3,
          4,
          4,
          3,
          4,
          2,
          4,
          4,
          3,
          4,
          2,
          4,
          4,
          4,
          4,
          3,
          2,
          1,
          3,
          3,
          1,
          2,
          3,
          3,
          3,
          2,
          4,
          4,
          1,
          3,
          3,
          3,
          3,
          1,
          3,
          2,
          3,
          4,
          3,
          1,
          3,
          3,
          4,
          4,
          1,
          4,
          1,
          3,
          2,
          4,
          4,
          3,
          1,
          2,
          2,
          3,
          4,
          4,
          4,
          3,
          4,
          1,
          2,
          1,
          3,
          1,
          3,
          2,
          2,
          2,
          1,
          4,
          4,
          4,
          3,
          3,
          4,
          2,
          3,
          3,
          3,
          4,
          4,
          4,
          2,
          2,
          3,
          2,
          4,
          1,
          4,
          3,
          1,
          1,
          3,
          4,
          3,
          3,
          3,
          3,
          3,
          4,
          4,
          1,
          4,
          3,
          3,
          2,
          4,
          3,
          3,
          4,
          3,
          4,
          2,
          2,
          4,
          2,
          4,
          3,
          3,
          4,
          3,
          3,
          4,
          2,
          1,
          4,
          3,
          3,
          1,
          3,
          4,
          3,
          1,
          4,
          1,
          4,
          4,
          1,
          3,
          3,
          4,
          3,
          4,
          3,
          4,
          2,
          2,
          3,
          4,
          3,
          4,
          3,
          1,
          2,
          4,
          4,
          2,
          3,
          1,
          2,
          1,
          3,
          2,
          4,
          3,
          2,
          2,
          4,
          2,
          3,
          2,
          2,
          3,
          4,
          1,
          4,
          1,
          3,
          1,
          3,
          4,
          4,
          3,
          1,
          3,
          2,
          3,
          1,
          2,
          3,
          3,
          1,
          1,
          4,
          3,
          4,
          3,
          3,
          4,
          4,
          2,
          2,
          2,
          1,
          4,
          2,
          2,
          3,
          2,
          4,
          4,
          4,
          1,
          3,
          3,
          1,
          1,
          1,
          4,
          2,
          1,
          2,
          1,
          4,
          4,
          3,
          2,
          4,
          2,
          1,
          4,
          1,
          2,
          2,
          1,
          1,
          1,
          4,
          4,
          3,
          2,
          3,
          4,
          4,
          1,
          3,
          3,
          4,
          1,
          3,
          1,
          3,
          4,
          2,
          3,
          3,
          2,
          2,
          3,
          3,
          2,
          1,
          3,
          1,
          4,
          4,
          2,
          2,
          4,
          4,
          4,
          4,
          4,
          4,
          2,
          3,
          3,
          4,
          4,
          3,
          2,
          1,
          4,
          4,
          4,
          1,
          3,
          1,
          4,
          3,
          3,
          4,
          2,
          2,
          3,
          3,
          4,
          4,
          4,
          4,
          4,
          1,
          4,
          2,
          3,
          3,
          2,
          1,
          4,
          1,
          4,
          1,
          2,
          2,
          4,
          3,
          4,
          1,
          3,
          1,
          4,
          3,
          3,
          2,
          3,
          4,
          3,
          3,
          3,
          3,
          3,
          4,
          4,
          3,
          3,
          1,
          3,
          2,
          2,
          1,
          3,
          2,
          3,
          3,
          2,
          3,
          4,
          1,
          4,
          1,
          1,
          3,
          2,
          2,
          2,
          1,
          4,
          3,
          3,
          4,
          2,
          4,
          1,
          2,
          1,
          3,
          4,
          4,
          3,
          3,
          1,
          2,
          2,
          3,
          4,
          1,
          4,
          3,
          4,
          4,
          3,
          1,
          1,
          4,
          4,
          1,
          2,
          1,
          1,
          3,
          4,
          3,
          2,
          2,
          3,
          3,
          3,
          2,
          4,
          1,
          4,
          4,
          2,
          4,
          3,
          1,
          3,
          4,
          3,
          4,
          4,
          3,
          2,
          3,
          3,
          3,
          4,
          3,
          3,
          3,
          4,
          1,
          3,
          1,
          4,
          2,
          4,
          4,
          3,
          1,
          3,
          4,
          4,
          4,
          3,
          4,
          4,
          3,
          2,
          3,
          3,
          2,
          4,
          2,
          1,
          3,
          4,
          4,
          1,
          2,
          4,
          1,
          3,
          3,
          2,
          2,
          4,
          4,
          4,
          2,
          4,
          4,
          2,
          2,
          2,
          3,
          3,
          4,
          3,
          2,
          4,
          3,
          1,
          4,
          3,
          1,
          4,
          3,
          3,
          4,
          1,
          3,
          2,
          3,
          1,
          1,
          4,
          3,
          4,
          1,
          1,
          4,
          4,
          4,
          3,
          1,
          2,
          2,
          3,
          3,
          4,
          1,
          4,
          3,
          3,
          4,
          3,
          1,
          3,
          1,
          4,
          4,
          4,
          4,
          2,
          2,
          3,
          3,
          2,
          3,
          4,
          2,
          3,
          2,
          2,
          4,
          4,
          1,
          3,
          3,
          3,
          4,
          4,
          3,
          4,
          2,
          3,
          1,
          4,
          1,
          4,
          2,
          3,
          4,
          2,
          3,
          2,
          4,
          4,
          4,
          3,
          2,
          3,
          3,
          4,
          3,
          4,
          4,
          2,
          3,
          4,
          3,
          1,
          2,
          3,
          4,
          1,
          3,
          1,
          4,
          1,
          1,
          4,
          3,
          3,
          3,
          3,
          1,
          3,
          4,
          1,
          3,
          4,
          4,
          3,
          2,
          4,
          2,
          4,
          3,
          4,
          4,
          3,
          4,
          4,
          3,
          4,
          3,
          3,
          3,
          2,
          4,
          3,
          4,
          2,
          3,
          4,
          4,
          3,
          2,
          3,
          1,
          1,
          4,
          4,
          3,
          4,
          2,
          1,
          4,
          3,
          3,
          4,
          4,
          3,
          4,
          3,
          3,
          3,
          3,
          2,
          3,
          4,
          2,
          1,
          4,
          3,
          4,
          4,
          4,
          4,
          4,
          1,
          2,
          2,
          4,
          3,
          3,
          1,
          2,
          4,
          3,
          2,
          3,
          3,
          1,
          4,
          1,
          4,
          1,
          3,
          3,
          1,
          3,
          1,
          3,
          2,
          4,
          4,
          2,
          1,
          4,
          1,
          4,
          2,
          1,
          3,
          1,
          3,
          1,
          1,
          4,
          4,
          4,
          2,
          3,
          1,
          2,
          4,
          2,
          3,
          4,
          4,
          3,
          4,
          1,
          3,
          4,
          4,
          4,
          4,
          1,
          1,
          3,
          2,
          3,
          2,
          4,
          4,
          2,
          3,
          3,
          4,
          1,
          3,
          1,
          3,
          3,
          4,
          3,
          4,
          3,
          2,
          4,
          2,
          3,
          4,
          1,
          4,
          3,
          2,
          3,
          1,
          3,
          4,
          4,
          4,
          1,
          2,
          3,
          3,
          4,
          1,
          2,
          4,
          3,
          3,
          3,
          1,
          3,
          4,
          3,
          4,
          3,
          1,
          3,
          2,
          1,
          3,
          2,
          2,
          2,
          1,
          4,
          1,
          3,
          4,
          1,
          4,
          2,
          4,
          4,
          4,
          3,
          4,
          2,
          2,
          2,
          2,
          2,
          3,
          1,
          4,
          3,
          3,
          3,
          2,
          4,
          2,
          2,
          3,
          4,
          3,
          1,
          3,
          3,
          1,
          4,
          4,
          2,
          3,
          1,
          3,
          1,
          2,
          4,
          3,
          2,
          4,
          4,
          1,
          4,
          3,
          4,
          1,
          3,
          4,
          4,
          2,
          3,
          4,
          1,
          4,
          4,
          1,
          4,
          4,
          2,
          3,
          4,
          4,
          3,
          1,
          3,
          4,
          2,
          4,
          1,
          2,
          3,
          2,
          3,
          2,
          3,
          1,
          4,
          3,
          4,
          4,
          3,
          3,
          4,
          4,
          1,
          2,
          3,
          2,
          2,
          3,
          4,
          2,
          3,
          3,
          3,
          4,
          4,
          4,
          2,
          3,
          4,
          1,
          1,
          3,
          4,
          3,
          4,
          4,
          4,
          3,
          4,
          3,
          2,
          2,
          2,
          3,
          4,
          3,
          4,
          1,
          2,
          4,
          4,
          1,
          1,
          2,
          3,
          4,
          3,
          4,
          3,
          3,
          2,
          3,
          2,
          2,
          1,
          3,
          1,
          2,
          3,
          1,
          3,
          2,
          2,
          2,
          3,
          2,
          4,
          1,
          3,
          2,
          3,
          1,
          2,
          3,
          4,
          1,
          4,
          4,
          4,
          3,
          2,
          4,
          3,
          4,
          4,
          1,
          2,
          4,
          1,
          4,
          4,
          4,
          2,
          2,
          2,
          2,
          3,
          4,
          4,
          4,
          2,
          2,
          1,
          2,
          1,
          4,
          2,
          3,
          3,
          3,
          3,
          4,
          1,
          3,
          2,
          2,
          3,
          1,
          2,
          3,
          3,
          4,
          1,
          4,
          4,
          2,
          2,
          2,
          2,
          3,
          3,
          1,
          1,
          4,
          3,
          1,
          3,
          4,
          1,
          3,
          4,
          4,
          1,
          4,
          1,
          4,
          3,
          4,
          2,
          4,
          3,
          3,
          2,
          4,
          4,
          2,
          3,
          4,
          4,
          1,
          2,
          4,
          1,
          1,
          4,
          4,
          3,
          4,
          4,
          2,
          2,
          3,
          1,
          2,
          1,
          2,
          3,
          3,
          1,
          1,
          2,
          3,
          4,
          1,
          4,
          3,
          1,
          1,
          4,
          4,
          3,
          4,
          3,
          1,
          2,
          4,
          3,
          3,
          3,
          3,
          4,
          4,
          2,
          2,
          4,
          3,
          4,
          2,
          4,
          2
         ],
         "xaxis": "x",
         "yaxis": "y"
        }
       ],
       "layout": {
        "barmode": "relative",
        "legend": {
         "title": {
          "text": "Attrition"
         },
         "tracegroupgap": 0
        },
        "template": {
         "data": {
          "bar": [
           {
            "error_x": {
             "color": "#f2f5fa"
            },
            "error_y": {
             "color": "#f2f5fa"
            },
            "marker": {
             "line": {
              "color": "rgb(17,17,17)",
              "width": 0.5
             },
             "pattern": {
              "fillmode": "overlay",
              "size": 10,
              "solidity": 0.2
             }
            },
            "type": "bar"
           }
          ],
          "barpolar": [
           {
            "marker": {
             "line": {
              "color": "rgb(17,17,17)",
              "width": 0.5
             },
             "pattern": {
              "fillmode": "overlay",
              "size": 10,
              "solidity": 0.2
             }
            },
            "type": "barpolar"
           }
          ],
          "carpet": [
           {
            "aaxis": {
             "endlinecolor": "#A2B1C6",
             "gridcolor": "#506784",
             "linecolor": "#506784",
             "minorgridcolor": "#506784",
             "startlinecolor": "#A2B1C6"
            },
            "baxis": {
             "endlinecolor": "#A2B1C6",
             "gridcolor": "#506784",
             "linecolor": "#506784",
             "minorgridcolor": "#506784",
             "startlinecolor": "#A2B1C6"
            },
            "type": "carpet"
           }
          ],
          "choropleth": [
           {
            "colorbar": {
             "outlinewidth": 0,
             "ticks": ""
            },
            "type": "choropleth"
           }
          ],
          "contour": [
           {
            "colorbar": {
             "outlinewidth": 0,
             "ticks": ""
            },
            "colorscale": [
             [
              0,
              "#0d0887"
             ],
             [
              0.1111111111111111,
              "#46039f"
             ],
             [
              0.2222222222222222,
              "#7201a8"
             ],
             [
              0.3333333333333333,
              "#9c179e"
             ],
             [
              0.4444444444444444,
              "#bd3786"
             ],
             [
              0.5555555555555556,
              "#d8576b"
             ],
             [
              0.6666666666666666,
              "#ed7953"
             ],
             [
              0.7777777777777778,
              "#fb9f3a"
             ],
             [
              0.8888888888888888,
              "#fdca26"
             ],
             [
              1,
              "#f0f921"
             ]
            ],
            "type": "contour"
           }
          ],
          "contourcarpet": [
           {
            "colorbar": {
             "outlinewidth": 0,
             "ticks": ""
            },
            "type": "contourcarpet"
           }
          ],
          "heatmap": [
           {
            "colorbar": {
             "outlinewidth": 0,
             "ticks": ""
            },
            "colorscale": [
             [
              0,
              "#0d0887"
             ],
             [
              0.1111111111111111,
              "#46039f"
             ],
             [
              0.2222222222222222,
              "#7201a8"
             ],
             [
              0.3333333333333333,
              "#9c179e"
             ],
             [
              0.4444444444444444,
              "#bd3786"
             ],
             [
              0.5555555555555556,
              "#d8576b"
             ],
             [
              0.6666666666666666,
              "#ed7953"
             ],
             [
              0.7777777777777778,
              "#fb9f3a"
             ],
             [
              0.8888888888888888,
              "#fdca26"
             ],
             [
              1,
              "#f0f921"
             ]
            ],
            "type": "heatmap"
           }
          ],
          "heatmapgl": [
           {
            "colorbar": {
             "outlinewidth": 0,
             "ticks": ""
            },
            "colorscale": [
             [
              0,
              "#0d0887"
             ],
             [
              0.1111111111111111,
              "#46039f"
             ],
             [
              0.2222222222222222,
              "#7201a8"
             ],
             [
              0.3333333333333333,
              "#9c179e"
             ],
             [
              0.4444444444444444,
              "#bd3786"
             ],
             [
              0.5555555555555556,
              "#d8576b"
             ],
             [
              0.6666666666666666,
              "#ed7953"
             ],
             [
              0.7777777777777778,
              "#fb9f3a"
             ],
             [
              0.8888888888888888,
              "#fdca26"
             ],
             [
              1,
              "#f0f921"
             ]
            ],
            "type": "heatmapgl"
           }
          ],
          "histogram": [
           {
            "marker": {
             "pattern": {
              "fillmode": "overlay",
              "size": 10,
              "solidity": 0.2
             }
            },
            "type": "histogram"
           }
          ],
          "histogram2d": [
           {
            "colorbar": {
             "outlinewidth": 0,
             "ticks": ""
            },
            "colorscale": [
             [
              0,
              "#0d0887"
             ],
             [
              0.1111111111111111,
              "#46039f"
             ],
             [
              0.2222222222222222,
              "#7201a8"
             ],
             [
              0.3333333333333333,
              "#9c179e"
             ],
             [
              0.4444444444444444,
              "#bd3786"
             ],
             [
              0.5555555555555556,
              "#d8576b"
             ],
             [
              0.6666666666666666,
              "#ed7953"
             ],
             [
              0.7777777777777778,
              "#fb9f3a"
             ],
             [
              0.8888888888888888,
              "#fdca26"
             ],
             [
              1,
              "#f0f921"
             ]
            ],
            "type": "histogram2d"
           }
          ],
          "histogram2dcontour": [
           {
            "colorbar": {
             "outlinewidth": 0,
             "ticks": ""
            },
            "colorscale": [
             [
              0,
              "#0d0887"
             ],
             [
              0.1111111111111111,
              "#46039f"
             ],
             [
              0.2222222222222222,
              "#7201a8"
             ],
             [
              0.3333333333333333,
              "#9c179e"
             ],
             [
              0.4444444444444444,
              "#bd3786"
             ],
             [
              0.5555555555555556,
              "#d8576b"
             ],
             [
              0.6666666666666666,
              "#ed7953"
             ],
             [
              0.7777777777777778,
              "#fb9f3a"
             ],
             [
              0.8888888888888888,
              "#fdca26"
             ],
             [
              1,
              "#f0f921"
             ]
            ],
            "type": "histogram2dcontour"
           }
          ],
          "mesh3d": [
           {
            "colorbar": {
             "outlinewidth": 0,
             "ticks": ""
            },
            "type": "mesh3d"
           }
          ],
          "parcoords": [
           {
            "line": {
             "colorbar": {
              "outlinewidth": 0,
              "ticks": ""
             }
            },
            "type": "parcoords"
           }
          ],
          "pie": [
           {
            "automargin": true,
            "type": "pie"
           }
          ],
          "scatter": [
           {
            "marker": {
             "line": {
              "color": "#283442"
             }
            },
            "type": "scatter"
           }
          ],
          "scatter3d": [
           {
            "line": {
             "colorbar": {
              "outlinewidth": 0,
              "ticks": ""
             }
            },
            "marker": {
             "colorbar": {
              "outlinewidth": 0,
              "ticks": ""
             }
            },
            "type": "scatter3d"
           }
          ],
          "scattercarpet": [
           {
            "marker": {
             "colorbar": {
              "outlinewidth": 0,
              "ticks": ""
             }
            },
            "type": "scattercarpet"
           }
          ],
          "scattergeo": [
           {
            "marker": {
             "colorbar": {
              "outlinewidth": 0,
              "ticks": ""
             }
            },
            "type": "scattergeo"
           }
          ],
          "scattergl": [
           {
            "marker": {
             "line": {
              "color": "#283442"
             }
            },
            "type": "scattergl"
           }
          ],
          "scattermapbox": [
           {
            "marker": {
             "colorbar": {
              "outlinewidth": 0,
              "ticks": ""
             }
            },
            "type": "scattermapbox"
           }
          ],
          "scatterpolar": [
           {
            "marker": {
             "colorbar": {
              "outlinewidth": 0,
              "ticks": ""
             }
            },
            "type": "scatterpolar"
           }
          ],
          "scatterpolargl": [
           {
            "marker": {
             "colorbar": {
              "outlinewidth": 0,
              "ticks": ""
             }
            },
            "type": "scatterpolargl"
           }
          ],
          "scatterternary": [
           {
            "marker": {
             "colorbar": {
              "outlinewidth": 0,
              "ticks": ""
             }
            },
            "type": "scatterternary"
           }
          ],
          "surface": [
           {
            "colorbar": {
             "outlinewidth": 0,
             "ticks": ""
            },
            "colorscale": [
             [
              0,
              "#0d0887"
             ],
             [
              0.1111111111111111,
              "#46039f"
             ],
             [
              0.2222222222222222,
              "#7201a8"
             ],
             [
              0.3333333333333333,
              "#9c179e"
             ],
             [
              0.4444444444444444,
              "#bd3786"
             ],
             [
              0.5555555555555556,
              "#d8576b"
             ],
             [
              0.6666666666666666,
              "#ed7953"
             ],
             [
              0.7777777777777778,
              "#fb9f3a"
             ],
             [
              0.8888888888888888,
              "#fdca26"
             ],
             [
              1,
              "#f0f921"
             ]
            ],
            "type": "surface"
           }
          ],
          "table": [
           {
            "cells": {
             "fill": {
              "color": "#506784"
             },
             "line": {
              "color": "rgb(17,17,17)"
             }
            },
            "header": {
             "fill": {
              "color": "#2a3f5f"
             },
             "line": {
              "color": "rgb(17,17,17)"
             }
            },
            "type": "table"
           }
          ]
         },
         "layout": {
          "annotationdefaults": {
           "arrowcolor": "#f2f5fa",
           "arrowhead": 0,
           "arrowwidth": 1
          },
          "autotypenumbers": "strict",
          "coloraxis": {
           "colorbar": {
            "outlinewidth": 0,
            "ticks": ""
           }
          },
          "colorscale": {
           "diverging": [
            [
             0,
             "#8e0152"
            ],
            [
             0.1,
             "#c51b7d"
            ],
            [
             0.2,
             "#de77ae"
            ],
            [
             0.3,
             "#f1b6da"
            ],
            [
             0.4,
             "#fde0ef"
            ],
            [
             0.5,
             "#f7f7f7"
            ],
            [
             0.6,
             "#e6f5d0"
            ],
            [
             0.7,
             "#b8e186"
            ],
            [
             0.8,
             "#7fbc41"
            ],
            [
             0.9,
             "#4d9221"
            ],
            [
             1,
             "#276419"
            ]
           ],
           "sequential": [
            [
             0,
             "#0d0887"
            ],
            [
             0.1111111111111111,
             "#46039f"
            ],
            [
             0.2222222222222222,
             "#7201a8"
            ],
            [
             0.3333333333333333,
             "#9c179e"
            ],
            [
             0.4444444444444444,
             "#bd3786"
            ],
            [
             0.5555555555555556,
             "#d8576b"
            ],
            [
             0.6666666666666666,
             "#ed7953"
            ],
            [
             0.7777777777777778,
             "#fb9f3a"
            ],
            [
             0.8888888888888888,
             "#fdca26"
            ],
            [
             1,
             "#f0f921"
            ]
           ],
           "sequentialminus": [
            [
             0,
             "#0d0887"
            ],
            [
             0.1111111111111111,
             "#46039f"
            ],
            [
             0.2222222222222222,
             "#7201a8"
            ],
            [
             0.3333333333333333,
             "#9c179e"
            ],
            [
             0.4444444444444444,
             "#bd3786"
            ],
            [
             0.5555555555555556,
             "#d8576b"
            ],
            [
             0.6666666666666666,
             "#ed7953"
            ],
            [
             0.7777777777777778,
             "#fb9f3a"
            ],
            [
             0.8888888888888888,
             "#fdca26"
            ],
            [
             1,
             "#f0f921"
            ]
           ]
          },
          "colorway": [
           "#636efa",
           "#EF553B",
           "#00cc96",
           "#ab63fa",
           "#FFA15A",
           "#19d3f3",
           "#FF6692",
           "#B6E880",
           "#FF97FF",
           "#FECB52"
          ],
          "font": {
           "color": "#f2f5fa"
          },
          "geo": {
           "bgcolor": "rgb(17,17,17)",
           "lakecolor": "rgb(17,17,17)",
           "landcolor": "rgb(17,17,17)",
           "showlakes": true,
           "showland": true,
           "subunitcolor": "#506784"
          },
          "hoverlabel": {
           "align": "left"
          },
          "hovermode": "closest",
          "mapbox": {
           "style": "dark"
          },
          "paper_bgcolor": "rgb(17,17,17)",
          "plot_bgcolor": "rgb(17,17,17)",
          "polar": {
           "angularaxis": {
            "gridcolor": "#506784",
            "linecolor": "#506784",
            "ticks": ""
           },
           "bgcolor": "rgb(17,17,17)",
           "radialaxis": {
            "gridcolor": "#506784",
            "linecolor": "#506784",
            "ticks": ""
           }
          },
          "scene": {
           "xaxis": {
            "backgroundcolor": "rgb(17,17,17)",
            "gridcolor": "#506784",
            "gridwidth": 2,
            "linecolor": "#506784",
            "showbackground": true,
            "ticks": "",
            "zerolinecolor": "#C8D4E3"
           },
           "yaxis": {
            "backgroundcolor": "rgb(17,17,17)",
            "gridcolor": "#506784",
            "gridwidth": 2,
            "linecolor": "#506784",
            "showbackground": true,
            "ticks": "",
            "zerolinecolor": "#C8D4E3"
           },
           "zaxis": {
            "backgroundcolor": "rgb(17,17,17)",
            "gridcolor": "#506784",
            "gridwidth": 2,
            "linecolor": "#506784",
            "showbackground": true,
            "ticks": "",
            "zerolinecolor": "#C8D4E3"
           }
          },
          "shapedefaults": {
           "line": {
            "color": "#f2f5fa"
           }
          },
          "sliderdefaults": {
           "bgcolor": "#C8D4E3",
           "bordercolor": "rgb(17,17,17)",
           "borderwidth": 1,
           "tickwidth": 0
          },
          "ternary": {
           "aaxis": {
            "gridcolor": "#506784",
            "linecolor": "#506784",
            "ticks": ""
           },
           "baxis": {
            "gridcolor": "#506784",
            "linecolor": "#506784",
            "ticks": ""
           },
           "bgcolor": "rgb(17,17,17)",
           "caxis": {
            "gridcolor": "#506784",
            "linecolor": "#506784",
            "ticks": ""
           }
          },
          "title": {
           "x": 0.05
          },
          "updatemenudefaults": {
           "bgcolor": "#506784",
           "borderwidth": 0
          },
          "xaxis": {
           "automargin": true,
           "gridcolor": "#283442",
           "linecolor": "#506784",
           "ticks": "",
           "title": {
            "standoff": 15
           },
           "zerolinecolor": "#283442",
           "zerolinewidth": 2
          },
          "yaxis": {
           "automargin": true,
           "gridcolor": "#283442",
           "linecolor": "#506784",
           "ticks": "",
           "title": {
            "standoff": 15
           },
           "zerolinecolor": "#283442",
           "zerolinewidth": 2
          }
         }
        },
        "title": {
         "font": {
          "size": 20
         },
         "text": "<b>Counts of Education</b>",
         "x": 0.5
        },
        "uniformtext": {
         "minsize": 15
        },
        "xaxis": {
         "anchor": "y",
         "domain": [
          0,
          1
         ],
         "title": {
          "text": "EnvironmentSatisfaction"
         }
        },
        "yaxis": {
         "anchor": "x",
         "domain": [
          0,
          1
         ],
         "title": {
          "text": "count"
         }
        }
       }
      },
      "text/html": [
       "<div>                            <div id=\"c3f97f52-61f0-4441-a736-6e9cdf86b2c1\" class=\"plotly-graph-div\" style=\"height:525px; width:100%;\"></div>            <script type=\"text/javascript\">                require([\"plotly\"], function(Plotly) {                    window.PLOTLYENV=window.PLOTLYENV || {};                                    if (document.getElementById(\"c3f97f52-61f0-4441-a736-6e9cdf86b2c1\")) {                    Plotly.newPlot(                        \"c3f97f52-61f0-4441-a736-6e9cdf86b2c1\",                        [{\"alignmentgroup\":\"True\",\"bingroup\":\"x\",\"hovertemplate\":\"Attrition=1<br>EnvironmentSatisfaction=%{x}<br>count=%{y}<extra></extra>\",\"legendgroup\":\"1\",\"marker\":{\"color\":\"#636efa\",\"pattern\":{\"shape\":\"x\"}},\"name\":\"1\",\"offsetgroup\":\"1\",\"orientation\":\"v\",\"showlegend\":true,\"x\":[2,4,3,3,2,2,4,2,1,1,2,1,3,4,3,3,4,3,1,2,2,4,4,2,1,1,3,2,2,2,2,2,4,4,3,3,3,3,1,4,1,3,1,1,4,1,4,3,3,1,4,2,1,4,1,3,3,1,3,3,1,1,4,3,1,2,1,1,2,3,2,2,3,4,1,2,2,3,1,4,1,1,2,1,3,4,2,4,4,3,2,1,4,3,3,3,3,4,2,1,4,3,4,2,2,4,3,4,1,3,1,4,2,3,4,1,3,4,2,1,2,1,3,1,1,4,3,1,2,2,4,1,4,1,1,1,4,1,3,1,3,4,3,3,1,3,3,1,4,1,3,1,1,1,2,4,3,4,2,4,1,3,1,3,4,4,4,1,3,2,1,1,1,1,3,2,1,1,1,1,2,3,1,4,4,2,1,3,3,3,2,4,1,1,4,4,4,4,3,4,3,2,1,3,2,1,1,3,2,3,3,3,4,4,4,4,4,1,3,4,3,2,4,4,1,3,4,1,1,3,1,1,4,1,4,2,4],\"xaxis\":\"x\",\"yaxis\":\"y\",\"type\":\"histogram\"},{\"alignmentgroup\":\"True\",\"bingroup\":\"x\",\"hovertemplate\":\"Attrition=0<br>EnvironmentSatisfaction=%{x}<br>count=%{y}<extra></extra>\",\"legendgroup\":\"0\",\"marker\":{\"color\":\"#EF553B\",\"pattern\":{\"shape\":\"x\"}},\"name\":\"0\",\"offsetgroup\":\"0\",\"orientation\":\"v\",\"showlegend\":true,\"x\":[3,4,1,4,3,4,4,3,1,4,1,2,2,1,4,1,4,1,1,3,3,3,1,2,3,4,4,4,4,2,3,3,4,4,3,2,2,1,4,2,3,3,1,2,3,4,1,1,4,2,1,3,4,2,2,2,1,3,3,2,2,3,3,4,1,2,4,2,1,2,1,4,3,4,3,3,3,3,3,2,1,1,2,4,2,4,1,3,3,1,4,2,1,4,2,3,3,3,2,1,3,1,3,1,3,3,3,2,3,3,3,2,4,1,3,3,4,1,4,4,2,4,3,2,2,3,2,2,2,4,2,2,3,3,3,4,3,3,3,3,1,2,1,3,3,4,3,3,3,3,2,3,3,4,3,4,4,4,3,4,4,3,4,4,1,2,2,3,4,4,3,4,4,3,4,2,4,4,3,4,2,4,4,4,4,3,2,1,3,3,1,2,3,3,3,2,4,4,1,3,3,3,3,1,3,2,3,4,3,1,3,3,4,4,1,4,1,3,2,4,4,3,1,2,2,3,4,4,4,3,4,1,2,1,3,1,3,2,2,2,1,4,4,4,3,3,4,2,3,3,3,4,4,4,2,2,3,2,4,1,4,3,1,1,3,4,3,3,3,3,3,4,4,1,4,3,3,2,4,3,3,4,3,4,2,2,4,2,4,3,3,4,3,3,4,2,1,4,3,3,1,3,4,3,1,4,1,4,4,1,3,3,4,3,4,3,4,2,2,3,4,3,4,3,1,2,4,4,2,3,1,2,1,3,2,4,3,2,2,4,2,3,2,2,3,4,1,4,1,3,1,3,4,4,3,1,3,2,3,1,2,3,3,1,1,4,3,4,3,3,4,4,2,2,2,1,4,2,2,3,2,4,4,4,1,3,3,1,1,1,4,2,1,2,1,4,4,3,2,4,2,1,4,1,2,2,1,1,1,4,4,3,2,3,4,4,1,3,3,4,1,3,1,3,4,2,3,3,2,2,3,3,2,1,3,1,4,4,2,2,4,4,4,4,4,4,2,3,3,4,4,3,2,1,4,4,4,1,3,1,4,3,3,4,2,2,3,3,4,4,4,4,4,1,4,2,3,3,2,1,4,1,4,1,2,2,4,3,4,1,3,1,4,3,3,2,3,4,3,3,3,3,3,4,4,3,3,1,3,2,2,1,3,2,3,3,2,3,4,1,4,1,1,3,2,2,2,1,4,3,3,4,2,4,1,2,1,3,4,4,3,3,1,2,2,3,4,1,4,3,4,4,3,1,1,4,4,1,2,1,1,3,4,3,2,2,3,3,3,2,4,1,4,4,2,4,3,1,3,4,3,4,4,3,2,3,3,3,4,3,3,3,4,1,3,1,4,2,4,4,3,1,3,4,4,4,3,4,4,3,2,3,3,2,4,2,1,3,4,4,1,2,4,1,3,3,2,2,4,4,4,2,4,4,2,2,2,3,3,4,3,2,4,3,1,4,3,1,4,3,3,4,1,3,2,3,1,1,4,3,4,1,1,4,4,4,3,1,2,2,3,3,4,1,4,3,3,4,3,1,3,1,4,4,4,4,2,2,3,3,2,3,4,2,3,2,2,4,4,1,3,3,3,4,4,3,4,2,3,1,4,1,4,2,3,4,2,3,2,4,4,4,3,2,3,3,4,3,4,4,2,3,4,3,1,2,3,4,1,3,1,4,1,1,4,3,3,3,3,1,3,4,1,3,4,4,3,2,4,2,4,3,4,4,3,4,4,3,4,3,3,3,2,4,3,4,2,3,4,4,3,2,3,1,1,4,4,3,4,2,1,4,3,3,4,4,3,4,3,3,3,3,2,3,4,2,1,4,3,4,4,4,4,4,1,2,2,4,3,3,1,2,4,3,2,3,3,1,4,1,4,1,3,3,1,3,1,3,2,4,4,2,1,4,1,4,2,1,3,1,3,1,1,4,4,4,2,3,1,2,4,2,3,4,4,3,4,1,3,4,4,4,4,1,1,3,2,3,2,4,4,2,3,3,4,1,3,1,3,3,4,3,4,3,2,4,2,3,4,1,4,3,2,3,1,3,4,4,4,1,2,3,3,4,1,2,4,3,3,3,1,3,4,3,4,3,1,3,2,1,3,2,2,2,1,4,1,3,4,1,4,2,4,4,4,3,4,2,2,2,2,2,3,1,4,3,3,3,2,4,2,2,3,4,3,1,3,3,1,4,4,2,3,1,3,1,2,4,3,2,4,4,1,4,3,4,1,3,4,4,2,3,4,1,4,4,1,4,4,2,3,4,4,3,1,3,4,2,4,1,2,3,2,3,2,3,1,4,3,4,4,3,3,4,4,1,2,3,2,2,3,4,2,3,3,3,4,4,4,2,3,4,1,1,3,4,3,4,4,4,3,4,3,2,2,2,3,4,3,4,1,2,4,4,1,1,2,3,4,3,4,3,3,2,3,2,2,1,3,1,2,3,1,3,2,2,2,3,2,4,1,3,2,3,1,2,3,4,1,4,4,4,3,2,4,3,4,4,1,2,4,1,4,4,4,2,2,2,2,3,4,4,4,2,2,1,2,1,4,2,3,3,3,3,4,1,3,2,2,3,1,2,3,3,4,1,4,4,2,2,2,2,3,3,1,1,4,3,1,3,4,1,3,4,4,1,4,1,4,3,4,2,4,3,3,2,4,4,2,3,4,4,1,2,4,1,1,4,4,3,4,4,2,2,3,1,2,1,2,3,3,1,1,2,3,4,1,4,3,1,1,4,4,3,4,3,1,2,4,3,3,3,3,4,4,2,2,4,3,4,2,4,2],\"xaxis\":\"x\",\"yaxis\":\"y\",\"type\":\"histogram\"}],                        {\"template\":{\"data\":{\"barpolar\":[{\"marker\":{\"line\":{\"color\":\"rgb(17,17,17)\",\"width\":0.5},\"pattern\":{\"fillmode\":\"overlay\",\"size\":10,\"solidity\":0.2}},\"type\":\"barpolar\"}],\"bar\":[{\"error_x\":{\"color\":\"#f2f5fa\"},\"error_y\":{\"color\":\"#f2f5fa\"},\"marker\":{\"line\":{\"color\":\"rgb(17,17,17)\",\"width\":0.5},\"pattern\":{\"fillmode\":\"overlay\",\"size\":10,\"solidity\":0.2}},\"type\":\"bar\"}],\"carpet\":[{\"aaxis\":{\"endlinecolor\":\"#A2B1C6\",\"gridcolor\":\"#506784\",\"linecolor\":\"#506784\",\"minorgridcolor\":\"#506784\",\"startlinecolor\":\"#A2B1C6\"},\"baxis\":{\"endlinecolor\":\"#A2B1C6\",\"gridcolor\":\"#506784\",\"linecolor\":\"#506784\",\"minorgridcolor\":\"#506784\",\"startlinecolor\":\"#A2B1C6\"},\"type\":\"carpet\"}],\"choropleth\":[{\"colorbar\":{\"outlinewidth\":0,\"ticks\":\"\"},\"type\":\"choropleth\"}],\"contourcarpet\":[{\"colorbar\":{\"outlinewidth\":0,\"ticks\":\"\"},\"type\":\"contourcarpet\"}],\"contour\":[{\"colorbar\":{\"outlinewidth\":0,\"ticks\":\"\"},\"colorscale\":[[0.0,\"#0d0887\"],[0.1111111111111111,\"#46039f\"],[0.2222222222222222,\"#7201a8\"],[0.3333333333333333,\"#9c179e\"],[0.4444444444444444,\"#bd3786\"],[0.5555555555555556,\"#d8576b\"],[0.6666666666666666,\"#ed7953\"],[0.7777777777777778,\"#fb9f3a\"],[0.8888888888888888,\"#fdca26\"],[1.0,\"#f0f921\"]],\"type\":\"contour\"}],\"heatmapgl\":[{\"colorbar\":{\"outlinewidth\":0,\"ticks\":\"\"},\"colorscale\":[[0.0,\"#0d0887\"],[0.1111111111111111,\"#46039f\"],[0.2222222222222222,\"#7201a8\"],[0.3333333333333333,\"#9c179e\"],[0.4444444444444444,\"#bd3786\"],[0.5555555555555556,\"#d8576b\"],[0.6666666666666666,\"#ed7953\"],[0.7777777777777778,\"#fb9f3a\"],[0.8888888888888888,\"#fdca26\"],[1.0,\"#f0f921\"]],\"type\":\"heatmapgl\"}],\"heatmap\":[{\"colorbar\":{\"outlinewidth\":0,\"ticks\":\"\"},\"colorscale\":[[0.0,\"#0d0887\"],[0.1111111111111111,\"#46039f\"],[0.2222222222222222,\"#7201a8\"],[0.3333333333333333,\"#9c179e\"],[0.4444444444444444,\"#bd3786\"],[0.5555555555555556,\"#d8576b\"],[0.6666666666666666,\"#ed7953\"],[0.7777777777777778,\"#fb9f3a\"],[0.8888888888888888,\"#fdca26\"],[1.0,\"#f0f921\"]],\"type\":\"heatmap\"}],\"histogram2dcontour\":[{\"colorbar\":{\"outlinewidth\":0,\"ticks\":\"\"},\"colorscale\":[[0.0,\"#0d0887\"],[0.1111111111111111,\"#46039f\"],[0.2222222222222222,\"#7201a8\"],[0.3333333333333333,\"#9c179e\"],[0.4444444444444444,\"#bd3786\"],[0.5555555555555556,\"#d8576b\"],[0.6666666666666666,\"#ed7953\"],[0.7777777777777778,\"#fb9f3a\"],[0.8888888888888888,\"#fdca26\"],[1.0,\"#f0f921\"]],\"type\":\"histogram2dcontour\"}],\"histogram2d\":[{\"colorbar\":{\"outlinewidth\":0,\"ticks\":\"\"},\"colorscale\":[[0.0,\"#0d0887\"],[0.1111111111111111,\"#46039f\"],[0.2222222222222222,\"#7201a8\"],[0.3333333333333333,\"#9c179e\"],[0.4444444444444444,\"#bd3786\"],[0.5555555555555556,\"#d8576b\"],[0.6666666666666666,\"#ed7953\"],[0.7777777777777778,\"#fb9f3a\"],[0.8888888888888888,\"#fdca26\"],[1.0,\"#f0f921\"]],\"type\":\"histogram2d\"}],\"histogram\":[{\"marker\":{\"pattern\":{\"fillmode\":\"overlay\",\"size\":10,\"solidity\":0.2}},\"type\":\"histogram\"}],\"mesh3d\":[{\"colorbar\":{\"outlinewidth\":0,\"ticks\":\"\"},\"type\":\"mesh3d\"}],\"parcoords\":[{\"line\":{\"colorbar\":{\"outlinewidth\":0,\"ticks\":\"\"}},\"type\":\"parcoords\"}],\"pie\":[{\"automargin\":true,\"type\":\"pie\"}],\"scatter3d\":[{\"line\":{\"colorbar\":{\"outlinewidth\":0,\"ticks\":\"\"}},\"marker\":{\"colorbar\":{\"outlinewidth\":0,\"ticks\":\"\"}},\"type\":\"scatter3d\"}],\"scattercarpet\":[{\"marker\":{\"colorbar\":{\"outlinewidth\":0,\"ticks\":\"\"}},\"type\":\"scattercarpet\"}],\"scattergeo\":[{\"marker\":{\"colorbar\":{\"outlinewidth\":0,\"ticks\":\"\"}},\"type\":\"scattergeo\"}],\"scattergl\":[{\"marker\":{\"line\":{\"color\":\"#283442\"}},\"type\":\"scattergl\"}],\"scattermapbox\":[{\"marker\":{\"colorbar\":{\"outlinewidth\":0,\"ticks\":\"\"}},\"type\":\"scattermapbox\"}],\"scatterpolargl\":[{\"marker\":{\"colorbar\":{\"outlinewidth\":0,\"ticks\":\"\"}},\"type\":\"scatterpolargl\"}],\"scatterpolar\":[{\"marker\":{\"colorbar\":{\"outlinewidth\":0,\"ticks\":\"\"}},\"type\":\"scatterpolar\"}],\"scatter\":[{\"marker\":{\"line\":{\"color\":\"#283442\"}},\"type\":\"scatter\"}],\"scatterternary\":[{\"marker\":{\"colorbar\":{\"outlinewidth\":0,\"ticks\":\"\"}},\"type\":\"scatterternary\"}],\"surface\":[{\"colorbar\":{\"outlinewidth\":0,\"ticks\":\"\"},\"colorscale\":[[0.0,\"#0d0887\"],[0.1111111111111111,\"#46039f\"],[0.2222222222222222,\"#7201a8\"],[0.3333333333333333,\"#9c179e\"],[0.4444444444444444,\"#bd3786\"],[0.5555555555555556,\"#d8576b\"],[0.6666666666666666,\"#ed7953\"],[0.7777777777777778,\"#fb9f3a\"],[0.8888888888888888,\"#fdca26\"],[1.0,\"#f0f921\"]],\"type\":\"surface\"}],\"table\":[{\"cells\":{\"fill\":{\"color\":\"#506784\"},\"line\":{\"color\":\"rgb(17,17,17)\"}},\"header\":{\"fill\":{\"color\":\"#2a3f5f\"},\"line\":{\"color\":\"rgb(17,17,17)\"}},\"type\":\"table\"}]},\"layout\":{\"annotationdefaults\":{\"arrowcolor\":\"#f2f5fa\",\"arrowhead\":0,\"arrowwidth\":1},\"autotypenumbers\":\"strict\",\"coloraxis\":{\"colorbar\":{\"outlinewidth\":0,\"ticks\":\"\"}},\"colorscale\":{\"diverging\":[[0,\"#8e0152\"],[0.1,\"#c51b7d\"],[0.2,\"#de77ae\"],[0.3,\"#f1b6da\"],[0.4,\"#fde0ef\"],[0.5,\"#f7f7f7\"],[0.6,\"#e6f5d0\"],[0.7,\"#b8e186\"],[0.8,\"#7fbc41\"],[0.9,\"#4d9221\"],[1,\"#276419\"]],\"sequential\":[[0.0,\"#0d0887\"],[0.1111111111111111,\"#46039f\"],[0.2222222222222222,\"#7201a8\"],[0.3333333333333333,\"#9c179e\"],[0.4444444444444444,\"#bd3786\"],[0.5555555555555556,\"#d8576b\"],[0.6666666666666666,\"#ed7953\"],[0.7777777777777778,\"#fb9f3a\"],[0.8888888888888888,\"#fdca26\"],[1.0,\"#f0f921\"]],\"sequentialminus\":[[0.0,\"#0d0887\"],[0.1111111111111111,\"#46039f\"],[0.2222222222222222,\"#7201a8\"],[0.3333333333333333,\"#9c179e\"],[0.4444444444444444,\"#bd3786\"],[0.5555555555555556,\"#d8576b\"],[0.6666666666666666,\"#ed7953\"],[0.7777777777777778,\"#fb9f3a\"],[0.8888888888888888,\"#fdca26\"],[1.0,\"#f0f921\"]]},\"colorway\":[\"#636efa\",\"#EF553B\",\"#00cc96\",\"#ab63fa\",\"#FFA15A\",\"#19d3f3\",\"#FF6692\",\"#B6E880\",\"#FF97FF\",\"#FECB52\"],\"font\":{\"color\":\"#f2f5fa\"},\"geo\":{\"bgcolor\":\"rgb(17,17,17)\",\"lakecolor\":\"rgb(17,17,17)\",\"landcolor\":\"rgb(17,17,17)\",\"showlakes\":true,\"showland\":true,\"subunitcolor\":\"#506784\"},\"hoverlabel\":{\"align\":\"left\"},\"hovermode\":\"closest\",\"mapbox\":{\"style\":\"dark\"},\"paper_bgcolor\":\"rgb(17,17,17)\",\"plot_bgcolor\":\"rgb(17,17,17)\",\"polar\":{\"angularaxis\":{\"gridcolor\":\"#506784\",\"linecolor\":\"#506784\",\"ticks\":\"\"},\"bgcolor\":\"rgb(17,17,17)\",\"radialaxis\":{\"gridcolor\":\"#506784\",\"linecolor\":\"#506784\",\"ticks\":\"\"}},\"scene\":{\"xaxis\":{\"backgroundcolor\":\"rgb(17,17,17)\",\"gridcolor\":\"#506784\",\"gridwidth\":2,\"linecolor\":\"#506784\",\"showbackground\":true,\"ticks\":\"\",\"zerolinecolor\":\"#C8D4E3\"},\"yaxis\":{\"backgroundcolor\":\"rgb(17,17,17)\",\"gridcolor\":\"#506784\",\"gridwidth\":2,\"linecolor\":\"#506784\",\"showbackground\":true,\"ticks\":\"\",\"zerolinecolor\":\"#C8D4E3\"},\"zaxis\":{\"backgroundcolor\":\"rgb(17,17,17)\",\"gridcolor\":\"#506784\",\"gridwidth\":2,\"linecolor\":\"#506784\",\"showbackground\":true,\"ticks\":\"\",\"zerolinecolor\":\"#C8D4E3\"}},\"shapedefaults\":{\"line\":{\"color\":\"#f2f5fa\"}},\"sliderdefaults\":{\"bgcolor\":\"#C8D4E3\",\"bordercolor\":\"rgb(17,17,17)\",\"borderwidth\":1,\"tickwidth\":0},\"ternary\":{\"aaxis\":{\"gridcolor\":\"#506784\",\"linecolor\":\"#506784\",\"ticks\":\"\"},\"baxis\":{\"gridcolor\":\"#506784\",\"linecolor\":\"#506784\",\"ticks\":\"\"},\"bgcolor\":\"rgb(17,17,17)\",\"caxis\":{\"gridcolor\":\"#506784\",\"linecolor\":\"#506784\",\"ticks\":\"\"}},\"title\":{\"x\":0.05},\"updatemenudefaults\":{\"bgcolor\":\"#506784\",\"borderwidth\":0},\"xaxis\":{\"automargin\":true,\"gridcolor\":\"#283442\",\"linecolor\":\"#506784\",\"ticks\":\"\",\"title\":{\"standoff\":15},\"zerolinecolor\":\"#283442\",\"zerolinewidth\":2},\"yaxis\":{\"automargin\":true,\"gridcolor\":\"#283442\",\"linecolor\":\"#506784\",\"ticks\":\"\",\"title\":{\"standoff\":15},\"zerolinecolor\":\"#283442\",\"zerolinewidth\":2}}},\"xaxis\":{\"anchor\":\"y\",\"domain\":[0.0,1.0],\"title\":{\"text\":\"EnvironmentSatisfaction\"}},\"yaxis\":{\"anchor\":\"x\",\"domain\":[0.0,1.0],\"title\":{\"text\":\"count\"}},\"legend\":{\"title\":{\"text\":\"Attrition\"},\"tracegroupgap\":0},\"title\":{\"text\":\"<b>Counts of Education</b>\",\"font\":{\"size\":20},\"x\":0.5},\"barmode\":\"relative\",\"uniformtext\":{\"minsize\":15}},                        {\"responsive\": true}                    ).then(function(){\n",
       "                            \n",
       "var gd = document.getElementById('c3f97f52-61f0-4441-a736-6e9cdf86b2c1');\n",
       "var x = new MutationObserver(function (mutations, observer) {{\n",
       "        var display = window.getComputedStyle(gd).display;\n",
       "        if (!display || display === 'none') {{\n",
       "            console.log([gd, 'removed!']);\n",
       "            Plotly.purge(gd);\n",
       "            observer.disconnect();\n",
       "        }}\n",
       "}});\n",
       "\n",
       "// Listen for the removal of the full notebook cells\n",
       "var notebookContainer = gd.closest('#notebook-container');\n",
       "if (notebookContainer) {{\n",
       "    x.observe(notebookContainer, {childList: true});\n",
       "}}\n",
       "\n",
       "// Listen for the clearing of the current output cell\n",
       "var outputEl = gd.closest('.output');\n",
       "if (outputEl) {{\n",
       "    x.observe(outputEl, {childList: true});\n",
       "}}\n",
       "\n",
       "                        })                };                });            </script>        </div>"
      ]
     },
     "metadata": {},
     "output_type": "display_data"
    }
   ],
   "source": [
    "fig = px.histogram(data_frame = data,\n",
    "             x = \"EnvironmentSatisfaction\",\n",
    "             color=\"Attrition\", title=\"<b>Counts of Education</b>\",\n",
    "             pattern_shape_sequence=['x'],\n",
    "             template='plotly_dark')\n",
    "\n",
    "fig.update_layout(title_x = 0.5,\n",
    "                  title_font = dict(size = 20),\n",
    "                  uniformtext_minsize = 15)\n",
    "\n",
    "\n",
    "fig.show()"
   ]
  },
  {
   "cell_type": "markdown",
   "metadata": {},
   "source": [
    "## Converting the categorical data into integer "
   ]
  },
  {
   "cell_type": "code",
   "execution_count": 17,
   "metadata": {},
   "outputs": [],
   "source": [
    "from sklearn.preprocessing import LabelEncoder\n",
    "le = LabelEncoder()\n",
    "\n",
    "for i in data.columns:\n",
    "    if data[i].dtype == 'object':\n",
    "        data[i] = le.fit_transform(data[i])"
   ]
  },
  {
   "cell_type": "code",
   "execution_count": 18,
   "metadata": {},
   "outputs": [],
   "source": [
    "data=data[['Age', 'BusinessTravel', 'DailyRate', 'Department',\n",
    "       'DistanceFromHome', 'Education', 'EducationField',\n",
    "       'EnvironmentSatisfaction', 'Gender', 'HourlyRate', 'JobInvolvement',\n",
    "       'JobLevel', 'JobRole', 'JobSatisfaction', 'MaritalStatus',\n",
    "       'MonthlyIncome', 'MonthlyRate', 'NumCompaniesWorked', 'Over18',\n",
    "       'OverTime', 'PercentSalaryHike', 'PerformanceRating',\n",
    "       'RelationshipSatisfaction', 'StockOptionLevel', 'TotalWorkingYears',\n",
    "       'TrainingTimesLastYear', 'WorkLifeBalance', 'YearsAtCompany',\n",
    "       'YearsInCurrentRole', 'YearsSinceLastPromotion',\n",
    "       'YearsWithCurrManager', 'Attrition']]"
   ]
  },
  {
   "cell_type": "markdown",
   "metadata": {},
   "source": [
    "## Model  building"
   ]
  },
  {
   "cell_type": "code",
   "execution_count": 19,
   "metadata": {},
   "outputs": [],
   "source": [
    "X=data.values[:,0:-1]\n",
    "Y=data.values[:,-1]"
   ]
  },
  {
   "cell_type": "code",
   "execution_count": 20,
   "metadata": {},
   "outputs": [
    {
     "data": {
      "text/plain": [
       "(1470, 31)"
      ]
     },
     "execution_count": 20,
     "metadata": {},
     "output_type": "execute_result"
    }
   ],
   "source": [
    "X.shape"
   ]
  },
  {
   "cell_type": "code",
   "execution_count": 21,
   "metadata": {},
   "outputs": [
    {
     "data": {
      "text/plain": [
       "(1470,)"
      ]
     },
     "execution_count": 21,
     "metadata": {},
     "output_type": "execute_result"
    }
   ],
   "source": [
    "Y.shape"
   ]
  },
  {
   "cell_type": "code",
   "execution_count": 22,
   "metadata": {},
   "outputs": [],
   "source": [
    "from sklearn.model_selection import train_test_split\n",
    "\n",
    "#Split the data into test and train\n",
    "X_train, X_test, Y_train, Y_test = train_test_split(X, Y, test_size=0.3,\n",
    "                                                    random_state=10)"
   ]
  },
  {
   "cell_type": "code",
   "execution_count": 23,
   "metadata": {},
   "outputs": [
    {
     "name": "stdout",
     "output_type": "stream",
     "text": [
      "(1029, 31)\n",
      "(1029,)\n",
      "(441, 31)\n",
      "(441,)\n"
     ]
    }
   ],
   "source": [
    "print(X_train.shape)\n",
    "print(Y_train.shape)\n",
    "print(X_test.shape)\n",
    "print(Y_test.shape)"
   ]
  },
  {
   "cell_type": "code",
   "execution_count": 24,
   "metadata": {},
   "outputs": [],
   "source": [
    "from sklearn.tree import DecisionTreeClassifier\n",
    "model_DecisionTree=DecisionTreeClassifier(criterion='gini',random_state=10)\n",
    "\n",
    "model_DecisionTree.fit(X_train,Y_train)\n",
    "Y_pred=model_DecisionTree.predict(X_test)\n"
   ]
  },
  {
   "cell_type": "code",
   "execution_count": 25,
   "metadata": {},
   "outputs": [
    {
     "name": "stdout",
     "output_type": "stream",
     "text": [
      "[[298  59]\n",
      " [ 47  37]]\n",
      "Classification report: \n",
      "              precision    recall  f1-score   support\n",
      "\n",
      "         0.0       0.86      0.83      0.85       357\n",
      "         1.0       0.39      0.44      0.41        84\n",
      "\n",
      "    accuracy                           0.76       441\n",
      "   macro avg       0.62      0.64      0.63       441\n",
      "weighted avg       0.77      0.76      0.77       441\n",
      "\n",
      "Accuracy of the model:  0.7596371882086168\n"
     ]
    }
   ],
   "source": [
    "from sklearn.metrics import confusion_matrix, accuracy_score, classification_report\n",
    "\n",
    "cfm=confusion_matrix(Y_test,Y_pred)\n",
    "print(cfm)\n",
    "\n",
    "print(\"Classification report: \")\n",
    "\n",
    "print(classification_report(Y_test, Y_pred))\n",
    "\n",
    "acc=accuracy_score(Y_test, Y_pred)\n",
    "print(\"Accuracy of the model: \",acc)"
   ]
  },
  {
   "cell_type": "code",
   "execution_count": 26,
   "metadata": {},
   "outputs": [],
   "source": [
    "from sklearn.tree import DecisionTreeClassifier\n",
    "from sklearn.svm import SVC\n",
    "from sklearn.ensemble import RandomForestClassifier\n",
    "from sklearn.neighbors import KNeighborsClassifier\n",
    "from sklearn.linear_model import LogisticRegression\n",
    "\n",
    "# first, initialize the classificators\n",
    "tree= DecisionTreeClassifier(random_state=10) # using the random state for reproducibility\n",
    "random=RandomForestClassifier(random_state=10)\n",
    "knn= KNeighborsClassifier(n_neighbors=5,metric='euclidean')\n",
    "svm= SVC(kernel=\"rbf\", gamma=0.1, C=1,random_state=10)\n",
    "logreg=LogisticRegression(multi_class=\"multinomial\",random_state=10)"
   ]
  },
  {
   "cell_type": "code",
   "execution_count": 27,
   "metadata": {},
   "outputs": [],
   "source": [
    "models= [tree, knn, svm, logreg,random]"
   ]
  },
  {
   "cell_type": "code",
   "execution_count": 28,
   "metadata": {},
   "outputs": [
    {
     "name": "stdout",
     "output_type": "stream",
     "text": [
      "[[298  59]\n",
      " [ 47  37]]\n",
      "The accuracy of the  DecisionTreeClassifier  model is  75.96371882086169\n",
      "Classification report:\n",
      "               precision    recall  f1-score   support\n",
      "\n",
      "         0.0       0.86      0.83      0.85       357\n",
      "         1.0       0.39      0.44      0.41        84\n",
      "\n",
      "    accuracy                           0.76       441\n",
      "   macro avg       0.62      0.64      0.63       441\n",
      "weighted avg       0.77      0.76      0.77       441\n",
      "\n",
      "\n",
      "\n",
      "[[348   9]\n",
      " [ 78   6]]\n",
      "The accuracy of the  KNeighborsClassifier  model is  80.27210884353741\n",
      "Classification report:\n",
      "               precision    recall  f1-score   support\n",
      "\n",
      "         0.0       0.82      0.97      0.89       357\n",
      "         1.0       0.40      0.07      0.12        84\n",
      "\n",
      "    accuracy                           0.80       441\n",
      "   macro avg       0.61      0.52      0.51       441\n",
      "weighted avg       0.74      0.80      0.74       441\n",
      "\n",
      "\n",
      "\n"
     ]
    },
    {
     "name": "stderr",
     "output_type": "stream",
     "text": [
      "C:\\Users\\Lenovo\\anaconda3\\lib\\site-packages\\sklearn\\metrics\\_classification.py:1272: UndefinedMetricWarning: Precision and F-score are ill-defined and being set to 0.0 in labels with no predicted samples. Use `zero_division` parameter to control this behavior.\n",
      "  _warn_prf(average, modifier, msg_start, len(result))\n"
     ]
    },
    {
     "name": "stdout",
     "output_type": "stream",
     "text": [
      "[[357   0]\n",
      " [ 84   0]]\n",
      "The accuracy of the  SVC  model is  80.95238095238095\n",
      "Classification report:\n",
      "               precision    recall  f1-score   support\n",
      "\n",
      "         0.0       0.81      1.00      0.89       357\n",
      "         1.0       0.00      0.00      0.00        84\n",
      "\n",
      "    accuracy                           0.81       441\n",
      "   macro avg       0.40      0.50      0.45       441\n",
      "weighted avg       0.66      0.81      0.72       441\n",
      "\n",
      "\n",
      "\n"
     ]
    },
    {
     "name": "stderr",
     "output_type": "stream",
     "text": [
      "C:\\Users\\Lenovo\\anaconda3\\lib\\site-packages\\sklearn\\linear_model\\_logistic.py:940: ConvergenceWarning: lbfgs failed to converge (status=1):\n",
      "STOP: TOTAL NO. of ITERATIONS REACHED LIMIT.\n",
      "\n",
      "Increase the number of iterations (max_iter) or scale the data as shown in:\n",
      "    https://scikit-learn.org/stable/modules/preprocessing.html\n",
      "Please also refer to the documentation for alternative solver options:\n",
      "    https://scikit-learn.org/stable/modules/linear_model.html#logistic-regression\n",
      "  extra_warning_msg=_LOGISTIC_SOLVER_CONVERGENCE_MSG)\n",
      "C:\\Users\\Lenovo\\anaconda3\\lib\\site-packages\\sklearn\\metrics\\_classification.py:1272: UndefinedMetricWarning: Precision and F-score are ill-defined and being set to 0.0 in labels with no predicted samples. Use `zero_division` parameter to control this behavior.\n",
      "  _warn_prf(average, modifier, msg_start, len(result))\n"
     ]
    },
    {
     "name": "stdout",
     "output_type": "stream",
     "text": [
      "[[357   0]\n",
      " [ 84   0]]\n",
      "The accuracy of the  LogisticRegression  model is  80.95238095238095\n",
      "Classification report:\n",
      "               precision    recall  f1-score   support\n",
      "\n",
      "         0.0       0.81      1.00      0.89       357\n",
      "         1.0       0.00      0.00      0.00        84\n",
      "\n",
      "    accuracy                           0.81       441\n",
      "   macro avg       0.40      0.50      0.45       441\n",
      "weighted avg       0.66      0.81      0.72       441\n",
      "\n",
      "\n",
      "\n",
      "[[353   4]\n",
      " [ 74  10]]\n",
      "The accuracy of the  RandomForestClassifier  model is  82.31292517006803\n",
      "Classification report:\n",
      "               precision    recall  f1-score   support\n",
      "\n",
      "         0.0       0.83      0.99      0.90       357\n",
      "         1.0       0.71      0.12      0.20        84\n",
      "\n",
      "    accuracy                           0.82       441\n",
      "   macro avg       0.77      0.55      0.55       441\n",
      "weighted avg       0.81      0.82      0.77       441\n",
      "\n",
      "\n",
      "\n"
     ]
    }
   ],
   "source": [
    "from sklearn.metrics import confusion_matrix, accuracy_score,classification_report\n",
    "\n",
    "for model in models:\n",
    "    model.fit(X_train, Y_train) # fit the model\n",
    "    Y_pred= model.predict(X_test) # then predict on the test set\n",
    "    accuracy= accuracy_score(Y_test, Y_pred) \n",
    "    clf_report= classification_report(Y_test, Y_pred) \n",
    "    print(confusion_matrix(Y_test,Y_pred))\n",
    "    print(\"The accuracy of the \",type(model).__name__, \" model is \", accuracy*100 )\n",
    "    print(\"Classification report:\\n\", clf_report)\n",
    "    print(\"\\n\")"
   ]
  },
  {
   "cell_type": "code",
   "execution_count": 29,
   "metadata": {},
   "outputs": [],
   "source": [
    "from sklearn.ensemble import RandomForestClassifier\n",
    "random=RandomForestClassifier(max_features='auto', n_estimators=100)"
   ]
  },
  {
   "cell_type": "code",
   "execution_count": 30,
   "metadata": {},
   "outputs": [
    {
     "name": "stdout",
     "output_type": "stream",
     "text": [
      "[[353   4]\n",
      " [ 74  10]]\n",
      "0.8231292517006803\n",
      "              precision    recall  f1-score   support\n",
      "\n",
      "         0.0       0.83      0.99      0.90       357\n",
      "         1.0       0.71      0.12      0.20        84\n",
      "\n",
      "    accuracy                           0.82       441\n",
      "   macro avg       0.77      0.55      0.55       441\n",
      "weighted avg       0.81      0.82      0.77       441\n",
      "\n"
     ]
    }
   ],
   "source": [
    "from sklearn.metrics import confusion_matrix, accuracy_score, classification_report\n",
    "\n",
    "print(confusion_matrix(Y_test,Y_pred))\n",
    "print(accuracy_score(Y_test, Y_pred))\n",
    "print(classification_report(Y_test, Y_pred))"
   ]
  },
  {
   "cell_type": "code",
   "execution_count": 31,
   "metadata": {},
   "outputs": [
    {
     "name": "stdout",
     "output_type": "stream",
     "text": [
      "Accuracy Score:  0.8299319727891157\n"
     ]
    }
   ],
   "source": [
    "rf = RandomForestClassifier(max_features='auto', n_estimators=100)\n",
    "\n",
    "rf.fit(X_train, Y_train)\n",
    "\n",
    "Y_pred = rf.predict(X_test)\n",
    "\n",
    "print('Accuracy Score: ', accuracy_score(Y_test, Y_pred))"
   ]
  },
  {
   "cell_type": "code",
   "execution_count": 39,
   "metadata": {},
   "outputs": [
    {
     "ename": "AttributeError",
     "evalue": "'numpy.ndarray' object has no attribute 'columns'",
     "output_type": "error",
     "traceback": [
      "\u001b[1;31m---------------------------------------------------------------------------\u001b[0m",
      "\u001b[1;31mAttributeError\u001b[0m                            Traceback (most recent call last)",
      "\u001b[1;32m<ipython-input-39-492ec1eef1a6>\u001b[0m in \u001b[0;36m<module>\u001b[1;34m\u001b[0m\n\u001b[1;32m----> 1\u001b[1;33m \u001b[0mfeature_importance\u001b[0m \u001b[1;33m=\u001b[0m \u001b[0mpd\u001b[0m\u001b[1;33m.\u001b[0m\u001b[0mDataFrame\u001b[0m\u001b[1;33m(\u001b[0m\u001b[1;33m{\u001b[0m\u001b[1;34m'Feature'\u001b[0m\u001b[1;33m:\u001b[0m \u001b[0mX\u001b[0m\u001b[1;33m.\u001b[0m\u001b[0mcolumns\u001b[0m\u001b[1;33m,\u001b[0m \u001b[1;34m'Importance'\u001b[0m\u001b[1;33m:\u001b[0m \u001b[0mmodel\u001b[0m\u001b[1;33m.\u001b[0m\u001b[0mfeature_importances_\u001b[0m\u001b[1;33m}\u001b[0m\u001b[1;33m)\u001b[0m\u001b[1;33m\u001b[0m\u001b[1;33m\u001b[0m\u001b[0m\n\u001b[0m\u001b[0;32m      2\u001b[0m \u001b[0mfeature_importance\u001b[0m\u001b[1;33m.\u001b[0m\u001b[0msort_values\u001b[0m\u001b[1;33m(\u001b[0m\u001b[0mby\u001b[0m\u001b[1;33m=\u001b[0m\u001b[1;34m'Importance'\u001b[0m\u001b[1;33m,\u001b[0m \u001b[0mascending\u001b[0m\u001b[1;33m=\u001b[0m\u001b[1;32mFalse\u001b[0m\u001b[1;33m,\u001b[0m \u001b[0minplace\u001b[0m\u001b[1;33m=\u001b[0m\u001b[1;32mTrue\u001b[0m\u001b[1;33m)\u001b[0m\u001b[1;33m\u001b[0m\u001b[1;33m\u001b[0m\u001b[0m\n\u001b[0;32m      3\u001b[0m \u001b[0mfeature_importance\u001b[0m\u001b[1;33m.\u001b[0m\u001b[0mreset_index\u001b[0m\u001b[1;33m(\u001b[0m\u001b[0mdrop\u001b[0m\u001b[1;33m=\u001b[0m\u001b[1;32mTrue\u001b[0m\u001b[1;33m,\u001b[0m \u001b[0minplace\u001b[0m\u001b[1;33m=\u001b[0m\u001b[1;32mTrue\u001b[0m\u001b[1;33m)\u001b[0m\u001b[1;33m\u001b[0m\u001b[1;33m\u001b[0m\u001b[0m\n\u001b[0;32m      4\u001b[0m \u001b[0mfeature_importance\u001b[0m\u001b[1;33m\u001b[0m\u001b[1;33m\u001b[0m\u001b[0m\n\u001b[0;32m      5\u001b[0m \u001b[1;33m\u001b[0m\u001b[0m\n",
      "\u001b[1;31mAttributeError\u001b[0m: 'numpy.ndarray' object has no attribute 'columns'"
     ]
    }
   ],
   "source": [
    "feature_importance = pd.DataFrame({'Feature': X.columns, 'Importance': model.feature_importances_})\n",
    "feature_importance.sort_values(by='Importance', ascending=False, inplace=True)\n",
    "feature_importance.reset_index(drop=True, inplace=True)\n",
    "feature_importance\n",
    "\n",
    "plt.figure(figsize=(10, 5))\n",
    "plt.bar(feature_importance['Feature'], feature_importance['Importance'])\n",
    "plt.title('Feature Importance')\n",
    "plt.xlabel('Feature')\n",
    "plt.ylabel('Importance')\n",
    "plt.xticks(rotation=90)\n",
    "plt.show()"
   ]
  },
  {
   "cell_type": "code",
   "execution_count": null,
   "metadata": {},
   "outputs": [],
   "source": []
  }
 ],
 "metadata": {
  "kernelspec": {
   "display_name": "Python 3",
   "language": "python",
   "name": "python3"
  },
  "language_info": {
   "codemirror_mode": {
    "name": "ipython",
    "version": 3
   },
   "file_extension": ".py",
   "mimetype": "text/x-python",
   "name": "python",
   "nbconvert_exporter": "python",
   "pygments_lexer": "ipython3",
   "version": "3.7.6"
  }
 },
 "nbformat": 4,
 "nbformat_minor": 4
}
